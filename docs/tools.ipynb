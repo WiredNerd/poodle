{
 "cells": [
  {
   "cell_type": "code",
   "execution_count": null,
   "metadata": {},
   "outputs": [],
   "source": [
    "%pip install sphinx --upgrade\n",
    "%pip install -r requirements.txt --upgrade"
   ]
  },
  {
   "cell_type": "code",
   "execution_count": null,
   "metadata": {},
   "outputs": [],
   "source": [
    "# !rm -r build\n",
    "!del /S /Q build"
   ]
  },
  {
   "cell_type": "code",
   "execution_count": 9,
   "metadata": {},
   "outputs": [
    {
     "name": "stdout",
     "output_type": "stream",
     "text": [
      "Running Sphinx v7.2.6\n",
      "loading pickled environment... done\n",
      "myst v2.0.0: MdParserConfig(commonmark_only=False, gfm_only=False, enable_extensions={'strikethrough', 'dollarmath', 'html_image', 'attrs_inline', 'substitution', 'amsmath', 'linkify', 'smartquotes', 'tasklist', 'replacements', 'fieldlist', 'colon_fence', 'deflist', 'html_admonition'}, disable_syntax=[], all_links_external=False, url_schemes=('http', 'https', 'mailto', 'ftp'), ref_domains=None, fence_as_directive=set(), number_code_blocks=[], title_to_header=False, heading_anchors=6, heading_slug_func=None, html_meta={}, footnote_transition=True, words_per_minute=200, substitutions={}, linkify_fuzzy_links=False, dmath_allow_labels=True, dmath_allow_space=True, dmath_allow_digits=True, dmath_double_inline=False, update_mathjax=True, mathjax_classes='tex2jax_process|mathjax_process|math|output_area', enable_checkboxes=False, suppress_warnings=[], highlight_code_blocks=True)\n",
      "building [mo]: targets for 0 po files that are out of date\n",
      "writing output... \n",
      "building [html]: targets for 1 source files that are out of date\n",
      "updating environment: 0 added, 1 changed, 0 removed\n",
      "reading sources... [100%] usage\n",
      "\n",
      "looking for now-outdated files... none found\n",
      "pickling environment... done\n",
      "checking consistency... done\n",
      "preparing documents... done\n",
      "copying assets... copying static files... done\n",
      "copying extra files... done\n",
      "done\n",
      "writing output... [ 50%] index\n",
      "writing output... [100%] usage\n",
      "\n",
      "generating indices... genindex done\n",
      "writing additional pages... search done\n",
      "dumping search index in English (code: en)... done\n",
      "dumping object inventory... done\n",
      "build succeeded.\n",
      "\n",
      "The HTML pages are in build\\html.\n"
     ]
    }
   ],
   "source": [
    "!sphinx-build -M html source/ build/"
   ]
  },
  {
   "cell_type": "code",
   "execution_count": null,
   "metadata": {},
   "outputs": [],
   "source": [
    "!start build/html/index.html"
   ]
  },
  {
   "cell_type": "code",
   "execution_count": null,
   "metadata": {},
   "outputs": [],
   "source": []
  }
 ],
 "metadata": {
  "kernelspec": {
   "display_name": ".venv",
   "language": "python",
   "name": "python3"
  },
  "language_info": {
   "codemirror_mode": {
    "name": "ipython",
    "version": 3
   },
   "file_extension": ".py",
   "mimetype": "text/x-python",
   "name": "python",
   "nbconvert_exporter": "python",
   "pygments_lexer": "ipython3",
   "version": "3.12.0"
  }
 },
 "nbformat": 4,
 "nbformat_minor": 2
}
