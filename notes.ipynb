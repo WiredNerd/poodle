{
 "cells": [
  {
   "cell_type": "markdown",
   "metadata": {},
   "source": [
    "ast.unparse was added in 3.9\n",
    "\n",
    "If requested, could add library astunparse-fixed to unparse 3.8\n",
    "\n",
    "mutate raise from\n",
    "\n",
    "file level whitelists\n",
    "\n",
    "Assign Mutator: Assign to None or ' '\n",
    "\tSkip assign to string, num\n",
    "\t\n",
    "FuncCall inside args not being mutated config.py\n",
    "\n",
    "Arg Mutator: Replace with None or ' '\n",
    "\tSkip when arg is string, num, or func call\n",
    "\t\n",
    "If mutator: replace expression with True/False\n",
    "\texclude: if TYPE_CHECKING\n",
    "\n",
    "raise from: replace by removing from clause\n",
    "\n",
    "Decorator: instead of replacing func, replace only the decorator part"
   ]
  },
  {
   "cell_type": "code",
   "execution_count": null,
   "metadata": {},
   "outputs": [],
   "source": []
  }
 ],
 "metadata": {
  "kernelspec": {
   "display_name": ".venv",
   "language": "python",
   "name": "python3"
  },
  "language_info": {
   "codemirror_mode": {
    "name": "ipython",
    "version": 3
   },
   "file_extension": ".py",
   "mimetype": "text/x-python",
   "name": "python",
   "nbconvert_exporter": "python",
   "pygments_lexer": "ipython3",
   "version": "3.12.0"
  }
 },
 "nbformat": 4,
 "nbformat_minor": 2
}
