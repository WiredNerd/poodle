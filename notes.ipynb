{
 "cells": [
  {
   "cell_type": "markdown",
   "metadata": {},
   "source": [
    "# CLI\n",
    "\n",
    "```\n",
    "poodle [Files/Folders to mutate]\n",
    "    --runner {runner name or path}\n",
    "    --report {report name, repeatable}  # replaces default list of reporters\n",
    "    --max_parallel -P {number max parallel runners}\n",
    "    --base_folder_name {}\n",
    "```\n",
    "\n",
    "# Config \n",
    "\n",
    "## poodle_config.py\n",
    "```\n",
    "targets: list[str] = [File and Folder names to mutate]\n",
    "\n",
    "runner = Runner Name str or Runner Object\n",
    "\n",
    "# all mutators enabled by default ???\n",
    "register_mutators: dict = {\n",
    "    Name: object\n",
    "} \n",
    "disable_mutators: list[str] = [Names to disable]\n",
    "enable_mutators: list[str] = [Names to enable]\n",
    "\n",
    "# only enable sysout by default ???\n",
    "register_reporters = {\n",
    "    Name: object\n",
    "}\n",
    "disable_reporters: list[str] = [Names to disable]???\n",
    "enable_reporters: list[str] = [Names to enable]\n",
    "\n",
    "max_parallel: int = default to system.affil cup?\n",
    "\n",
    "base_folder: str = \"poodle-runner\"\n",
    "```\n",
    "\n",
    "# files\n",
    "cli.py\n",
    "* Responsible for CLI interface and calling core.\n",
    "core.py\n",
    "* Resolve configuration (defaults, poodle_config.py, toml, args)\n",
    "* Init Mutators\n",
    "* Find list of \".py\" files to mutate\n",
    "* Parse Py file, pass to each mutator, build list of PoodleMutant objects\n",
    "* Create pool of Runners\n",
    "* As each runner is available, call with PoodleMutant, aggregate results\n",
    "* Print out current status every few seconds\n",
    "* When all done, Init and call Reporter\n",
    "\n",
    "# Mutator\n",
    "* If class, will init with kwargs: poodle_config: dict\n",
    "* create_mutants(module: ast.Module, poodle_config: dict) -> list or generator? [ast.Module or PoodleMutant?]\n",
    "\n",
    "# Runner\n",
    "* Must be class, will init with kwargs: folder: Path, poodle_config: dict\n",
    "* test_mutation(mutant: PoodleMutant, timeout_s: int) -> (pass: bool, timeout: bool, reason: str | None)\n",
    "\n",
    "# Reporter\n",
    "* If class, will init with kwargs: poodle_config: dict\n",
    "* create_report(report: PoodleReport, poodle_config: dict)\n"
   ]
  },
  {
   "cell_type": "markdown",
   "metadata": {},
   "source": [
    "ast.unparse was added in 3.9\n",
    "\n",
    "If requested, could add library astunparse-fixed to unparse 3.8"
   ]
  },
  {
   "cell_type": "code",
   "execution_count": null,
   "metadata": {},
   "outputs": [],
   "source": [
    "import ast, json\n",
    "\n",
    "print(ast.dump(ast.parse('a = b = 1'), indent=4))\n",
    "\n",
    "print(ast.dump(ast.parse('a = 1'), indent=4))"
   ]
  },
  {
   "cell_type": "code",
   "execution_count": null,
   "metadata": {},
   "outputs": [],
   "source": [
    "from copy import deepcopy\n",
    "m = ast.parse('1<x<=3')\n",
    "\n",
    "m2 = deepcopy(m)\n",
    "m2.body[0].value.ops[0] = ast.Gt()\n",
    "\n",
    "print(ast.unparse(m))\n",
    "print(ast.dump(m, indent=4))\n",
    "print(ast.unparse(m2))\n",
    "print(ast.dump(m2, indent=4))"
   ]
  },
  {
   "cell_type": "code",
   "execution_count": null,
   "metadata": {},
   "outputs": [],
   "source": []
  }
 ],
 "metadata": {
  "kernelspec": {
   "display_name": ".venv",
   "language": "python",
   "name": "python3"
  },
  "language_info": {
   "codemirror_mode": {
    "name": "ipython",
    "version": 3
   },
   "file_extension": ".py",
   "mimetype": "text/x-python",
   "name": "python",
   "nbconvert_exporter": "python",
   "pygments_lexer": "ipython3",
   "version": "3.11.5"
  }
 },
 "nbformat": 4,
 "nbformat_minor": 2
}
