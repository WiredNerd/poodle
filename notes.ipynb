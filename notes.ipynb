{
 "cells": [
  {
   "cell_type": "markdown",
   "metadata": {},
   "source": [
    "ast.unparse was added in 3.9\n",
    "\n",
    "If requested, could add library astunparse-fixed to unparse 3.8\n",
    "\n",
    "raise from"
   ]
  },
  {
   "cell_type": "code",
   "execution_count": null,
   "metadata": {},
   "outputs": [],
   "source": [
    "import ast\n",
    "import functools\n",
    "from copy import copy, deepcopy\n",
    "from pathlib import Path\n",
    "\n",
    "\n",
    "def decorator(func):\n",
    "    @functools.wraps(func)\n",
    "    def wrapper(*args, **kwargs):\n",
    "        print(\"running wrapper\")\n",
    "        return func(*args, **kwargs)\n",
    "\n",
    "    return wrapper\n",
    "\n",
    "\n",
    "@decorator\n",
    "def ex_function():\n",
    "    print(\"running ex_function\")\n",
    "\n",
    "\n",
    "ex_function()\n",
    "\n",
    "# m = ast.parse(Path('src/poodle/cli.py').read_bytes())\n",
    "\n",
    "\"\"\"\n",
    "import functools\n",
    "\n",
    "def decorator(func):\n",
    "    @functools.wraps(func)\n",
    "    def wrapper(*args, **kwargs):\n",
    "        print(\"running wrapper\")\n",
    "        return func(*args, **kwargs)\n",
    "    return wrapper\n",
    "\n",
    "@decorator\n",
    "def ex_function():\n",
    "    print(\"running ex_function\")\n",
    "\n",
    "ex_function()\n",
    "\"\"\"\n",
    "\n",
    "value = \"\"\"\n",
    "def func(x):\n",
    "    if x:\n",
    "        return x\n",
    "    else:\n",
    "        return None\n",
    "\"\"\"\n",
    "\n",
    "\"lambda x: None\"\n",
    "\n",
    "m = ast.parse(value)\n",
    "\n",
    "for node in ast.walk(m):\n",
    "    for child in ast.iter_child_nodes(node):\n",
    "        child.parent = node\n",
    "\n",
    "\n",
    "\n",
    "print(ast.dump(m, indent=4))\n",
    "\n",
    "for node in ast.walk(m):\n",
    "    print(type(node), vars(node))\n",
    "\n",
    "# c: ast.Constant = m.body[0].value\n",
    "# print(type(c.value))\n",
    "# print(c.value)\n",
    "# print(vars(c))\n",
    "# print(ast.unparse(m))"
   ]
  },
  {
   "cell_type": "code",
   "execution_count": null,
   "metadata": {},
   "outputs": [],
   "source": [
    "from copy import deepcopy\n",
    "import ast\n",
    "# m = ast.parse('x += 1',mode='eval')\n",
    "m = ast.parse(\"a = '3'\")\n",
    "\n",
    "print(ast.dump(m, indent=4))\n",
    "\n",
    "for node in ast.walk(m):\n",
    "    print(type(node), vars(node))\n",
    "\n",
    "m.body[0].value.value='XX\"3\"XX'\n",
    "print(ast.unparse(m.body[0].value))\n"
   ]
  },
  {
   "cell_type": "code",
   "execution_count": null,
   "metadata": {},
   "outputs": [],
   "source": [
    "from difflib import Differ\n",
    "from pathlib import Path\n",
    "import difflib\n",
    "from copy import deepcopy\n",
    "differ = Differ()\n",
    "file_lines = Path(\"src/poodle/run.py\").read_text().splitlines()\n",
    "# mut_lines = deepcopy(file_lines)\n",
    "# mut_lines[182]  = \"    return None\"\n",
    "\n",
    "list(difflib.unified_diff(file_lines,file_lines, fromfile=\"run.py\", tofile=\"run.py\", lineterm=\"\"))"
   ]
  },
  {
   "cell_type": "code",
   "execution_count": null,
   "metadata": {},
   "outputs": [],
   "source": []
  }
 ],
 "metadata": {
  "kernelspec": {
   "display_name": ".venv",
   "language": "python",
   "name": "python3"
  },
  "language_info": {
   "codemirror_mode": {
    "name": "ipython",
    "version": 3
   },
   "file_extension": ".py",
   "mimetype": "text/x-python",
   "name": "python",
   "nbconvert_exporter": "python",
   "pygments_lexer": "ipython3",
   "version": "3.12.0"
  }
 },
 "nbformat": 4,
 "nbformat_minor": 2
}
