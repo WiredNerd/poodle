{
 "cells": [
  {
   "cell_type": "markdown",
   "metadata": {},
   "source": [
    "# CLI\n",
    "\n",
    "```\n",
    "poodle [Files/Folders to mutate]\n",
    "    --runner {runner name or path}\n",
    "    --report {report name, repeatable}  # replaces default list of reporters\n",
    "    --max_parallel -P {number max parallel runners}\n",
    "    --base_folder_name {}\n",
    "```\n",
    "\n",
    "# Config \n",
    "\n",
    "## poodle_config.py\n",
    "```\n",
    "targets: list[str] = [File and Folder names to mutate]\n",
    "\n",
    "runner = Runner Name str or Runner Object\n",
    "\n",
    "# all mutators enabled by default ???\n",
    "register_mutators: dict = {\n",
    "    Name: object\n",
    "} \n",
    "disable_mutators: list[str] = [Names to disable]\n",
    "enable_mutators: list[str] = [Names to enable]\n",
    "\n",
    "# only enable sysout by default ???\n",
    "register_reporters = {\n",
    "    Name: object\n",
    "}\n",
    "disable_reporters: list[str] = [Names to disable]???\n",
    "enable_reporters: list[str] = [Names to enable]\n",
    "\n",
    "max_parallel: int = default to system.affil cup?\n",
    "\n",
    "base_folder: str = \"poodle-runner\"\n",
    "```\n",
    "\n",
    "# files\n",
    "cli.py\n",
    "* Responsible for CLI interface and calling core.\n",
    "core.py\n",
    "* Resolve configuration (defaults, poodle_config.py, toml, args)\n",
    "* Init Mutators\n",
    "* Find list of \".py\" files to mutate\n",
    "* Parse Py file, pass to each mutator, build list of PoodleMutant objects\n",
    "* Create pool of Runners\n",
    "* As each runner is available, call with PoodleMutant, aggregate results\n",
    "* Print out current status every few seconds\n",
    "* When all done, Init and call Reporter\n",
    "\n",
    "# Mutator\n",
    "* If class, will init with kwargs: poodle_config: dict\n",
    "* create_mutants(module: ast.Module, poodle_config: dict) -> list or generator? [ast.Module or PoodleMutant?]\n",
    "\n",
    "# Runner\n",
    "* Must be class, will init with kwargs: folder: Path, poodle_config: dict\n",
    "* test_mutation(mutant: PoodleMutant, timeout_s: int) -> (pass: bool, timeout: bool, reason: str | None)\n",
    "\n",
    "# Reporter\n",
    "* If class, will init with kwargs: poodle_config: dict\n",
    "* create_report(report: PoodleReport, poodle_config: dict)\n"
   ]
  },
  {
   "cell_type": "code",
   "execution_count": null,
   "metadata": {},
   "outputs": [],
   "source": []
  },
  {
   "cell_type": "code",
   "execution_count": null,
   "metadata": {},
   "outputs": [],
   "source": [
    "import ast\n",
    "from pathlib import Path\n",
    "from pprint import pprint\n",
    "\n",
    "file = \"example/src/operators.py\"\n",
    "\n",
    "module = ast.parse(Path(file).read_bytes(), file)\n",
    "# pprint(ast.dump(m,indent=4))\n",
    "\n",
    "# {type(node) for node in ast.walk(module) if not hasattr(node,\"lineno\")}\n",
    "\n",
    "for node in ast.walk(module):\n",
    "    print(\n",
    "        (\n",
    "            type(node),\n",
    "            node.lineno if hasattr(node,\"lineno\") else None,\n",
    "            node.col_offset if hasattr(node,\"col_offset\") else None,\n",
    "            node.end_lineno if hasattr(node,\"end_lineno\") else None,\n",
    "            node.end_col_offset if hasattr(node,\"end_col_offset\") else None,\n",
    "        )\n",
    "    )"
   ]
  },
  {
   "cell_type": "code",
   "execution_count": null,
   "metadata": {},
   "outputs": [],
   "source": [
    "import ast\n",
    "from ast import Add, BinOp, Sub\n",
    "from copy import deepcopy\n",
    "from pprint import pprint\n",
    "\n",
    "mod = ast.parse(\"a = 1 + 2 - 3\")\n",
    "# pprint(ast.dump(mod, indent=4))\n",
    "\n",
    "mod_c = deepcopy(mod)\n",
    "for node in ast.walk(deepcopy(mod_c)):\n",
    "    if type(node) == BinOp and type(node.op) == Add:\n",
    "        op = Sub\n",
    "        node.op = op()\n",
    "        print((ast.unparse(node), node.col_offset, node.end_col_offset, node.lineno, node.end_lineno))\n",
    "\n",
    "# pprint(ast.dump(mod_c, indent=4))\n",
    "# ast.unparse(mod_c)\n",
    "# ast.unparse(mod)"
   ]
  },
  {
   "cell_type": "code",
   "execution_count": null,
   "metadata": {},
   "outputs": [],
   "source": [
    "import os\n",
    "os.getcwd().split(os.sep)[-1]"
   ]
  },
  {
   "cell_type": "code",
   "execution_count": null,
   "metadata": {},
   "outputs": [],
   "source": [
    "os.getcwd().split(os.sep)"
   ]
  },
  {
   "cell_type": "code",
   "execution_count": null,
   "metadata": {},
   "outputs": [],
   "source": [
    "from pathlib import Path\n",
    "\n",
    "p = Path(\"src/poodle/core.py\")\n",
    "\n"
   ]
  },
  {
   "cell_type": "code",
   "execution_count": null,
   "metadata": {},
   "outputs": [],
   "source": [
    "from pathlib import Path\n",
    "from pprint import pprint\n",
    "\n",
    "# 2,11,2,16\n",
    "\n",
    "\n",
    "file_text = Path(\"example/src/operators.py\").read_text()\n",
    "file_lines = file_text.splitlines(True)\n",
    "\n",
    "prefix = file_lines[2 -1][0:11]\n",
    "suffix = file_lines[2 -1][16:]\n",
    "mod = 'x - y'\n",
    "\n",
    "file_lines[2-1] = prefix + mod + suffix\n",
    "for _ in range(2, 3):\n",
    "    file_lines.pop(2)\n",
    "# file_lines.pop(2)\n",
    "\n",
    "pprint(file_lines[0:5])\n",
    "print(\"\".join(file_lines)[:200])"
   ]
  },
  {
   "cell_type": "code",
   "execution_count": null,
   "metadata": {},
   "outputs": [],
   "source": [
    "!set PYTHONPATH=%CD%/src\n",
    "\n",
    "import ast\n",
    "from pathlib import Path\n",
    "from pprint import pprint\n",
    "import importlib\n",
    "\n",
    "from poodle import mutators \n",
    "\n",
    "importlib.reload(mutators)\n",
    "\n",
    "file = Path(\"example/src/operators.py\")\n",
    "parsed = ast.parse(file.read_bytes(), file)\n",
    "\n",
    "pprint(ast.dump(parsed, indent=4))\n",
    "\n",
    "bom = mutators.BinaryOperationMutator(None)\n",
    "# pprint(bom.visit_BinOp(ast.BinOp(left=ast.Constant(4),op=ast.Add(),right=ast.Constant(5),lineno=1,col_offset=1,end_lineno=1,end_col_offset=1,)))\n",
    "pprint(bom.create_mutants(parsed))"
   ]
  },
  {
   "cell_type": "code",
   "execution_count": null,
   "metadata": {},
   "outputs": [],
   "source": []
  }
 ],
 "metadata": {
  "kernelspec": {
   "display_name": ".venv",
   "language": "python",
   "name": "python3"
  },
  "language_info": {
   "codemirror_mode": {
    "name": "ipython",
    "version": 3
   },
   "file_extension": ".py",
   "mimetype": "text/x-python",
   "name": "python",
   "nbconvert_exporter": "python",
   "pygments_lexer": "ipython3",
   "version": "3.11.5"
  }
 },
 "nbformat": 4,
 "nbformat_minor": 2
}
