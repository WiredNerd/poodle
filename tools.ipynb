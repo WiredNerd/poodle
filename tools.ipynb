{
 "cells": [
  {
   "cell_type": "code",
   "execution_count": 151,
   "metadata": {},
   "outputs": [
    {
     "name": "stdout",
     "output_type": "stream",
     "text": [
      "Python 3.12.0\n",
      "Requirement already satisfied: pip in c:\\devpy\\poodle\\.venv\\lib\\site-packages (23.3.1)\n",
      "Requirement already satisfied: click>=8 in c:\\devpy\\poodle\\.venv\\lib\\site-packages (from -r requirements.txt (line 1)) (8.1.7)\n",
      "Requirement already satisfied: tomli>=2 in c:\\devpy\\poodle\\.venv\\lib\\site-packages (from -r requirements.txt (line 2)) (2.0.1)\n",
      "Requirement already satisfied: wcmatch>=8.5 in c:\\devpy\\poodle\\.venv\\lib\\site-packages (from -r requirements.txt (line 3)) (8.5)\n",
      "Requirement already satisfied: pytest in c:\\devpy\\poodle\\.venv\\lib\\site-packages (from -r requirements.txt (line 5)) (7.4.3)\n",
      "Requirement already satisfied: pytest-sort in c:\\devpy\\poodle\\.venv\\lib\\site-packages (from -r requirements.txt (line 6)) (1.2.2)\n",
      "Requirement already satisfied: pytest-cov in c:\\devpy\\poodle\\.venv\\lib\\site-packages (from -r requirements.txt (line 7)) (4.1.0)\n",
      "Requirement already satisfied: colorama in c:\\devpy\\poodle\\.venv\\lib\\site-packages (from click>=8->-r requirements.txt (line 1)) (0.4.6)\n",
      "Requirement already satisfied: bracex>=2.1.1 in c:\\devpy\\poodle\\.venv\\lib\\site-packages (from wcmatch>=8.5->-r requirements.txt (line 3)) (2.4)\n",
      "Requirement already satisfied: iniconfig in c:\\devpy\\poodle\\.venv\\lib\\site-packages (from pytest->-r requirements.txt (line 5)) (2.0.0)\n",
      "Requirement already satisfied: packaging in c:\\devpy\\poodle\\.venv\\lib\\site-packages (from pytest->-r requirements.txt (line 5)) (23.2)\n",
      "Requirement already satisfied: pluggy<2.0,>=0.12 in c:\\devpy\\poodle\\.venv\\lib\\site-packages (from pytest->-r requirements.txt (line 5)) (1.3.0)\n",
      "Requirement already satisfied: whatthepatch>=1.0.5 in c:\\devpy\\poodle\\.venv\\lib\\site-packages (from pytest-sort->-r requirements.txt (line 6)) (1.0.5)\n",
      "Requirement already satisfied: coverage>=7.3.1 in c:\\devpy\\poodle\\.venv\\lib\\site-packages (from pytest-sort->-r requirements.txt (line 6)) (7.3.2)\n",
      "Note: you may need to restart the kernel to use updated packages.\n",
      "Requirement already satisfied: isort in c:\\devpy\\poodle\\.venv\\lib\\site-packages (5.13.0)\n",
      "Requirement already satisfied: black in c:\\devpy\\poodle\\.venv\\lib\\site-packages (23.11.0)\n",
      "Requirement already satisfied: mypy in c:\\devpy\\poodle\\.venv\\lib\\site-packages (1.7.1)\n",
      "Requirement already satisfied: ruff in c:\\devpy\\poodle\\.venv\\lib\\site-packages (0.1.7)\n",
      "Requirement already satisfied: pip-api in c:\\devpy\\poodle\\.venv\\lib\\site-packages (from isort) (0.0.30)\n",
      "Requirement already satisfied: pipreqs in c:\\devpy\\poodle\\.venv\\lib\\site-packages (from isort) (0.4.13)\n",
      "Requirement already satisfied: requirementslib in c:\\devpy\\poodle\\.venv\\lib\\site-packages (from isort) (3.0.0)\n",
      "Requirement already satisfied: click>=8.0.0 in c:\\devpy\\poodle\\.venv\\lib\\site-packages (from black) (8.1.7)\n",
      "Requirement already satisfied: mypy-extensions>=0.4.3 in c:\\devpy\\poodle\\.venv\\lib\\site-packages (from black) (1.0.0)\n",
      "Requirement already satisfied: packaging>=22.0 in c:\\devpy\\poodle\\.venv\\lib\\site-packages (from black) (23.2)\n",
      "Requirement already satisfied: pathspec>=0.9.0 in c:\\devpy\\poodle\\.venv\\lib\\site-packages (from black) (0.11.2)\n",
      "Requirement already satisfied: platformdirs>=2 in c:\\devpy\\poodle\\.venv\\lib\\site-packages (from black) (4.0.0)\n",
      "Requirement already satisfied: typing-extensions>=4.1.0 in c:\\devpy\\poodle\\.venv\\lib\\site-packages (from mypy) (4.8.0)\n",
      "Requirement already satisfied: colorama in c:\\devpy\\poodle\\.venv\\lib\\site-packages (from click>=8.0.0->black) (0.4.6)\n",
      "Requirement already satisfied: pip in c:\\devpy\\poodle\\.venv\\lib\\site-packages (from pip-api->isort) (23.3.1)\n",
      "Requirement already satisfied: docopt in c:\\devpy\\poodle\\.venv\\lib\\site-packages (from pipreqs->isort) (0.6.2)\n",
      "Requirement already satisfied: yarg in c:\\devpy\\poodle\\.venv\\lib\\site-packages (from pipreqs->isort) (0.1.9)\n",
      "Requirement already satisfied: distlib>=0.2.8 in c:\\devpy\\poodle\\.venv\\lib\\site-packages (from requirementslib->isort) (0.3.7)\n",
      "Requirement already satisfied: pep517>=0.5.0 in c:\\devpy\\poodle\\.venv\\lib\\site-packages (from requirementslib->isort) (0.13.1)\n",
      "Requirement already satisfied: plette[validation] in c:\\devpy\\poodle\\.venv\\lib\\site-packages (from requirementslib->isort) (0.4.4)\n",
      "Requirement already satisfied: pydantic in c:\\devpy\\poodle\\.venv\\lib\\site-packages (from requirementslib->isort) (2.5.2)\n",
      "Requirement already satisfied: requests in c:\\devpy\\poodle\\.venv\\lib\\site-packages (from requirementslib->isort) (2.31.0)\n",
      "Requirement already satisfied: setuptools>=40.8 in c:\\devpy\\poodle\\.venv\\lib\\site-packages (from requirementslib->isort) (69.0.2)\n",
      "Requirement already satisfied: tomlkit>=0.5.3 in c:\\devpy\\poodle\\.venv\\lib\\site-packages (from requirementslib->isort) (0.12.3)\n",
      "Requirement already satisfied: cerberus in c:\\devpy\\poodle\\.venv\\lib\\site-packages (from plette[validation]->requirementslib->isort) (1.3.5)\n",
      "Requirement already satisfied: annotated-types>=0.4.0 in c:\\devpy\\poodle\\.venv\\lib\\site-packages (from pydantic->requirementslib->isort) (0.6.0)\n",
      "Requirement already satisfied: pydantic-core==2.14.5 in c:\\devpy\\poodle\\.venv\\lib\\site-packages (from pydantic->requirementslib->isort) (2.14.5)\n",
      "Requirement already satisfied: charset-normalizer<4,>=2 in c:\\devpy\\poodle\\.venv\\lib\\site-packages (from requests->requirementslib->isort) (3.3.2)\n",
      "Requirement already satisfied: idna<4,>=2.5 in c:\\devpy\\poodle\\.venv\\lib\\site-packages (from requests->requirementslib->isort) (3.6)\n",
      "Requirement already satisfied: urllib3<3,>=1.21.1 in c:\\devpy\\poodle\\.venv\\lib\\site-packages (from requests->requirementslib->isort) (2.1.0)\n",
      "Requirement already satisfied: certifi>=2017.4.17 in c:\\devpy\\poodle\\.venv\\lib\\site-packages (from requests->requirementslib->isort) (2023.11.17)\n",
      "Note: you may need to restart the kernel to use updated packages.\n"
     ]
    }
   ],
   "source": [
    "!python.exe --version\n",
    "!python.exe -m pip install --upgrade pip\n",
    "%pip install -r requirements.txt --upgrade\n",
    "%pip install isort black mypy ruff --upgrade"
   ]
  },
  {
   "cell_type": "code",
   "execution_count": 152,
   "metadata": {},
   "outputs": [
    {
     "name": "stdout",
     "output_type": "stream",
     "text": [
      "Obtaining file:///C:/DEVPY/poodle\n",
      "  Installing build dependencies: started\n",
      "  Installing build dependencies: finished with status 'done'\n",
      "  Checking if build backend supports build_editable: started\n",
      "  Checking if build backend supports build_editable: finished with status 'done'\n",
      "  Getting requirements to build editable: started\n",
      "  Getting requirements to build editable: finished with status 'done'\n",
      "  Installing backend dependencies: started\n",
      "  Installing backend dependencies: finished with status 'done'\n",
      "  Preparing editable metadata (pyproject.toml): started\n",
      "  Preparing editable metadata (pyproject.toml): finished with status 'done'\n",
      "Requirement already satisfied: click>=8 in c:\\devpy\\poodle\\.venv\\lib\\site-packages (from poodle-test==0.0.1a6) (8.1.7)\n",
      "Requirement already satisfied: wcmatch>=8.5 in c:\\devpy\\poodle\\.venv\\lib\\site-packages (from poodle-test==0.0.1a6) (8.5)\n",
      "Requirement already satisfied: colorama in c:\\devpy\\poodle\\.venv\\lib\\site-packages (from click>=8->poodle-test==0.0.1a6) (0.4.6)\n",
      "Requirement already satisfied: bracex>=2.1.1 in c:\\devpy\\poodle\\.venv\\lib\\site-packages (from wcmatch>=8.5->poodle-test==0.0.1a6) (2.4)\n",
      "Building wheels for collected packages: poodle-test\n",
      "  Building editable for poodle-test (pyproject.toml): started\n",
      "  Building editable for poodle-test (pyproject.toml): finished with status 'done'\n",
      "  Created wheel for poodle-test: filename=poodle_test-0.0.1a6-0.editable-py3-none-any.whl size=4527 sha256=da2333dcb57c45b94b41992c12131a52d85194cc69c1f35675a91f1399846e6d\n",
      "  Stored in directory: C:\\Users\\busch\\AppData\\Local\\Temp\\pip-ephem-wheel-cache-5non4ean\\wheels\\86\\18\\3a\\05f6a9c88398b1b8b3d24332aeb41a5077fcc95bf10820a6ce\n",
      "Successfully built poodle-test\n",
      "Installing collected packages: poodle-test\n",
      "  Attempting uninstall: poodle-test\n",
      "    Found existing installation: poodle-test 0.0.1a6\n",
      "    Uninstalling poodle-test-0.0.1a6:\n",
      "      Successfully uninstalled poodle-test-0.0.1a6\n",
      "Successfully installed poodle-test-0.0.1a6\n",
      "Note: you may need to restart the kernel to use updated packages.\n"
     ]
    }
   ],
   "source": [
    "%pip install --editable ."
   ]
  },
  {
   "cell_type": "code",
   "execution_count": 153,
   "metadata": {},
   "outputs": [
    {
     "name": "stdout",
     "output_type": "stream",
     "text": [
      "\u001b[1m============================= test session starts =============================\u001b[0m\n",
      "platform win32 -- Python 3.12.0, pytest-7.4.3, pluggy-1.3.0 -- c:\\DEVPY\\poodle\\.venv\\Scripts\\python.exe\n",
      "cachedir: .pytest_cache\n",
      "pytest-sort:\n",
      "  sort-mode: random\n",
      "  sort-bucket: session\n",
      "  sort-seed: 441896\n",
      "rootdir: c:\\DEVPY\\poodle\n",
      "configfile: pyproject.toml\n",
      "testpaths: tests\n",
      "plugins: anyio-4.1.0, cov-4.1.0, sort-1.2.2\n",
      "\u001b[1mcollecting ... \u001b[0mcollected 323 items\n",
      "\n",
      "tests/mutators/test_constant.py::TestNumberMutator::test_create_mutations[0o3-mutants1] \u001b[32mPASSED\u001b[0m\u001b[32m [  0%]\u001b[0m\n",
      "tests/test_config.py::TestGetStrFromConfig::test_default \u001b[32mPASSED\u001b[0m\u001b[32m          [  0%]\u001b[0m\n",
      "tests/runners/test_command_line.py::TestCommandLineRunner::test_rc_2 \u001b[32mPASSED\u001b[0m\u001b[32m [  0%]\u001b[0m\n",
      "tests/mutators/test_operators.py::TestBinaryOperationMutator::test_visit_BinOp_level_min[Sub-text_out1] \u001b[32mPASSED\u001b[0m\u001b[32m [  1%]\u001b[0m\n",
      "tests/mutators/test_operators.py::TestBinaryOperationMutator::test_visit_BinOp_level_std[MatMult-text_out12] \u001b[32mPASSED\u001b[0m\u001b[32m [  1%]\u001b[0m\n",
      "tests/test_mutate.py::TestInit::test_initialize_mutator_class \u001b[32mPASSED\u001b[0m\u001b[32m     [  1%]\u001b[0m\n",
      "tests/test_mutate.py::TestFilter::test_is_filtered[mutation_args17-mutators17-False] \u001b[32mPASSED\u001b[0m\u001b[32m [  2%]\u001b[0m\n",
      "tests/data_types/test_interfaces.py::TestMutator::test_get_location_eq_end_lineno_gt_end_col \u001b[32mPASSED\u001b[0m\u001b[32m [  2%]\u001b[0m\n",
      "tests/test_config.py::TestGetPathFromConfig::test_default_inputs \u001b[32mPASSED\u001b[0m\u001b[32m  [  2%]\u001b[0m\n",
      "tests/test_mutate.py::TestFilter::test_is_filtered[mutation_args5-mutators5-False] \u001b[32mPASSED\u001b[0m\u001b[32m [  3%]\u001b[0m\n",
      "tests/mutators/test_calls.py::TestLambdaReturnMutator::test_mutator_name \u001b[32mPASSED\u001b[0m\u001b[32m [  3%]\u001b[0m\n",
      "tests/test_report.py::TestReporters::test_builtin_reporters \u001b[32mPASSED\u001b[0m\u001b[32m       [  3%]\u001b[0m\n",
      "tests/test_config.py::TestGetBoolFromConfig::test_values[None-True-True] \u001b[32mPASSED\u001b[0m\u001b[32m [  4%]\u001b[0m\n",
      "tests/data_types/test_work.py::TestPoodleWork::test_poodle_work \u001b[32mPASSED\u001b[0m\u001b[32m   [  4%]\u001b[0m\n",
      "tests/test_core.py::TestTimeout::test_calc_timeout \u001b[32mPASSED\u001b[0m\u001b[32m                [  4%]\u001b[0m\n",
      "tests/test_config.py::TestGetPathFromConfig::test_empty_string \u001b[32mPASSED\u001b[0m\u001b[32m    [  4%]\u001b[0m\n",
      "tests/mutators/test_operators.py::TestBinaryOperationMutator::test_visit_BinOp_level_max[FloorDiv-text_out4] \u001b[32mPASSED\u001b[0m\u001b[32m [  5%]\u001b[0m\n",
      "tests/mutators/test_constant.py::TestKeywordMutator::test_create_mutations[continue-mutants0] \u001b[32mPASSED\u001b[0m\u001b[32m [  5%]\u001b[0m\n",
      "tests/mutators/test_operators.py::TestAugAssignMutator::test_visit_AugAssign_level_min[Pow-text_out6] \u001b[32mPASSED\u001b[0m\u001b[32m [  5%]\u001b[0m\n",
      "tests/test_config.py::TestGetAnyFromConfig::test_default_inputs \u001b[32mPASSED\u001b[0m\u001b[32m   [  6%]\u001b[0m\n",
      "tests/test_mutate.py::TestFilter::test_is_filtered[mutation_args13-mutators13-False] \u001b[32mPASSED\u001b[0m\u001b[32m [  6%]\u001b[0m\n",
      "tests/mutators/test_constant.py::TestStringMutator::test_create_mutations_single_quote \u001b[32mPASSED\u001b[0m\u001b[32m [  6%]\u001b[0m\n",
      "tests/mutators/test_constant.py::TestKeywordMutator::test_create_mutations[False-mutants2] \u001b[32mPASSED\u001b[0m\u001b[32m [  7%]\u001b[0m\n",
      "tests/mutators/test_operators.py::TestBinaryOperationMutator::test_visit_BinOp_level_min[Mod-text_out5] \u001b[32mPASSED\u001b[0m\u001b[32m [  7%]\u001b[0m\n",
      "tests/runners/test_command_line.py::TestCommandLineRunner::test_runner \u001b[32mPASSED\u001b[0m\u001b[32m [  7%]\u001b[0m\n",
      "tests/test_config.py::TestGetStrListFromConfig::test_string_list \u001b[32mPASSED\u001b[0m\u001b[32m  [  8%]\u001b[0m\n",
      "tests/test_config.py::TestGetIntFromConfig::test_default \u001b[32mPASSED\u001b[0m\u001b[32m          [  8%]\u001b[0m\n",
      "tests/mutators/test_compare.py::TestComparisonMutator::test_init \u001b[32mPASSED\u001b[0m\u001b[32m  [  8%]\u001b[0m\n",
      "tests/test_config.py::TestGetStrListFromConfig::test_string_list_convert \u001b[32mPASSED\u001b[0m\u001b[32m [  8%]\u001b[0m\n",
      "tests/mutators/test_unary_op.py::TestUnaryOperationMutator::test_create_mutations[not a-a] \u001b[32mPASSED\u001b[0m\u001b[32m [  9%]\u001b[0m\n",
      "tests/mutators/test_compare.py::TestComparisonMutator::test_is_annotation \u001b[32mPASSED\u001b[0m\u001b[32m [  9%]\u001b[0m\n",
      "tests/test_config.py::TestGetConfigFilePath::test_get_config_file_path_poodle \u001b[32mPASSED\u001b[0m\u001b[32m [  9%]\u001b[0m\n",
      "tests/data_types/test_work.py::TestEchoWrapper::test_echo_no_color \u001b[32mPASSED\u001b[0m\u001b[32m [ 10%]\u001b[0m\n",
      "tests/mutators/test_operators.py::TestAugAssignMutator::test_visit_AugAssign_level_max[BitXor-text_out10] \u001b[32mPASSED\u001b[0m\u001b[32m [ 10%]\u001b[0m\n",
      "tests/test_config.py::TestGetDictFromConfig::test_config_data \u001b[32mPASSED\u001b[0m\u001b[32m     [ 10%]\u001b[0m\n",
      "tests/test_config.py::TestGetStrListFromConfig::test_string \u001b[32mPASSED\u001b[0m\u001b[32m       [ 11%]\u001b[0m\n",
      "tests/test_config.py::TestGetCommandLineLoggingOptions::test_get_cmd_line_log_level[0-0-None] \u001b[32mPASSED\u001b[0m\u001b[32m [ 11%]\u001b[0m\n",
      "tests/test_mutate.py::TestFilter::test_is_filtered[mutation_args12-mutators12-False] \u001b[32mPASSED\u001b[0m\u001b[32m [ 11%]\u001b[0m\n",
      "tests/test_mutate.py::TestFilter::test_is_filtered[mutation_args4-mutators4-False] \u001b[32mPASSED\u001b[0m\u001b[32m [ 12%]\u001b[0m\n",
      "tests/test_mutate.py::TestInit::test_initialize_mutator_str_class \u001b[32mPASSED\u001b[0m\u001b[32m [ 12%]\u001b[0m\n",
      "tests/mutators/test_operators.py::TestBinaryOperationMutator::test_visit_BinOp_level_std[LShift-text_out8] \u001b[32mPASSED\u001b[0m\u001b[32m [ 12%]\u001b[0m\n",
      "tests/test_mutate.py::TestFilter::test_is_filtered[mutation_args3-mutators3-True] \u001b[32mPASSED\u001b[0m\u001b[32m [ 13%]\u001b[0m\n",
      "tests/mutators/test_operators.py::TestAugAssignMutator::test_visit_AugAssign_level_max[LShift-text_out8] \u001b[32mPASSED\u001b[0m\u001b[32m [ 13%]\u001b[0m\n",
      "tests/mutators/test_compare.py::TestComparisonMutator::test_create_mutations_eq[a < b-mutants1] \u001b[32mPASSED\u001b[0m\u001b[32m [ 13%]\u001b[0m\n",
      "tests/test_config.py::TestGetOptionFromConfig::test_get_command_line_value \u001b[32mPASSED\u001b[0m\u001b[32m [ 13%]\u001b[0m\n",
      "tests/data_types/test_interfaces.py::TestMutator::test_add_parent_attr \u001b[32mPASSED\u001b[0m\u001b[32m [ 14%]\u001b[0m\n",
      "tests/data_types/test_interfaces.py::TestMutator::test_abstract \u001b[32mPASSED\u001b[0m\u001b[32m   [ 14%]\u001b[0m\n",
      "tests/test_util.py::test_logger \u001b[32mPASSED\u001b[0m\u001b[32m                                   [ 14%]\u001b[0m\n",
      "tests/test_config.py::TestGetOptionFromConfig::test_get_poodle_config_value \u001b[32mPASSED\u001b[0m\u001b[32m [ 15%]\u001b[0m\n",
      "tests/mutators/test_operators.py::TestAugAssignMutator::test_visit_AugAssign_level_std[FloorDiv-text_out4] \u001b[32mPASSED\u001b[0m\u001b[32m [ 15%]\u001b[0m\n",
      "tests/mutators/test_constant.py::TestKeywordMutator::test_create_mutations[break-mutants1] \u001b[32mPASSED\u001b[0m\u001b[32m [ 15%]\u001b[0m\n",
      "tests/test_config.py::TestGetAnyFromConfig::test_return_value \u001b[32mPASSED\u001b[0m\u001b[32m     [ 16%]\u001b[0m\n",
      "tests/test_config.py::TestGetPathListFromConfig::test_string \u001b[32mPASSED\u001b[0m\u001b[32m      [ 16%]\u001b[0m\n",
      "tests/mutators/test_calls.py::TestLambdaReturnMutator::test_lambda_return_mutator \u001b[32mPASSED\u001b[0m\u001b[32m [ 16%]\u001b[0m\n",
      "tests/test_config.py::TestGetConfigFilePath::test_get_config_file_path_poodle_config_err \u001b[32mPASSED\u001b[0m\u001b[32m [ 17%]\u001b[0m\n",
      "tests/mutators/test_operators.py::TestBinaryOperationMutator::test_visit_BinOp_level_min[Div-text_out3] \u001b[32mPASSED\u001b[0m\u001b[32m [ 17%]\u001b[0m\n",
      "tests/test_mutate.py::TestInit::test_initialize_mutator_obj \u001b[32mPASSED\u001b[0m\u001b[32m       [ 17%]\u001b[0m\n",
      "tests/data_types/test_interfaces.py::TestMutator::test_get_location_walk_no_location \u001b[32mPASSED\u001b[0m\u001b[32m [ 17%]\u001b[0m\n",
      "tests/test_config.py::TestGetCommandLineLoggingOptions::test_get_cmd_line_log_level[1-1-30] \u001b[32mPASSED\u001b[0m\u001b[32m [ 18%]\u001b[0m\n",
      "tests/test_config.py::TestMaxWorkers::test_default_max_workers_affinity \u001b[32mPASSED\u001b[0m\u001b[32m [ 18%]\u001b[0m\n",
      "tests/mutators/test_calls.py::TestReturnMutator::test_return_mutator_none \u001b[32mPASSED\u001b[0m\u001b[32m [ 18%]\u001b[0m\n",
      "tests/mutators/test_calls.py::TestDecoratorMutator::test_mutator_name \u001b[32mPASSED\u001b[0m\u001b[32m [ 19%]\u001b[0m\n",
      "tests/test_config.py::TestGetConfigFilePath::test_get_config_file_path_cmd_line \u001b[32mPASSED\u001b[0m\u001b[32m [ 19%]\u001b[0m\n",
      "tests/mutators/test_operators.py::TestAugAssignMutator::test_visit_AugAssign_level_max[Mult-text_out2] \u001b[32mPASSED\u001b[0m\u001b[32m [ 19%]\u001b[0m\n",
      "tests/test_config.py::TestGetDictFromConfig::test_config_data_invalid \u001b[32mPASSED\u001b[0m\u001b[32m [ 20%]\u001b[0m\n",
      "tests/mutators/test_compare.py::TestComparisonMutator::test_create_mutations_eq[a > b-mutants3] \u001b[32mPASSED\u001b[0m\u001b[32m [ 20%]\u001b[0m\n",
      "tests/mutators/test_unary_op.py::TestUnaryOperationMutator::test_create_mutations[-3-+3] \u001b[32mPASSED\u001b[0m\u001b[32m [ 20%]\u001b[0m\n",
      "tests/data_types/test_work.py::TestEchoWrapper::test_echo_no_echo \u001b[32mPASSED\u001b[0m\u001b[32m [ 21%]\u001b[0m\n",
      "tests/test_config.py::TestGetConfigFilePath::test_get_config_file_path_poodle_config \u001b[32mPASSED\u001b[0m\u001b[32m [ 21%]\u001b[0m\n",
      "tests/mutators/test_operators.py::TestOperationMutator::test_create_mutations \u001b[32mPASSED\u001b[0m\u001b[32m [ 21%]\u001b[0m\n",
      "tests/mutators/test_constant.py::TestKeywordMutator::test_create_mutations[None-mutants4] \u001b[32mPASSED\u001b[0m\u001b[32m [ 21%]\u001b[0m\n",
      "tests/data_types/test_interfaces.py::TestMutator::test_init \u001b[32mPASSED\u001b[0m\u001b[32m       [ 22%]\u001b[0m\n",
      "tests/mutators/test_constant.py::TestStringMutator::test_create_mutations_doc \u001b[32mPASSED\u001b[0m\u001b[32m [ 22%]\u001b[0m\n",
      "tests/reporters/test_basic.py::TestReportNotFound::test_all_passed \u001b[32mPASSED\u001b[0m\u001b[32m [ 22%]\u001b[0m\n",
      "tests/mutators/test_operators.py::TestBinaryOperationMutator::test_visit_BinOp_level_std[Sub-text_out1] \u001b[32mPASSED\u001b[0m\u001b[32m [ 23%]\u001b[0m\n",
      "tests/mutators/test_unary_op.py::TestUnaryOperationMutator::test_create_mutations[+3--3] \u001b[32mPASSED\u001b[0m\u001b[32m [ 23%]\u001b[0m\n",
      "tests/mutators/test_operators.py::TestAugAssignMutator::test_visit_AugAssign_level_std[Div-text_out3] \u001b[32mPASSED\u001b[0m\u001b[32m [ 23%]\u001b[0m\n",
      "tests/data_types/test_interfaces.py::TestMutator::test_get_location_eq_lineno_lt_col \u001b[32mPASSED\u001b[0m\u001b[32m [ 24%]\u001b[0m\n",
      "tests/test_mutate.py::TestFilter::test_is_filtered[mutation_args2-mutators2-True] \u001b[32mPASSED\u001b[0m\u001b[32m [ 24%]\u001b[0m\n",
      "tests/reporters/test_basic.py::TestReportSummary::test_no_mutants \u001b[32mPASSED\u001b[0m\u001b[32m [ 24%]\u001b[0m\n",
      "tests/test_config.py::TestGetBoolFromConfig::test_values[False-True-False0] \u001b[32mPASSED\u001b[0m\u001b[32m [ 25%]\u001b[0m\n",
      "tests/test_config.py::TestGetCommandLineLoggingOptions::test_get_cmd_line_log_level[4-0-50] \u001b[32mPASSED\u001b[0m\u001b[32m [ 25%]\u001b[0m\n",
      "tests/mutators/test_compare.py::TestComparisonMutator::test_create_mutations_eq[a == b-mutants0] \u001b[32mPASSED\u001b[0m\u001b[32m [ 25%]\u001b[0m\n",
      "tests/test_config.py::TestGetAnyListFromConfig::test_tuple \u001b[32mPASSED\u001b[0m\u001b[32m        [ 26%]\u001b[0m\n",
      "tests/test_config.py::TestBuildConfig::test_build_config_defaults \u001b[32mPASSED\u001b[0m\u001b[32m [ 26%]\u001b[0m\n",
      "tests/mutators/test_operators.py::TestAugAssignMutator::test_visit_AugAssign_level_min[Add-text_out0] \u001b[32mPASSED\u001b[0m\u001b[32m [ 26%]\u001b[0m\n",
      "tests/test_config.py::TestGetIntFromConfig::test_default_inputs \u001b[32mPASSED\u001b[0m\u001b[32m   [ 26%]\u001b[0m\n",
      "tests/test_config.py::TestGetIntFromConfig::test_str_to_int \u001b[32mPASSED\u001b[0m\u001b[32m       [ 27%]\u001b[0m\n",
      "tests/reporters/test_basic.py::TestReportNotFound::test_failed \u001b[32mPASSED\u001b[0m\u001b[32m    [ 27%]\u001b[0m\n",
      "tests/mutators/test_operators.py::TestBinaryOperationMutator::test_visit_BinOp_level_max[RShift-text_out7] \u001b[32mPASSED\u001b[0m\u001b[32m [ 27%]\u001b[0m\n",
      "tests/test_config.py::TestGetPathListFromConfig::test_path \u001b[32mPASSED\u001b[0m\u001b[32m        [ 28%]\u001b[0m\n",
      "tests/test_util.py::TestFilesList::test_files_list_for_source_folders \u001b[32mPASSED\u001b[0m\u001b[32m [ 28%]\u001b[0m\n",
      "tests/mutators/test_operators.py::TestAugAssignMutator::test_visit_AugAssign_level_min[BitOr-text_out9] \u001b[32mPASSED\u001b[0m\u001b[32m [ 28%]\u001b[0m\n",
      "tests/test_config.py::TestGetPathListFromConfig::test_string_list \u001b[32mPASSED\u001b[0m\u001b[32m [ 29%]\u001b[0m\n",
      "tests/runners/test_command_line.py::TestCommandLineRunner::test_timeout \u001b[32mPASSED\u001b[0m\u001b[32m [ 29%]\u001b[0m\n",
      "tests/test_config.py::TestGetAnyListFromConfig::test_string \u001b[32mPASSED\u001b[0m\u001b[32m       [ 29%]\u001b[0m\n",
      "tests/mutators/test_operators.py::TestAugAssignMutator::test_visit_AugAssign_level_min[Mod-text_out5] \u001b[32mPASSED\u001b[0m\u001b[32m [ 30%]\u001b[0m\n",
      "tests/test_core.py::TestMain::test_main_not_exists \u001b[32mPASSED\u001b[0m\u001b[32m                [ 30%]\u001b[0m\n",
      "tests/mutators/test_operators.py::TestAugAssignMutator::test_visit_AugAssign_level_min[Div-text_out3] \u001b[32mPASSED\u001b[0m\u001b[32m [ 30%]\u001b[0m\n",
      "tests/test_mutate.py::TestFilter::test_is_filtered[mutation_args11-mutators11-False] \u001b[32mPASSED\u001b[0m\u001b[32m [ 30%]\u001b[0m\n",
      "tests/mutators/test_operators.py::TestBinaryOperationMutator::test_visit_BinOp_level_std[Pow-text_out6] \u001b[32mPASSED\u001b[0m\u001b[32m [ 31%]\u001b[0m\n",
      "tests/test_config.py::TestGetCommandLineLoggingOptions::test_get_cmd_line_echo_enabled[2-False] \u001b[32mPASSED\u001b[0m\u001b[32m [ 31%]\u001b[0m\n",
      "tests/test_config.py::TestGetCommandLineLoggingOptions::test_get_cmd_line_log_level[2-0-40] \u001b[32mPASSED\u001b[0m\u001b[32m [ 31%]\u001b[0m\n",
      "tests/data_types/test_data.py::TestMutant::test_poodle_mutant_min \u001b[32mPASSED\u001b[0m\u001b[32m [ 32%]\u001b[0m\n",
      "tests/mutators/test_operators.py::TestBinaryOperationMutator::test_visit_BinOp_level_min[BitAnd-text_out11] \u001b[32mPASSED\u001b[0m\u001b[32m [ 32%]\u001b[0m\n",
      "tests/mutators/test_operators.py::TestBinaryOperationMutator::test_visit_BinOp_level_max[Mod-text_out5] \u001b[32mPASSED\u001b[0m\u001b[32m [ 32%]\u001b[0m\n",
      "tests/mutators/test_operators.py::TestBinaryOperationMutator::test_visit_BinOp_level_std[Div-text_out3] \u001b[32mPASSED\u001b[0m\u001b[32m [ 33%]\u001b[0m\n",
      "tests/test_config.py::TestGetOptionFromConfig::test_command_line_false \u001b[32mPASSED\u001b[0m\u001b[32m [ 33%]\u001b[0m\n",
      "tests/test_config.py::TestGetSourceFolders::test_get_source_folders \u001b[32mPASSED\u001b[0m\u001b[32m [ 33%]\u001b[0m\n",
      "tests/mutators/test_calls.py::TestDictArrayCallMutator::test_mutator_name \u001b[32mPASSED\u001b[0m\u001b[32m [ 34%]\u001b[0m\n",
      "tests/test_config.py::TestGetConfigFileDataToml::test_get_config_file_data_toml_poodle \u001b[32mPASSED\u001b[0m\u001b[32m [ 34%]\u001b[0m\n",
      "tests/test_mutate.py::TestInit::test_initialize_mutator_str_func \u001b[32mPASSED\u001b[0m\u001b[32m  [ 34%]\u001b[0m\n",
      "tests/mutators/test_operators.py::TestAugAssignMutator::test_visit_AugAssign_level_max[Pow-text_out6] \u001b[32mPASSED\u001b[0m\u001b[32m [ 34%]\u001b[0m\n",
      "tests/reporters/test_basic.py::TestReportSummary::test_timeout \u001b[32mPASSED\u001b[0m\u001b[32m    [ 35%]\u001b[0m\n",
      "tests/mutators/test_constant.py::TestNumberMutator::test_create_mutations[0.0-mutants5] \u001b[32mPASSED\u001b[0m\u001b[32m [ 35%]\u001b[0m\n",
      "tests/test_mutate.py::TestFilter::test_is_filtered[mutation_args16-mutators16-False] \u001b[32mPASSED\u001b[0m\u001b[32m [ 35%]\u001b[0m\n",
      "tests/test_mutate.py::TestCreateMutants::test_create_mutants_for_all_mutators \u001b[32mPASSED\u001b[0m\u001b[32m [ 36%]\u001b[0m\n",
      "tests/test_config.py::TestGetCommandLineLoggingOptions::test_get_cmd_line_log_level[3-0-50] \u001b[32mPASSED\u001b[0m\u001b[32m [ 36%]\u001b[0m\n",
      "tests/test_config.py::TestMaxWorkers::test_default_max_workers_neither \u001b[32mPASSED\u001b[0m\u001b[32m [ 36%]\u001b[0m\n",
      "tests/test_util.py::TestPrint::test_pprint_str \u001b[32mPASSED\u001b[0m\u001b[32m                    [ 37%]\u001b[0m\n",
      "tests/test_mutate.py::TestFilter::test_is_filtered[mutation_args15-mutators15-False] \u001b[32mPASSED\u001b[0m\u001b[32m [ 37%]\u001b[0m\n",
      "tests/test_config.py::TestGetConfigFileData::test_get_config_file_data_invalid \u001b[32mPASSED\u001b[0m\u001b[32m [ 37%]\u001b[0m\n",
      "tests/test_core.py::TestTimeout::test_calc_timeout_mult \u001b[32mPASSED\u001b[0m\u001b[32m           [ 38%]\u001b[0m\n",
      "tests/test_config.py::TestGetStrFromConfig::test_convert \u001b[32mPASSED\u001b[0m\u001b[32m          [ 38%]\u001b[0m\n",
      "tests/test_config.py::TestGetConfigFileData::test_get_config_file_data_no_file \u001b[32mPASSED\u001b[0m\u001b[32m [ 38%]\u001b[0m\n",
      "tests/mutators/test_constant.py::TestStringMutator::test_create_mutations_double_quote \u001b[32mPASSED\u001b[0m\u001b[32m [ 39%]\u001b[0m\n",
      "tests/mutators/test_operators.py::TestBinaryOperationMutator::test_annotations \u001b[32mPASSED\u001b[0m\u001b[32m [ 39%]\u001b[0m\n",
      "tests/test_config.py::TestGetStrListFromConfig::test_type_error \u001b[32mPASSED\u001b[0m\u001b[32m   [ 39%]\u001b[0m\n",
      "tests/mutators/test_constant.py::TestNumberMutator::test_create_mutations[0b11-mutants3] \u001b[32mPASSED\u001b[0m\u001b[32m [ 39%]\u001b[0m\n",
      "tests/test_mutate.py::TestFilter::test_is_filtered[mutation_args0-mutators0-True] \u001b[32mPASSED\u001b[0m\u001b[32m [ 40%]\u001b[0m\n",
      "tests/test_config.py::TestGetSourceFolders::test_get_source_folders_not_folder \u001b[32mPASSED\u001b[0m\u001b[32m [ 40%]\u001b[0m\n",
      "tests/mutators/test_operators.py::TestBinaryOperationMutator::test_visit_BinOp_level_min[Pow-text_out6] \u001b[32mPASSED\u001b[0m\u001b[32m [ 40%]\u001b[0m\n",
      "tests/mutators/test_operators.py::TestAugAssignMutator::test_visit_AugAssign_level_max[BitAnd-text_out11] \u001b[32mPASSED\u001b[0m\u001b[32m [ 41%]\u001b[0m\n",
      "tests/mutators/test_compare.py::TestComparisonMutator::test_create_mutations_eq[a not in d-mutants8] \u001b[32mPASSED\u001b[0m\u001b[32m [ 41%]\u001b[0m\n",
      "tests/test_config.py::TestGetConfigFilePath::test_get_config_file_path_cmd_line_not_found \u001b[32mPASSED\u001b[0m\u001b[32m [ 41%]\u001b[0m\n",
      "tests/test_config.py::TestGetIntFromConfig::test_convert_error \u001b[32mPASSED\u001b[0m\u001b[32m    [ 42%]\u001b[0m\n",
      "tests/mutators/test_operators.py::TestAugAssignMutator::test_visit_AugAssign_level_max[Mod-text_out5] \u001b[32mPASSED\u001b[0m\u001b[32m [ 42%]\u001b[0m\n",
      "tests/mutators/test_calls.py::TestReturnMutator::test_mutator_name \u001b[32mPASSED\u001b[0m\u001b[32m [ 42%]\u001b[0m\n",
      "tests/mutators/test_operators.py::TestAugAssignMutator::test_visit_AugAssign_level_std[Pow-text_out6] \u001b[32mPASSED\u001b[0m\u001b[32m [ 43%]\u001b[0m\n",
      "tests/data_types/test_data.py::TestMutant::test_init \u001b[32mPASSED\u001b[0m\u001b[32m              [ 43%]\u001b[0m\n",
      "tests/test_config.py::TestGetDictFromConfig::test_poodle_config \u001b[32mPASSED\u001b[0m\u001b[32m   [ 43%]\u001b[0m\n",
      "tests/mutators/test_operators.py::TestAugAssignMutator::test_visit_AugAssign_level_std[BitXor-text_out10] \u001b[32mPASSED\u001b[0m\u001b[32m [ 43%]\u001b[0m\n",
      "tests/test_config.py::TestGetCommandLineLoggingOptions::test_get_cmd_line_echo_enabled[0-True] \u001b[32mPASSED\u001b[0m\u001b[32m [ 44%]\u001b[0m\n",
      "tests/test_config.py::TestGetAnyListFromConfig::test_default_inputs \u001b[32mPASSED\u001b[0m\u001b[32m [ 44%]\u001b[0m\n",
      "tests/mutators/test_compare.py::TestComparisonMutator::test_init_patterns \u001b[32mPASSED\u001b[0m\u001b[32m [ 44%]\u001b[0m\n",
      "tests/data_types/test_interfaces.py::TestMutator::test_mutator_name \u001b[32mPASSED\u001b[0m\u001b[32m [ 45%]\u001b[0m\n",
      "tests/mutators/test_compare.py::TestComparisonMutator::test_create_mutations_eq[a in d-mutants7] \u001b[32mPASSED\u001b[0m\u001b[32m [ 45%]\u001b[0m\n",
      "tests/mutators/test_operators.py::TestBinaryOperationMutator::test_visit_BinOp_level_min[BitXor-text_out10] \u001b[32mPASSED\u001b[0m\u001b[32m [ 45%]\u001b[0m\n",
      "tests/mutators/test_operators.py::TestBinaryOperationMutator::test_visit_BinOp_level_max[LShift-text_out8] \u001b[32mPASSED\u001b[0m\u001b[32m [ 46%]\u001b[0m\n",
      "tests/data_types/test_interfaces.py::test_create_mutations \u001b[32mPASSED\u001b[0m\u001b[32m        [ 46%]\u001b[0m\n",
      "tests/test_config.py::TestGetOptionFromConfig::test_not_found \u001b[32mPASSED\u001b[0m\u001b[32m     [ 46%]\u001b[0m\n",
      "tests/data_types/test_interfaces.py::test_reporter \u001b[32mPASSED\u001b[0m\u001b[32m                [ 47%]\u001b[0m\n",
      "tests/data_types/test_interfaces.py::TestMutator::test_get_location_no_ends \u001b[32mPASSED\u001b[0m\u001b[32m [ 47%]\u001b[0m\n",
      "tests/test_config.py::TestGetBoolFromConfig::test_values[False-True-False1] \u001b[32mPASSED\u001b[0m\u001b[32m [ 47%]\u001b[0m\n",
      "tests/test_config.py::TestGetDictFromConfig::test_poodle_config_invalid \u001b[32mPASSED\u001b[0m\u001b[32m [ 47%]\u001b[0m\n",
      "tests/data_types/test_interfaces.py::TestMutator::test_get_location \u001b[32mPASSED\u001b[0m\u001b[32m [ 48%]\u001b[0m\n",
      "tests/mutators/test_operators.py::TestBinaryOperationMutator::test_visit_BinOp_level_max[Sub-text_out1] \u001b[32mPASSED\u001b[0m\u001b[32m [ 48%]\u001b[0m\n",
      "tests/mutators/test_calls.py::TestDictArrayCallMutator::test_array_call_mutator \u001b[32mPASSED\u001b[0m\u001b[32m [ 48%]\u001b[0m\n",
      "tests/mutators/test_operators.py::TestBinaryOperationMutator::test_visit_BinOp_level_min[Mult-text_out2] \u001b[32mPASSED\u001b[0m\u001b[32m [ 49%]\u001b[0m\n",
      "tests/mutators/test_operators.py::TestAugAssignMutator::test_visit_AugAssign_level_std[LShift-text_out8] \u001b[32mPASSED\u001b[0m\u001b[32m [ 49%]\u001b[0m\n",
      "tests/data_types/test_data.py::TestMutantTrialResult::test_mutant_trial_result_min \u001b[32mPASSED\u001b[0m\u001b[32m [ 49%]\u001b[0m\n",
      "tests/mutators/test_compare.py::TestComparisonMutator::test_create_mutations_eq[a is not None-mutants6] \u001b[32mPASSED\u001b[0m\u001b[32m [ 50%]\u001b[0m\n",
      "tests/test_config.py::TestMaxWorkers::test_default_max_workers_cpu \u001b[32mPASSED\u001b[0m\u001b[32m [ 50%]\u001b[0m\n",
      "tests/mutators/test_operators.py::TestBinaryOperationMutator::test_visit_BinOp_level_std[RShift-text_out7] \u001b[32mPASSED\u001b[0m\u001b[32m [ 50%]\u001b[0m\n",
      "tests/mutators/test_operators.py::TestBinaryOperationMutator::test_visit_BinOp_level_min[FloorDiv-text_out4] \u001b[32mPASSED\u001b[0m\u001b[32m [ 51%]\u001b[0m\n",
      "tests/test_core.py::TestTimeout::test_calc_timeout_min_20 \u001b[32mPASSED\u001b[0m\u001b[32m         [ 51%]\u001b[0m\n",
      "tests/test_mutate.py::TestFilter::test_is_filtered[mutation_args10-mutators10-False] \u001b[32mPASSED\u001b[0m\u001b[32m [ 51%]\u001b[0m\n",
      "tests/test_config.py::TestGetCommandLineLoggingOptions::test_get_cmd_line_log_level[0-2-10] \u001b[32mPASSED\u001b[0m\u001b[32m [ 52%]\u001b[0m\n",
      "tests/runners/test_command_line.py::TestCommandLineRunner::test_rc_0 \u001b[32mPASSED\u001b[0m\u001b[32m [ 52%]\u001b[0m\n",
      "tests/mutators/test_operators.py::TestBinaryOperationMutator::test_visit_BinOp_level_max[Div-text_out3] \u001b[32mPASSED\u001b[0m\u001b[32m [ 52%]\u001b[0m\n",
      "tests/test_config.py::TestGetCommandLineLoggingOptions::test_get_cmd_line_log_level[0-1-20] \u001b[32mPASSED\u001b[0m\u001b[32m [ 52%]\u001b[0m\n",
      "tests/test_core.py::TestMain::test_trial_error \u001b[32mPASSED\u001b[0m\u001b[32m                    [ 53%]\u001b[0m\n",
      "tests/test_config.py::TestGetStrListFromConfig::test_default \u001b[32mPASSED\u001b[0m\u001b[32m      [ 53%]\u001b[0m\n",
      "tests/test_core.py::TestMain::test_input_error \u001b[32mPASSED\u001b[0m\u001b[32m                    [ 53%]\u001b[0m\n",
      "tests/mutators/test_operators.py::TestBinaryOperationMutator::test_visit_BinOp_level_max[BitAnd-text_out11] \u001b[32mPASSED\u001b[0m\u001b[32m [ 54%]\u001b[0m\n",
      "tests/data_types/test_data.py::TestTestingResults::test_testing_results \u001b[32mPASSED\u001b[0m\u001b[32m [ 54%]\u001b[0m\n",
      "tests/mutators/test_operators.py::TestBinaryOperationMutator::test_visit_BinOp_level_min[RShift-text_out7] \u001b[32mPASSED\u001b[0m\u001b[32m [ 54%]\u001b[0m\n",
      "tests/mutators/test_operators.py::TestBinaryOperationMutator::test_visit_BinOp_level_max[Pow-text_out6] \u001b[32mPASSED\u001b[0m\u001b[32m [ 55%]\u001b[0m\n",
      "tests/test_config.py::TestGetAnyFromConfig::test_default \u001b[32mPASSED\u001b[0m\u001b[32m          [ 55%]\u001b[0m\n",
      "tests/mutators/test_calls.py::TestDictArrayCallMutator::test_skip_annotation \u001b[32mPASSED\u001b[0m\u001b[32m [ 55%]\u001b[0m\n",
      "tests/mutators/test_compare.py::TestComparisonMutator::test_create_mutations_eq[a is None-mutants5] \u001b[32mPASSED\u001b[0m\u001b[32m [ 56%]\u001b[0m\n",
      "tests/test_config.py::TestGetCommandLineLoggingOptions::test_get_cmd_line_log_level[1-0-30] \u001b[32mPASSED\u001b[0m\u001b[32m [ 56%]\u001b[0m\n",
      "tests/mutators/test_operators.py::TestAugAssignMutator::test_visit_AugAssign_level_max[Div-text_out3] \u001b[32mPASSED\u001b[0m\u001b[32m [ 56%]\u001b[0m\n",
      "tests/mutators/test_compare.py::TestComparisonMutator::test_create_mutations_eq[a <= b-mutants2] \u001b[32mPASSED\u001b[0m\u001b[32m [ 56%]\u001b[0m\n",
      "tests/data_types/test_data.py::TestTestingSummary::test_iadd \u001b[32mPASSED\u001b[0m\u001b[32m      [ 57%]\u001b[0m\n",
      "tests/data_types/test_data.py::TestMutantTrialResult::test_mutant_trial_result \u001b[32mPASSED\u001b[0m\u001b[32m [ 57%]\u001b[0m\n",
      "tests/test_config.py::TestGetPathListFromConfig::test_path_list \u001b[32mPASSED\u001b[0m\u001b[32m   [ 57%]\u001b[0m\n",
      "tests/test_core.py::TestTimeout::test_calc_timeout_min \u001b[32mPASSED\u001b[0m\u001b[32m            [ 58%]\u001b[0m\n",
      "tests/mutators/test_operators.py::TestBinaryOperationMutator::test_visit_BinOp_level_std[Mult-text_out2] \u001b[32mPASSED\u001b[0m\u001b[32m [ 58%]\u001b[0m\n",
      "tests/mutators/test_operators.py::TestBinaryOperationMutator::test_visit_BinOp_level_std[Add-text_out0] \u001b[32mPASSED\u001b[0m\u001b[32m [ 58%]\u001b[0m\n",
      "tests/test_config.py::TestGetOptionFromConfig::test_get_config_data_value \u001b[32mPASSED\u001b[0m\u001b[32m [ 59%]\u001b[0m\n",
      "tests/test_config.py::TestGetAnyListFromConfig::test_iterable \u001b[32mPASSED\u001b[0m\u001b[32m     [ 59%]\u001b[0m\n",
      "tests/mutators/test_operators.py::TestAugAssignMutator::test_visit_AugAssign_level_std[BitOr-text_out9] \u001b[32mPASSED\u001b[0m\u001b[32m [ 59%]\u001b[0m\n",
      "tests/test_mutate.py::TestCreateMutants::test_get_target_files \u001b[32mPASSED\u001b[0m\u001b[32m    [ 60%]\u001b[0m\n",
      "tests/mutators/test_operators.py::TestAugAssignMutator::test_visit_AugAssign_level_max[Add-text_out0] \u001b[32mPASSED\u001b[0m\u001b[32m [ 60%]\u001b[0m\n",
      "tests/mutators/test_constant.py::TestKeywordMutator::test_create_mutations[True-mutants3] \u001b[32mPASSED\u001b[0m\u001b[32m [ 60%]\u001b[0m\n",
      "tests/test_mutate.py::TestFilter::test_add_filter \u001b[32mPASSED\u001b[0m\u001b[32m                 [ 60%]\u001b[0m\n",
      "tests/mutators/test_operators.py::TestAugAssignMutator::test_visit_AugAssign_level_min[MatMult-text_out12] \u001b[32mPASSED\u001b[0m\u001b[32m [ 61%]\u001b[0m\n",
      "tests/data_types/test_interfaces.py::TestMutator::test_create_file_mutation \u001b[32mPASSED\u001b[0m\u001b[32m [ 61%]\u001b[0m\n",
      "tests/test_config.py::TestGetStrFromConfig::test_empty_string \u001b[32mPASSED\u001b[0m\u001b[32m     [ 61%]\u001b[0m\n",
      "tests/mutators/test_calls.py::TestDictArrayCallMutator::test_dict_call_mutator \u001b[32mPASSED\u001b[0m\u001b[32m [ 62%]\u001b[0m\n",
      "tests/mutators/test_calls.py::TestFunctionCallMutator::test_create_mutations \u001b[32mPASSED\u001b[0m\u001b[32m [ 62%]\u001b[0m\n",
      "tests/mutators/test_operators.py::TestBinaryOperationMutator::test_mutator_name \u001b[32mPASSED\u001b[0m\u001b[32m [ 62%]\u001b[0m\n",
      "tests/test_mutate.py::TestFilter::test_parse_filters \u001b[32mPASSED\u001b[0m\u001b[32m              [ 63%]\u001b[0m\n",
      "tests/data_types/test_data.py::TestFileMutation::test_file_mutant \u001b[32mPASSED\u001b[0m\u001b[32m [ 63%]\u001b[0m\n",
      "tests/mutators/test_compare.py::TestComparisonMutator::test_filter_compare \u001b[32mPASSED\u001b[0m\u001b[32m [ 63%]\u001b[0m\n",
      "tests/data_types/test_data.py::TestPoodleConfig::test_poodle_config \u001b[32mPASSED\u001b[0m\u001b[32m [ 64%]\u001b[0m\n",
      "tests/test_config.py::TestGetPathFromConfig::test_default \u001b[32mPASSED\u001b[0m\u001b[32m         [ 64%]\u001b[0m\n",
      "tests/reporters/test_basic.py::TestReportSummary::test_errors \u001b[32mPASSED\u001b[0m\u001b[32m     [ 64%]\u001b[0m\n",
      "tests/test_config.py::TestGetPathFromConfig::test_string \u001b[32mPASSED\u001b[0m\u001b[32m          [ 65%]\u001b[0m\n",
      "tests/reporters/test_basic.py::TestReportSummary::test_not_found \u001b[32mPASSED\u001b[0m\u001b[32m  [ 65%]\u001b[0m\n",
      "tests/mutators/test_compare.py::TestComparisonMutator::test_create_mutations_eq[a >= b-mutants4] \u001b[32mPASSED\u001b[0m\u001b[32m [ 65%]\u001b[0m\n",
      "tests/reporters/test_basic.py::TestReportSummary::test_all \u001b[32mPASSED\u001b[0m\u001b[32m        [ 65%]\u001b[0m\n",
      "tests/mutators/test_operators.py::TestAugAssignMutator::test_visit_AugAssign_level_min[Sub-text_out1] \u001b[32mPASSED\u001b[0m\u001b[32m [ 66%]\u001b[0m\n",
      "tests/mutators/test_operators.py::TestBinaryOperationMutator::test_visit_BinOp_level_max[Mult-text_out2] \u001b[32mPASSED\u001b[0m\u001b[32m [ 66%]\u001b[0m\n",
      "tests/test_report.py::TestReporters::test_generate_reporters \u001b[32mPASSED\u001b[0m\u001b[32m      [ 66%]\u001b[0m\n",
      "tests/test_config.py::TestGetDictFromConfig::test_default_only \u001b[32mPASSED\u001b[0m\u001b[32m    [ 67%]\u001b[0m\n",
      "tests/test_config.py::TestGetPathListFromConfig::test_default \u001b[32mPASSED\u001b[0m\u001b[32m     [ 67%]\u001b[0m\n",
      "tests/test_config.py::TestGetCommandLineLoggingOptions::test_get_cmd_line_log_level[0-4-0] \u001b[32mPASSED\u001b[0m\u001b[32m [ 67%]\u001b[0m\n",
      "tests/mutators/test_operators.py::TestOperationMutator::test_init_valid_level \u001b[32mPASSED\u001b[0m\u001b[32m [ 68%]\u001b[0m\n",
      "tests/mutators/test_operators.py::TestBinaryOperationMutator::test_visit_BinOp_level_min[Add-text_out0] \u001b[32mPASSED\u001b[0m\u001b[32m [ 68%]\u001b[0m\n",
      "tests/test_config.py::TestGetAnyListFromConfig::test_int \u001b[32mPASSED\u001b[0m\u001b[32m          [ 68%]\u001b[0m\n",
      "tests/mutators/test_compare.py::TestComparisonMutator::test_create_mutations_eq[a or d-mutants9] \u001b[32mPASSED\u001b[0m\u001b[32m [ 69%]\u001b[0m\n",
      "tests/test_util.py::TestDynamicImport::test_dynamic_import \u001b[32mPASSED\u001b[0m\u001b[32m        [ 69%]\u001b[0m\n",
      "tests/mutators/test_operators.py::TestBinaryOperationMutator::test_visit_BinOp_level_min[MatMult-text_out12] \u001b[32mPASSED\u001b[0m\u001b[32m [ 69%]\u001b[0m\n",
      "tests/test_config.py::TestGetStrFromConfig::test_default_inputs \u001b[32mPASSED\u001b[0m\u001b[32m   [ 69%]\u001b[0m\n",
      "tests/test_config.py::test_defaults \u001b[32mPASSED\u001b[0m\u001b[32m                               [ 70%]\u001b[0m\n",
      "tests/mutators/test_operators.py::TestAugAssignMutator::test_visit_AugAssign_level_std[Sub-text_out1] \u001b[32mPASSED\u001b[0m\u001b[32m [ 70%]\u001b[0m\n",
      "tests/mutators/test_operators.py::TestBinaryOperationMutator::test_visit_BinOp_level_max[BitOr-text_out9] \u001b[32mPASSED\u001b[0m\u001b[32m [ 70%]\u001b[0m\n",
      "tests/test_config.py::TestGetConfigFileDataToml::test_get_config_file_data_toml_tool_poodle \u001b[32mPASSED\u001b[0m\u001b[32m [ 71%]\u001b[0m\n",
      "tests/mutators/test_operators.py::TestAugAssignMutator::test_visit_AugAssign_level_std[MatMult-text_out12] \u001b[32mPASSED\u001b[0m\u001b[32m [ 71%]\u001b[0m\n",
      "tests/mutators/test_operators.py::TestAugAssignMutator::test_visit_AugAssign_level_max[Sub-text_out1] \u001b[32mPASSED\u001b[0m\u001b[32m [ 71%]\u001b[0m\n",
      "tests/test_config.py::TestGetStrFromConfig::test_string \u001b[32mPASSED\u001b[0m\u001b[32m           [ 72%]\u001b[0m\n",
      "tests/mutators/test_operators.py::TestAugAssignMutator::test_visit_AugAssign_level_min[LShift-text_out8] \u001b[32mPASSED\u001b[0m\u001b[32m [ 72%]\u001b[0m\n",
      "tests/reporters/test_basic.py::TestReportSummary::test_all_found \u001b[32mPASSED\u001b[0m\u001b[32m  [ 72%]\u001b[0m\n",
      "tests/mutators/test_calls.py::TestDecoratorMutator::test_decorator_mutator \u001b[32mPASSED\u001b[0m\u001b[32m [ 73%]\u001b[0m\n",
      "tests/test_config.py::TestGetCommandLineLoggingOptions::test_get_cmd_line_echo_enabled[1-False] \u001b[32mPASSED\u001b[0m\u001b[32m [ 73%]\u001b[0m\n",
      "tests/mutators/test_operators.py::TestAugAssignMutator::test_visit_AugAssign_level_max[FloorDiv-text_out4] \u001b[32mPASSED\u001b[0m\u001b[32m [ 73%]\u001b[0m\n",
      "tests/mutators/test_operators.py::TestAugAssignMutator::test_visit_AugAssign_level_min[RShift-text_out7] \u001b[32mPASSED\u001b[0m\u001b[32m [ 73%]\u001b[0m\n",
      "tests/mutators/test_constant.py::TestKeywordMutator::test_annotations \u001b[32mPASSED\u001b[0m\u001b[32m [ 74%]\u001b[0m\n",
      "tests/mutators/test_operators.py::TestAugAssignMutator::test_visit_AugAssign_level_max[MatMult-text_out12] \u001b[32mPASSED\u001b[0m\u001b[32m [ 74%]\u001b[0m\n",
      "tests/test_config.py::TestGetConfigFileData::test_get_config_file_data \u001b[32mPASSED\u001b[0m\u001b[32m [ 74%]\u001b[0m\n",
      "tests/data_types/test_work.py::TestEchoWrapper::test_echo \u001b[32mPASSED\u001b[0m\u001b[32m         [ 75%]\u001b[0m\n",
      "tests/mutators/test_operators.py::TestBinaryOperationMutator::test_visit_BinOp_level_min[BitOr-text_out9] \u001b[32mPASSED\u001b[0m\u001b[32m [ 75%]\u001b[0m\n",
      "tests/mutators/test_constant.py::TestNumberMutator::test_create_mutations[3-mutants0] \u001b[32mPASSED\u001b[0m\u001b[32m [ 75%]\u001b[0m\n",
      "tests/mutators/test_operators.py::TestBinaryOperationMutator::test_visit_BinOp_level_max[BitXor-text_out10] \u001b[32mPASSED\u001b[0m\u001b[32m [ 76%]\u001b[0m\n",
      "tests/test_mutate.py::TestCreateMutants::test_get_target_files_only \u001b[32mPASSED\u001b[0m\u001b[32m [ 76%]\u001b[0m\n",
      "tests/test_util.py::TestFilesList::test_create_temp_zips \u001b[32mPASSED\u001b[0m\u001b[32m          [ 76%]\u001b[0m\n",
      "tests/mutators/test_operators.py::TestAugAssignMutator::test_visit_AugAssign_level_min[FloorDiv-text_out4] \u001b[32mPASSED\u001b[0m\u001b[32m [ 77%]\u001b[0m\n",
      "tests/mutators/test_constant.py::TestNumberMutator::test_create_mutations[1.2-mutants6] \u001b[32mPASSED\u001b[0m\u001b[32m [ 77%]\u001b[0m\n",
      "tests/data_types/test_interfaces.py::TestMutator::test_get_location_lt_lineno \u001b[32mPASSED\u001b[0m\u001b[32m [ 77%]\u001b[0m\n",
      "tests/test_config.py::TestBuildConfig::test_build_config \u001b[32mPASSED\u001b[0m\u001b[32m          [ 78%]\u001b[0m\n",
      "tests/test_core.py::test_logger \u001b[32mPASSED\u001b[0m\u001b[32m                                   [ 78%]\u001b[0m\n",
      "tests/mutators/test_constant.py::TestNumberMutator::test_create_mutations[3j-mutants4] \u001b[32mPASSED\u001b[0m\u001b[32m [ 78%]\u001b[0m\n",
      "tests/mutators/test_operators.py::TestBinaryOperationMutator::test_visit_BinOp_level_std[BitAnd-text_out11] \u001b[32mPASSED\u001b[0m\u001b[32m [ 78%]\u001b[0m\n",
      "tests/mutators/test_operators.py::TestBinaryOperationMutator::test_visit_BinOp_level_min[LShift-text_out8] \u001b[32mPASSED\u001b[0m\u001b[32m [ 79%]\u001b[0m\n",
      "tests/mutators/test_operators.py::TestAugAssignMutator::test_visit_AugAssign_level_min[BitXor-text_out10] \u001b[32mPASSED\u001b[0m\u001b[32m [ 79%]\u001b[0m\n",
      "tests/mutators/test_unary_op.py::TestUnaryOperationMutator::test_create_mutations[~a-a] \u001b[32mPASSED\u001b[0m\u001b[32m [ 79%]\u001b[0m\n",
      "tests/test_mutate.py::TestFilter::test_is_filtered[mutation_args1-mutators1-True] \u001b[32mPASSED\u001b[0m\u001b[32m [ 80%]\u001b[0m\n",
      "tests/runners/test_command_line.py::TestCommandLineRunner::test_unset_path \u001b[32mPASSED\u001b[0m\u001b[32m [ 80%]\u001b[0m\n",
      "tests/test_util.py::TestFilesList::test_files_list_for_folder \u001b[32mPASSED\u001b[0m\u001b[32m     [ 80%]\u001b[0m\n",
      "tests/test_config.py::TestGetPathListFromConfig::test_default_inputs \u001b[32mPASSED\u001b[0m\u001b[32m [ 81%]\u001b[0m\n",
      "tests/mutators/test_calls.py::TestReturnMutator::test_return_mutator \u001b[32mPASSED\u001b[0m\u001b[32m [ 81%]\u001b[0m\n",
      "tests/test_mutate.py::TestInit::test_initialize_mutator_func \u001b[32mPASSED\u001b[0m\u001b[32m      [ 81%]\u001b[0m\n",
      "tests/mutators/test_calls.py::TestDictArrayCallMutator::test_skip_annotation_on_assign \u001b[32mPASSED\u001b[0m\u001b[32m [ 82%]\u001b[0m\n",
      "tests/test_config.py::TestGetBoolFromConfig::test_values[None-False-False] \u001b[32mPASSED\u001b[0m\u001b[32m [ 82%]\u001b[0m\n",
      "tests/mutators/test_calls.py::TestFunctionCallMutator::test_mutator_name \u001b[32mPASSED\u001b[0m\u001b[32m [ 82%]\u001b[0m\n",
      "tests/test_config.py::TestGetBoolFromConfig::test_values[True-False-True] \u001b[32mPASSED\u001b[0m\u001b[32m [ 82%]\u001b[0m\n",
      "tests/mutators/test_operators.py::TestAugAssignMutator::test_visit_AugAssign_level_std[Add-text_out0] \u001b[32mPASSED\u001b[0m\u001b[32m [ 83%]\u001b[0m\n",
      "tests/mutators/test_calls.py::TestLambdaReturnMutator::test_lambda_returns_none \u001b[32mPASSED\u001b[0m\u001b[32m [ 83%]\u001b[0m\n",
      "tests/test_mutate.py::TestFilter::test_is_filtered[mutation_args8-mutators8-True] \u001b[32mPASSED\u001b[0m\u001b[32m [ 83%]\u001b[0m\n",
      "tests/mutators/test_operators.py::TestBinaryOperationMutator::test_visit_BinOp_level_std[Mod-text_out5] \u001b[32mPASSED\u001b[0m\u001b[32m [ 84%]\u001b[0m\n",
      "tests/mutators/test_constant.py::TestNumberMutator::test_create_mutations[0x3-mutants2] \u001b[32mPASSED\u001b[0m\u001b[32m [ 84%]\u001b[0m\n",
      "tests/test_config.py::TestGetBoolFromConfig::test_default_inputs \u001b[32mPASSED\u001b[0m\u001b[32m  [ 84%]\u001b[0m\n",
      "tests/test_config.py::TestGetCommandLineLoggingOptions::test_get_cmd_line_log_level[0-3-0] \u001b[32mPASSED\u001b[0m\u001b[32m [ 85%]\u001b[0m\n",
      "tests/test_config.py::TestGetStrListFromConfig::test_default_inputs \u001b[32mPASSED\u001b[0m\u001b[32m [ 85%]\u001b[0m\n",
      "tests/test_config.py::TestGetConfigFilePath::test_get_config_file_path_none \u001b[32mPASSED\u001b[0m\u001b[32m [ 85%]\u001b[0m\n",
      "tests/test_mutate.py::TestCreateMutants::test_create_mutants_for_file \u001b[32mPASSED\u001b[0m\u001b[32m [ 86%]\u001b[0m\n",
      "tests/mutators/test_operators.py::TestAugAssignMutator::test_visit_AugAssign_level_std[Mult-text_out2] \u001b[32mPASSED\u001b[0m\u001b[32m [ 86%]\u001b[0m\n",
      "tests/mutators/test_operators.py::TestBinaryOperationMutator::test_visit_BinOp_level_std[FloorDiv-text_out4] \u001b[32mPASSED\u001b[0m\u001b[32m [ 86%]\u001b[0m\n",
      "tests/mutators/test_operators.py::TestAugAssignMutator::test_visit_AugAssign_level_min[Mult-text_out2] \u001b[32mPASSED\u001b[0m\u001b[32m [ 86%]\u001b[0m\n",
      "tests/mutators/test_operators.py::TestBinaryOperationMutator::test_visit_BinOp_level_max[MatMult-text_out12] \u001b[32mPASSED\u001b[0m\u001b[32m [ 87%]\u001b[0m\n",
      "tests/data_types/test_interfaces.py::TestMutator::test_get_location_eq_end_lineno_lt_end_col \u001b[32mPASSED\u001b[0m\u001b[32m [ 87%]\u001b[0m\n",
      "tests/mutators/test_operators.py::TestAugAssignMutator::test_visit_AugAssign_level_std[BitAnd-text_out11] \u001b[32mPASSED\u001b[0m\u001b[32m [ 87%]\u001b[0m\n",
      "tests/test_config.py::TestGetPathListFromConfig::test_not_path \u001b[32mPASSED\u001b[0m\u001b[32m    [ 88%]\u001b[0m\n",
      "tests/mutators/test_operators.py::TestAugAssignMutator::test_mutator_name \u001b[32mPASSED\u001b[0m\u001b[32m [ 88%]\u001b[0m\n",
      "tests/mutators/test_operators.py::TestBinaryOperationMutator::test_visit_BinOp_level_std[BitOr-text_out9] \u001b[32mPASSED\u001b[0m\u001b[32m [ 88%]\u001b[0m\n",
      "tests/test_config.py::TestGetBoolFromConfig::test_default[False] \u001b[32mPASSED\u001b[0m\u001b[32m  [ 89%]\u001b[0m\n",
      "tests/test_mutate.py::TestFilter::test_is_filtered[mutation_args14-mutators14-False] \u001b[32mPASSED\u001b[0m\u001b[32m [ 89%]\u001b[0m\n",
      "tests/test_config.py::TestGetBoolFromConfig::test_values[true-False-True] \u001b[32mPASSED\u001b[0m\u001b[32m [ 89%]\u001b[0m\n",
      "tests/mutators/test_operators.py::TestBinaryOperationMutator::test_visit_BinOp_level_max[Add-text_out0] \u001b[32mPASSED\u001b[0m\u001b[32m [ 90%]\u001b[0m\n",
      "tests/test_config.py::TestMaxWorkers::test_default_max_workers_cpu_1 \u001b[32mPASSED\u001b[0m\u001b[32m [ 90%]\u001b[0m\n",
      "tests/mutators/test_operators.py::TestAugAssignMutator::test_visit_AugAssign_level_max[RShift-text_out7] \u001b[32mPASSED\u001b[0m\u001b[32m [ 90%]\u001b[0m\n",
      "tests/test_config.py::TestGetPathFromConfig::test_not_path \u001b[32mPASSED\u001b[0m\u001b[32m        [ 91%]\u001b[0m\n",
      "tests/data_types/test_interfaces.py::test_runner \u001b[32mPASSED\u001b[0m\u001b[32m                  [ 91%]\u001b[0m\n",
      "tests/data_types/test_interfaces.py::TestMutator::test_get_location_gt_end_lineno_lt_end_col \u001b[32mPASSED\u001b[0m\u001b[32m [ 91%]\u001b[0m\n",
      "tests/test_report.py::test_logger \u001b[32mPASSED\u001b[0m\u001b[32m                                 [ 91%]\u001b[0m\n",
      "tests/test_config.py::TestGetConfigFileDataToml::test_get_config_file_data_toml_no_data \u001b[32mPASSED\u001b[0m\u001b[32m [ 92%]\u001b[0m\n",
      "tests/mutators/test_operators.py::TestAugAssignMutator::test_visit_AugAssign_level_max[BitOr-text_out9] \u001b[32mPASSED\u001b[0m\u001b[32m [ 92%]\u001b[0m\n",
      "tests/mutators/test_calls.py::TestReturnMutator::test_return_mutator_standalone \u001b[32mPASSED\u001b[0m\u001b[32m [ 92%]\u001b[0m\n",
      "tests/mutators/test_operators.py::TestOperationMutator::test_init_invalid_level \u001b[32mPASSED\u001b[0m\u001b[32m [ 93%]\u001b[0m\n",
      "tests/test_mutate.py::TestFilter::test_is_filtered[mutation_args9-mutators9-True] \u001b[32mPASSED\u001b[0m\u001b[32m [ 93%]\u001b[0m\n",
      "tests/test_config.py::TestGetSourceFolders::test_get_source_folders_not_found \u001b[32mPASSED\u001b[0m\u001b[32m [ 93%]\u001b[0m\n",
      "tests/test_mutate.py::TestInit::test_initialize_mutators \u001b[32mPASSED\u001b[0m\u001b[32m          [ 94%]\u001b[0m\n",
      "tests/mutators/test_operators.py::TestOperationMutator::test_init_default \u001b[32mPASSED\u001b[0m\u001b[32m [ 94%]\u001b[0m\n",
      "tests/test_config.py::TestGetBoolFromConfig::test_default[True] \u001b[32mPASSED\u001b[0m\u001b[32m   [ 94%]\u001b[0m\n",
      "tests/data_types/test_interfaces.py::TestMutator::test_get_location_eq_lineno_gt_col \u001b[32mPASSED\u001b[0m\u001b[32m [ 95%]\u001b[0m\n",
      "tests/data_types/test_data.py::TestMutantTrial::test_mutant_trial \u001b[32mPASSED\u001b[0m\u001b[32m [ 95%]\u001b[0m\n",
      "tests/test_config.py::TestGetAnyListFromConfig::test_default \u001b[32mPASSED\u001b[0m\u001b[32m      [ 95%]\u001b[0m\n",
      "tests/test_mutate.py::TestFilter::test_is_filtered[mutation_args7-mutators7-True] \u001b[32mPASSED\u001b[0m\u001b[32m [ 95%]\u001b[0m\n",
      "tests/test_mutate.py::TestInit::test_initialize_mutator_import_error \u001b[32mPASSED\u001b[0m\u001b[32m [ 96%]\u001b[0m\n",
      "tests/test_config.py::TestGetConfigFilePath::test_get_config_file_path_pyproject \u001b[32mPASSED\u001b[0m\u001b[32m [ 96%]\u001b[0m\n",
      "tests/mutators/test_operators.py::TestAugAssignMutator::test_visit_AugAssign_level_std[RShift-text_out7] \u001b[32mPASSED\u001b[0m\u001b[32m [ 96%]\u001b[0m\n",
      "tests/test_config.py::TestGetPathListFromConfig::test_not_iterable \u001b[32mPASSED\u001b[0m\u001b[32m [ 97%]\u001b[0m\n",
      "tests/test_mutate.py::TestFilter::test_is_filtered[mutation_args6-mutators6-True] \u001b[32mPASSED\u001b[0m\u001b[32m [ 97%]\u001b[0m\n",
      "tests/test_util.py::TestPrint::test_pprint_str_mock \u001b[32mPASSED\u001b[0m\u001b[32m               [ 97%]\u001b[0m\n",
      "tests/mutators/test_operators.py::TestAugAssignMutator::test_visit_AugAssign_level_std[Mod-text_out5] \u001b[32mPASSED\u001b[0m\u001b[32m [ 98%]\u001b[0m\n",
      "tests/data_types/test_data.py::TestTestingSummary::test_testing_summary \u001b[32mPASSED\u001b[0m\u001b[32m [ 98%]\u001b[0m\n",
      "tests/mutators/test_operators.py::TestAugAssignMutator::test_visit_AugAssign_level_min[BitAnd-text_out11] \u001b[32mPASSED\u001b[0m\u001b[32m [ 98%]\u001b[0m\n",
      "tests/test_core.py::TestMain::test_main \u001b[32mPASSED\u001b[0m\u001b[32m                           [ 99%]\u001b[0m\n",
      "tests/mutators/test_operators.py::TestBinaryOperationMutator::test_visit_BinOp_level_std[BitXor-text_out10] \u001b[32mPASSED\u001b[0m\u001b[32m [ 99%]\u001b[0m\n",
      "tests/mutators/test_compare.py::TestComparisonMutator::test_create_mutations_eq[a and d-mutants10] \u001b[32mPASSED\u001b[0m\u001b[32m [ 99%]\u001b[0m\n",
      "tests/test_mutate.py::TestInit::test_initialize_mutator_invalid_error \u001b[32mPASSED\u001b[0m\u001b[32m [100%]\u001b[0m\n",
      "\n",
      "---------- coverage: platform win32, python 3.12.0-final-0 -----------\n",
      "Name                                  Stmts   Miss Branch BrPart  Cover\n",
      "-----------------------------------------------------------------------\n",
      "src\\poodle\\__init__.py                    8      1      2      0    90%\n",
      "src\\poodle\\cli.py                        22     22     20      0     0%\n",
      "src\\poodle\\config.py                    186      0     78      0   100%\n",
      "src\\poodle\\core.py                       30      0     10      0   100%\n",
      "src\\poodle\\data_types\\data.py            77      0     24      1    99%\n",
      "src\\poodle\\data_types\\interfaces.py      51      0     36      1    99%\n",
      "src\\poodle\\data_types\\work.py            27      0      8      0   100%\n",
      "src\\poodle\\mutate.py                     72      1     30      1    98%\n",
      "src\\poodle\\mutators\\calls.py             62      0     12      1    99%\n",
      "src\\poodle\\mutators\\compare.py           34      1     16      1    96%\n",
      "src\\poodle\\mutators\\constant.py          54      0     20      1    99%\n",
      "src\\poodle\\mutators\\operators.py         36      0      8      0   100%\n",
      "src\\poodle\\mutators\\unary_op.py          14      0      6      0   100%\n",
      "src\\poodle\\report.py                      9      0      6      1    93%\n",
      "src\\poodle\\reporters\\basic.py            44      1     22      1    97%\n",
      "src\\poodle\\run.py                        58     51     14      0    10%\n",
      "src\\poodle\\runners\\command_line.py       15      0      6      0   100%\n",
      "src\\poodle\\util.py                       29      0      6      0   100%\n",
      "-----------------------------------------------------------------------\n",
      "TOTAL                                   828     77    324      8    90%\n",
      "\n",
      "4 empty files skipped.\n",
      "Coverage HTML written to dir reports/coverage\n",
      "Coverage JSON written to file code-coverage.json\n",
      "\n",
      "\n",
      "\u001b[32m============================= \u001b[32m\u001b[1m323 passed\u001b[0m\u001b[32m in 2.45s\u001b[0m\u001b[32m =============================\u001b[0m\n"
     ]
    }
   ],
   "source": [
    "!pytest --cov=src\n",
    "# !start reports/coverage/index.html"
   ]
  },
  {
   "cell_type": "code",
   "execution_count": 154,
   "metadata": {},
   "outputs": [],
   "source": [
    "!isort src --check --diff"
   ]
  },
  {
   "cell_type": "code",
   "execution_count": 173,
   "metadata": {},
   "outputs": [],
   "source": [
    "!isort tests --check --diff"
   ]
  },
  {
   "cell_type": "code",
   "execution_count": 174,
   "metadata": {},
   "outputs": [
    {
     "name": "stderr",
     "output_type": "stream",
     "text": [
      "All done! ✨ 🍰 ✨\n",
      "22 files would be left unchanged.\n"
     ]
    }
   ],
   "source": [
    "!black --check src --diff"
   ]
  },
  {
   "cell_type": "code",
   "execution_count": 175,
   "metadata": {},
   "outputs": [
    {
     "name": "stderr",
     "output_type": "stream",
     "text": [
      "All done! ✨ 🍰 ✨\n",
      "20 files would be left unchanged.\n"
     ]
    }
   ],
   "source": [
    "!black --check tests --diff"
   ]
  },
  {
   "cell_type": "code",
   "execution_count": 176,
   "metadata": {},
   "outputs": [
    {
     "name": "stderr",
     "output_type": "stream",
     "text": [
      "42 files left unchanged\n"
     ]
    }
   ],
   "source": [
    "!ruff format --diff src tests"
   ]
  },
  {
   "cell_type": "code",
   "execution_count": 184,
   "metadata": {},
   "outputs": [
    {
     "name": "stdout",
     "output_type": "stream",
     "text": [
      "\u001b[1m\u001b[92mSuccess: no issues found in 42 source files\u001b[0m\n"
     ]
    }
   ],
   "source": [
    "!mypy src tests --python-version 3.9"
   ]
  },
  {
   "cell_type": "code",
   "execution_count": 185,
   "metadata": {},
   "outputs": [
    {
     "name": "stdout",
     "output_type": "stream",
     "text": [
      "\u001b[1m\u001b[92mSuccess: no issues found in 42 source files\u001b[0m\n"
     ]
    }
   ],
   "source": [
    "!mypy src tests --python-version 3.10"
   ]
  },
  {
   "cell_type": "code",
   "execution_count": 186,
   "metadata": {},
   "outputs": [
    {
     "name": "stdout",
     "output_type": "stream",
     "text": [
      "\u001b[1m\u001b[92mSuccess: no issues found in 42 source files\u001b[0m\n"
     ]
    }
   ],
   "source": [
    "!mypy src tests --python-version 3.11"
   ]
  },
  {
   "cell_type": "code",
   "execution_count": 187,
   "metadata": {},
   "outputs": [
    {
     "name": "stdout",
     "output_type": "stream",
     "text": [
      "\u001b[1m\u001b[92mSuccess: no issues found in 42 source files\u001b[0m\n"
     ]
    }
   ],
   "source": [
    "!mypy src tests --python-version 3.12"
   ]
  },
  {
   "cell_type": "code",
   "execution_count": 190,
   "metadata": {},
   "outputs": [],
   "source": [
    "!ruff check --show-source src"
   ]
  },
  {
   "cell_type": "code",
   "execution_count": 191,
   "metadata": {},
   "outputs": [],
   "source": [
    "!ruff check --diff src"
   ]
  },
  {
   "cell_type": "code",
   "execution_count": 194,
   "metadata": {},
   "outputs": [],
   "source": [
    "!ruff check --show-source tests"
   ]
  },
  {
   "cell_type": "code",
   "execution_count": 195,
   "metadata": {},
   "outputs": [],
   "source": [
    "!ruff check --diff tests"
   ]
  },
  {
   "cell_type": "code",
   "execution_count": 167,
   "metadata": {},
   "outputs": [
    {
     "name": "stdout",
     "output_type": "stream",
     "text": [
      "\u001b[1m============================= test session starts =============================\u001b[0m\n",
      "platform win32 -- Python 3.12.0, pytest-7.4.3, pluggy-1.3.0\n",
      "pytest-sort:\n",
      "  sort-mode: ordered\n",
      "rootdir: c:\\DEVPY\\poodle\\example\n",
      "configfile: pytest.ini\n",
      "testpaths: tests\n",
      "plugins: anyio-4.1.0, cov-4.1.0, sort-1.2.2\n",
      "collected 68 items\n",
      "\n",
      "tests\\test_augassign.py \u001b[32m.\u001b[0m\u001b[32m.\u001b[0m\u001b[32m.\u001b[0m\u001b[32m.\u001b[0m\u001b[32m.\u001b[0m\u001b[32m.\u001b[0m\u001b[32m.\u001b[0m\u001b[32m.\u001b[0m\u001b[32m.\u001b[0m\u001b[32m.\u001b[0m\u001b[32m.\u001b[0m\u001b[32m.\u001b[0m\u001b[32m                                     [ 17%]\u001b[0m\n",
      "tests\\test_compare.py \u001b[32m.\u001b[0m\u001b[32m.\u001b[0m\u001b[32m.\u001b[0m\u001b[32m.\u001b[0m\u001b[32m.\u001b[0m\u001b[32m.\u001b[0m\u001b[32m.\u001b[0m\u001b[32m.\u001b[0m\u001b[32m.\u001b[0m\u001b[32m.\u001b[0m\u001b[32m.\u001b[0m\u001b[32m                                        [ 33%]\u001b[0m\n",
      "tests\\test_constants.py \u001b[32m.\u001b[0m\u001b[32m.\u001b[0m\u001b[32m.\u001b[0m\u001b[32m.\u001b[0m\u001b[32m.\u001b[0m\u001b[32m.\u001b[0m\u001b[32m.\u001b[0m\u001b[32m.\u001b[0m\u001b[32m.\u001b[0m\u001b[32m.\u001b[0m\u001b[32m.\u001b[0m\u001b[32m.\u001b[0m\u001b[32m.\u001b[0m\u001b[32m.\u001b[0m\u001b[32m.\u001b[0m\u001b[32m.\u001b[0m\u001b[32m                                 [ 57%]\u001b[0m\n",
      "tests\\test_function_calls.py \u001b[32m.\u001b[0m\u001b[32m.\u001b[0m\u001b[32m.\u001b[0m\u001b[32m.\u001b[0m\u001b[32m.\u001b[0m\u001b[32m.\u001b[0m\u001b[32m.\u001b[0m\u001b[32m.\u001b[0m\u001b[32m.\u001b[0m\u001b[32m.\u001b[0m\u001b[32m.\u001b[0m\u001b[32m                                 [ 73%]\u001b[0m\n",
      "tests\\test_loops.py \u001b[32m.\u001b[0m\u001b[32m.\u001b[0m\u001b[32m                                                   [ 76%]\u001b[0m\n",
      "tests\\test_operators.py \u001b[32m.\u001b[0m\u001b[32m.\u001b[0m\u001b[32m.\u001b[0m\u001b[32m.\u001b[0m\u001b[32m.\u001b[0m\u001b[32m.\u001b[0m\u001b[32m.\u001b[0m\u001b[32m.\u001b[0m\u001b[32m.\u001b[0m\u001b[32m.\u001b[0m\u001b[32m.\u001b[0m\u001b[32m.\u001b[0m\u001b[32m.\u001b[0m\u001b[32m.\u001b[0m\u001b[32m.\u001b[0m\u001b[32m.\u001b[0m\u001b[32m                                 [100%]\u001b[0m\n",
      "\n",
      "\u001b[32m============================= \u001b[32m\u001b[1m68 passed\u001b[0m\u001b[32m in 0.18s\u001b[0m\u001b[32m ==============================\u001b[0m\n"
     ]
    }
   ],
   "source": [
    "!cd example && pytest"
   ]
  },
  {
   "cell_type": "code",
   "execution_count": 168,
   "metadata": {},
   "outputs": [],
   "source": [
    "# pip install build setuptools twine --upgrade\n",
    "# py -m build\n",
    "# twine upload --repository pypi dist/*"
   ]
  },
  {
   "cell_type": "code",
   "execution_count": 169,
   "metadata": {},
   "outputs": [
    {
     "name": "stdout",
     "output_type": "stream",
     "text": [
      "Requirement already satisfied: sphinx in c:\\devpy\\poodle\\.venv\\lib\\site-packages (7.2.6)\n",
      "Requirement already satisfied: sphinxcontrib-applehelp in c:\\devpy\\poodle\\.venv\\lib\\site-packages (from sphinx) (1.0.7)\n",
      "Requirement already satisfied: sphinxcontrib-devhelp in c:\\devpy\\poodle\\.venv\\lib\\site-packages (from sphinx) (1.0.5)\n",
      "Requirement already satisfied: sphinxcontrib-jsmath in c:\\devpy\\poodle\\.venv\\lib\\site-packages (from sphinx) (1.0.1)\n",
      "Requirement already satisfied: sphinxcontrib-htmlhelp>=2.0.0 in c:\\devpy\\poodle\\.venv\\lib\\site-packages (from sphinx) (2.0.4)\n",
      "Requirement already satisfied: sphinxcontrib-serializinghtml>=1.1.9 in c:\\devpy\\poodle\\.venv\\lib\\site-packages (from sphinx) (1.1.9)\n",
      "Requirement already satisfied: sphinxcontrib-qthelp in c:\\devpy\\poodle\\.venv\\lib\\site-packages (from sphinx) (1.0.6)\n",
      "Requirement already satisfied: Jinja2>=3.0 in c:\\devpy\\poodle\\.venv\\lib\\site-packages (from sphinx) (3.1.2)\n",
      "Requirement already satisfied: Pygments>=2.14 in c:\\devpy\\poodle\\.venv\\lib\\site-packages (from sphinx) (2.17.2)\n",
      "Requirement already satisfied: docutils<0.21,>=0.18.1 in c:\\devpy\\poodle\\.venv\\lib\\site-packages (from sphinx) (0.20.1)\n",
      "Requirement already satisfied: snowballstemmer>=2.0 in c:\\devpy\\poodle\\.venv\\lib\\site-packages (from sphinx) (2.2.0)\n",
      "Requirement already satisfied: babel>=2.9 in c:\\devpy\\poodle\\.venv\\lib\\site-packages (from sphinx) (2.13.1)\n",
      "Requirement already satisfied: alabaster<0.8,>=0.7 in c:\\devpy\\poodle\\.venv\\lib\\site-packages (from sphinx) (0.7.13)\n",
      "Requirement already satisfied: imagesize>=1.3 in c:\\devpy\\poodle\\.venv\\lib\\site-packages (from sphinx) (1.4.1)\n",
      "Requirement already satisfied: requests>=2.25.0 in c:\\devpy\\poodle\\.venv\\lib\\site-packages (from sphinx) (2.31.0)\n",
      "Requirement already satisfied: packaging>=21.0 in c:\\devpy\\poodle\\.venv\\lib\\site-packages (from sphinx) (23.2)\n",
      "Requirement already satisfied: colorama>=0.4.5 in c:\\devpy\\poodle\\.venv\\lib\\site-packages (from sphinx) (0.4.6)\n",
      "Requirement already satisfied: setuptools in c:\\devpy\\poodle\\.venv\\lib\\site-packages (from babel>=2.9->sphinx) (69.0.2)\n",
      "Requirement already satisfied: MarkupSafe>=2.0 in c:\\devpy\\poodle\\.venv\\lib\\site-packages (from Jinja2>=3.0->sphinx) (2.1.3)\n",
      "Requirement already satisfied: charset-normalizer<4,>=2 in c:\\devpy\\poodle\\.venv\\lib\\site-packages (from requests>=2.25.0->sphinx) (3.3.2)\n",
      "Requirement already satisfied: idna<4,>=2.5 in c:\\devpy\\poodle\\.venv\\lib\\site-packages (from requests>=2.25.0->sphinx) (3.6)\n",
      "Requirement already satisfied: urllib3<3,>=1.21.1 in c:\\devpy\\poodle\\.venv\\lib\\site-packages (from requests>=2.25.0->sphinx) (2.1.0)\n",
      "Requirement already satisfied: certifi>=2017.4.17 in c:\\devpy\\poodle\\.venv\\lib\\site-packages (from requests>=2.25.0->sphinx) (2023.11.17)\n",
      "Note: you may need to restart the kernel to use updated packages.\n",
      "Requirement already satisfied: furo in c:\\devpy\\poodle\\.venv\\lib\\site-packages (from -r docs/requirements.txt (line 1)) (2023.9.10)\n",
      "Requirement already satisfied: sphinx_design in c:\\devpy\\poodle\\.venv\\lib\\site-packages (from -r docs/requirements.txt (line 3)) (0.5.0)\n",
      "Requirement already satisfied: myst_parser[linkify] in c:\\devpy\\poodle\\.venv\\lib\\site-packages (from -r docs/requirements.txt (line 2)) (2.0.0)\n",
      "Requirement already satisfied: beautifulsoup4 in c:\\devpy\\poodle\\.venv\\lib\\site-packages (from furo->-r docs/requirements.txt (line 1)) (4.12.2)\n",
      "Requirement already satisfied: sphinx<8.0,>=6.0 in c:\\devpy\\poodle\\.venv\\lib\\site-packages (from furo->-r docs/requirements.txt (line 1)) (7.2.6)\n",
      "Requirement already satisfied: sphinx-basic-ng in c:\\devpy\\poodle\\.venv\\lib\\site-packages (from furo->-r docs/requirements.txt (line 1)) (1.0.0b2)\n",
      "Requirement already satisfied: pygments>=2.7 in c:\\devpy\\poodle\\.venv\\lib\\site-packages (from furo->-r docs/requirements.txt (line 1)) (2.17.2)\n",
      "Requirement already satisfied: docutils<0.21,>=0.16 in c:\\devpy\\poodle\\.venv\\lib\\site-packages (from myst_parser[linkify]->-r docs/requirements.txt (line 2)) (0.20.1)\n",
      "Requirement already satisfied: jinja2 in c:\\devpy\\poodle\\.venv\\lib\\site-packages (from myst_parser[linkify]->-r docs/requirements.txt (line 2)) (3.1.2)\n",
      "Requirement already satisfied: markdown-it-py~=3.0 in c:\\devpy\\poodle\\.venv\\lib\\site-packages (from myst_parser[linkify]->-r docs/requirements.txt (line 2)) (3.0.0)\n",
      "Requirement already satisfied: mdit-py-plugins~=0.4 in c:\\devpy\\poodle\\.venv\\lib\\site-packages (from myst_parser[linkify]->-r docs/requirements.txt (line 2)) (0.4.0)\n",
      "Requirement already satisfied: pyyaml in c:\\devpy\\poodle\\.venv\\lib\\site-packages (from myst_parser[linkify]->-r docs/requirements.txt (line 2)) (6.0.1)\n",
      "Requirement already satisfied: linkify-it-py~=2.0 in c:\\devpy\\poodle\\.venv\\lib\\site-packages (from myst_parser[linkify]->-r docs/requirements.txt (line 2)) (2.0.2)\n",
      "Requirement already satisfied: uc-micro-py in c:\\devpy\\poodle\\.venv\\lib\\site-packages (from linkify-it-py~=2.0->myst_parser[linkify]->-r docs/requirements.txt (line 2)) (1.0.2)\n",
      "Requirement already satisfied: mdurl~=0.1 in c:\\devpy\\poodle\\.venv\\lib\\site-packages (from markdown-it-py~=3.0->myst_parser[linkify]->-r docs/requirements.txt (line 2)) (0.1.2)\n",
      "Requirement already satisfied: sphinxcontrib-applehelp in c:\\devpy\\poodle\\.venv\\lib\\site-packages (from sphinx<8.0,>=6.0->furo->-r docs/requirements.txt (line 1)) (1.0.7)\n",
      "Requirement already satisfied: sphinxcontrib-devhelp in c:\\devpy\\poodle\\.venv\\lib\\site-packages (from sphinx<8.0,>=6.0->furo->-r docs/requirements.txt (line 1)) (1.0.5)\n",
      "Requirement already satisfied: sphinxcontrib-jsmath in c:\\devpy\\poodle\\.venv\\lib\\site-packages (from sphinx<8.0,>=6.0->furo->-r docs/requirements.txt (line 1)) (1.0.1)\n",
      "Requirement already satisfied: sphinxcontrib-htmlhelp>=2.0.0 in c:\\devpy\\poodle\\.venv\\lib\\site-packages (from sphinx<8.0,>=6.0->furo->-r docs/requirements.txt (line 1)) (2.0.4)\n",
      "Requirement already satisfied: sphinxcontrib-serializinghtml>=1.1.9 in c:\\devpy\\poodle\\.venv\\lib\\site-packages (from sphinx<8.0,>=6.0->furo->-r docs/requirements.txt (line 1)) (1.1.9)\n",
      "Requirement already satisfied: sphinxcontrib-qthelp in c:\\devpy\\poodle\\.venv\\lib\\site-packages (from sphinx<8.0,>=6.0->furo->-r docs/requirements.txt (line 1)) (1.0.6)\n",
      "Requirement already satisfied: snowballstemmer>=2.0 in c:\\devpy\\poodle\\.venv\\lib\\site-packages (from sphinx<8.0,>=6.0->furo->-r docs/requirements.txt (line 1)) (2.2.0)\n",
      "Requirement already satisfied: babel>=2.9 in c:\\devpy\\poodle\\.venv\\lib\\site-packages (from sphinx<8.0,>=6.0->furo->-r docs/requirements.txt (line 1)) (2.13.1)\n",
      "Requirement already satisfied: alabaster<0.8,>=0.7 in c:\\devpy\\poodle\\.venv\\lib\\site-packages (from sphinx<8.0,>=6.0->furo->-r docs/requirements.txt (line 1)) (0.7.13)\n",
      "Requirement already satisfied: imagesize>=1.3 in c:\\devpy\\poodle\\.venv\\lib\\site-packages (from sphinx<8.0,>=6.0->furo->-r docs/requirements.txt (line 1)) (1.4.1)\n",
      "Requirement already satisfied: requests>=2.25.0 in c:\\devpy\\poodle\\.venv\\lib\\site-packages (from sphinx<8.0,>=6.0->furo->-r docs/requirements.txt (line 1)) (2.31.0)\n",
      "Requirement already satisfied: packaging>=21.0 in c:\\devpy\\poodle\\.venv\\lib\\site-packages (from sphinx<8.0,>=6.0->furo->-r docs/requirements.txt (line 1)) (23.2)\n",
      "Requirement already satisfied: colorama>=0.4.5 in c:\\devpy\\poodle\\.venv\\lib\\site-packages (from sphinx<8.0,>=6.0->furo->-r docs/requirements.txt (line 1)) (0.4.6)\n",
      "Requirement already satisfied: MarkupSafe>=2.0 in c:\\devpy\\poodle\\.venv\\lib\\site-packages (from jinja2->myst_parser[linkify]->-r docs/requirements.txt (line 2)) (2.1.3)\n",
      "Requirement already satisfied: soupsieve>1.2 in c:\\devpy\\poodle\\.venv\\lib\\site-packages (from beautifulsoup4->furo->-r docs/requirements.txt (line 1)) (2.5)\n",
      "Requirement already satisfied: setuptools in c:\\devpy\\poodle\\.venv\\lib\\site-packages (from babel>=2.9->sphinx<8.0,>=6.0->furo->-r docs/requirements.txt (line 1)) (69.0.2)\n",
      "Requirement already satisfied: charset-normalizer<4,>=2 in c:\\devpy\\poodle\\.venv\\lib\\site-packages (from requests>=2.25.0->sphinx<8.0,>=6.0->furo->-r docs/requirements.txt (line 1)) (3.3.2)\n",
      "Requirement already satisfied: idna<4,>=2.5 in c:\\devpy\\poodle\\.venv\\lib\\site-packages (from requests>=2.25.0->sphinx<8.0,>=6.0->furo->-r docs/requirements.txt (line 1)) (3.6)\n",
      "Requirement already satisfied: urllib3<3,>=1.21.1 in c:\\devpy\\poodle\\.venv\\lib\\site-packages (from requests>=2.25.0->sphinx<8.0,>=6.0->furo->-r docs/requirements.txt (line 1)) (2.1.0)\n",
      "Requirement already satisfied: certifi>=2017.4.17 in c:\\devpy\\poodle\\.venv\\lib\\site-packages (from requests>=2.25.0->sphinx<8.0,>=6.0->furo->-r docs/requirements.txt (line 1)) (2023.11.17)\n",
      "Note: you may need to restart the kernel to use updated packages.\n"
     ]
    }
   ],
   "source": [
    "%pip install sphinx --upgrade\n",
    "%pip install -r docs/requirements.txt --upgrade"
   ]
  },
  {
   "cell_type": "code",
   "execution_count": 170,
   "metadata": {},
   "outputs": [
    {
     "name": "stdout",
     "output_type": "stream",
     "text": [
      "Running Sphinx v7.2.6\n",
      "loading pickled environment... done\n",
      "myst v2.0.0: MdParserConfig(commonmark_only=False, gfm_only=False, enable_extensions={'dollarmath', 'deflist', 'amsmath', 'replacements', 'tasklist', 'colon_fence', 'substitution', 'attrs_inline', 'linkify', 'html_admonition', 'smartquotes', 'strikethrough', 'html_image', 'fieldlist'}, disable_syntax=[], all_links_external=False, url_schemes=('http', 'https', 'mailto', 'ftp'), ref_domains=None, fence_as_directive=set(), number_code_blocks=[], title_to_header=False, heading_anchors=6, heading_slug_func=None, html_meta={}, footnote_transition=True, words_per_minute=200, substitutions={}, linkify_fuzzy_links=False, dmath_allow_labels=True, dmath_allow_space=True, dmath_allow_digits=True, dmath_double_inline=False, update_mathjax=True, mathjax_classes='tex2jax_process|mathjax_process|math|output_area', enable_checkboxes=False, suppress_warnings=[], highlight_code_blocks=True)\n",
      "building [mo]: targets for 0 po files that are out of date\n",
      "writing output... \n",
      "building [html]: targets for 1 source files that are out of date\n",
      "updating environment: 0 added, 1 changed, 0 removed\n",
      "reading sources... [100%] usage\n",
      "\n",
      "looking for now-outdated files... none found\n",
      "pickling environment... done\n",
      "checking consistency... done\n",
      "preparing documents... done\n",
      "copying assets... copying static files... done\n",
      "copying extra files... done\n",
      "done\n",
      "writing output... [ 50%] index\n",
      "writing output... [100%] usage\n",
      "\n",
      "generating indices... genindex done\n",
      "writing additional pages... search done\n",
      "dumping search index in English (code: en)... done\n",
      "dumping object inventory... done\n",
      "build succeeded.\n",
      "\n",
      "The HTML pages are in docs\\build\\html.\n"
     ]
    }
   ],
   "source": [
    "!sphinx-build -M html docs/source/ docs/build/"
   ]
  },
  {
   "cell_type": "code",
   "execution_count": 171,
   "metadata": {},
   "outputs": [],
   "source": [
    "!start file:///C:/DEVPY/poodle/docs/build/html/index.html"
   ]
  },
  {
   "cell_type": "code",
   "execution_count": null,
   "metadata": {},
   "outputs": [],
   "source": []
  }
 ],
 "metadata": {
  "kernelspec": {
   "display_name": ".venv",
   "language": "python",
   "name": "python3"
  },
  "language_info": {
   "codemirror_mode": {
    "name": "ipython",
    "version": 3
   },
   "file_extension": ".py",
   "mimetype": "text/x-python",
   "name": "python",
   "nbconvert_exporter": "python",
   "pygments_lexer": "ipython3",
   "version": "3.12.0"
  }
 },
 "nbformat": 4,
 "nbformat_minor": 2
}
