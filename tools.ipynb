{
 "cells": [
  {
   "cell_type": "code",
   "execution_count": null,
   "metadata": {},
   "outputs": [],
   "source": [
    "!python.exe --version\n",
    "!python.exe -m pip install --upgrade pip\n",
    "%pip install -r requirements.txt --upgrade\n",
    "%pip install isort black mypy --upgrade"
   ]
  },
  {
   "cell_type": "code",
   "execution_count": null,
   "metadata": {},
   "outputs": [],
   "source": [
    "%pip install --editable ."
   ]
  },
  {
   "cell_type": "code",
   "execution_count": null,
   "metadata": {},
   "outputs": [],
   "source": [
    "!pytest --cov=src\n",
    "!start reports/coverage/index.html"
   ]
  },
  {
   "cell_type": "code",
   "execution_count": null,
   "metadata": {},
   "outputs": [],
   "source": [
    "!isort src --check --diff"
   ]
  },
  {
   "cell_type": "code",
   "execution_count": null,
   "metadata": {},
   "outputs": [],
   "source": [
    "!isort tests --check --diff"
   ]
  },
  {
   "cell_type": "code",
   "execution_count": null,
   "metadata": {},
   "outputs": [],
   "source": [
    "!black --check src --diff"
   ]
  },
  {
   "cell_type": "code",
   "execution_count": null,
   "metadata": {},
   "outputs": [],
   "source": [
    "!black --check tests --diff"
   ]
  },
  {
   "cell_type": "code",
   "execution_count": 33,
   "metadata": {},
   "outputs": [
    {
     "name": "stdout",
     "output_type": "stream",
     "text": [
      "src\\poodle\\mutators.py:111: \u001b[1m\u001b[91merror:\u001b[0m Argument \u001b[0m\u001b[1m\"end_lineno\"\u001b[0m to \u001b[0m\u001b[1m\"FileMutant\"\u001b[0m has incompatible type \u001b[0m\u001b[1m\"Optional[int]\"\u001b[0m; expected \u001b[0m\u001b[1m\"int\"\u001b[0m  \u001b[0m\u001b[93m[arg-type]\u001b[0m\n",
      "src\\poodle\\mutators.py:112: \u001b[1m\u001b[91merror:\u001b[0m Argument \u001b[0m\u001b[1m\"end_col_offset\"\u001b[0m to \u001b[0m\u001b[1m\"FileMutant\"\u001b[0m has incompatible type \u001b[0m\u001b[1m\"Optional[int]\"\u001b[0m; expected \u001b[0m\u001b[1m\"int\"\u001b[0m  \u001b[0m\u001b[93m[arg-type]\u001b[0m\n",
      "src\\poodle\\mutators.py:113: \u001b[1m\u001b[91merror:\u001b[0m Module has no attribute \u001b[0m\u001b[1m\"unparse\"\u001b[0m  \u001b[0m\u001b[93m[attr-defined]\u001b[0m\n",
      "src\\poodle\\config.py:9: \u001b[1m\u001b[91merror:\u001b[0m Cannot find implementation or library stub for module named \u001b[0m\u001b[1m\"tomllib\"\u001b[0m  \u001b[0m\u001b[93m[import-not-found]\u001b[0m\n",
      "src\\poodle\\config.py:9: \u001b[94mnote:\u001b[0m See \u001b[4mhttps://mypy.readthedocs.io/en/stable/running_mypy.html#missing-imports\u001b[0m\u001b[0m\n",
      "src\\poodle\\config.py:20: \u001b[1m\u001b[91merror:\u001b[0m Need type annotation for \u001b[0m\u001b[1m\"default_mutator_opts\"\u001b[0m (hint: \u001b[0m\u001b[1m\"default_mutator_opts: Dict[<type>, <type>] = ...\"\u001b[0m)  \u001b[0m\u001b[93m[var-annotated]\u001b[0m\n",
      "src\\poodle\\config.py:84: \u001b[1m\u001b[91merror:\u001b[0m \u001b[0m\u001b[1m\"Path\"\u001b[0m has no attribute \u001b[0m\u001b[1m\"__iter__\"\u001b[0m; maybe \u001b[0m\u001b[1m\"__enter__\"\u001b[0m? (not iterable)  \u001b[0m\u001b[93m[attr-defined]\u001b[0m\n",
      "src\\poodle\\config.py:88: \u001b[1m\u001b[91merror:\u001b[0m Incompatible return value type (got \u001b[0m\u001b[1m\"Path\"\u001b[0m, expected \u001b[0m\u001b[1m\"List[Path]\"\u001b[0m)  \u001b[0m\u001b[93m[return-value]\u001b[0m\n",
      "src\\poodle\\config.py:104: \u001b[1m\u001b[91merror:\u001b[0m Incompatible return value type (got \u001b[0m\u001b[1m\"Optional[Path]\"\u001b[0m, expected \u001b[0m\u001b[1m\"Path\"\u001b[0m)  \u001b[0m\u001b[93m[return-value]\u001b[0m\n",
      "src\\poodle\\config.py:116: \u001b[1m\u001b[91merror:\u001b[0m Incompatible default for argument \u001b[0m\u001b[1m\"command_line\"\u001b[0m (default has type \u001b[0m\u001b[1m\"Tuple[<nothing>, ...]\"\u001b[0m, argument has type \u001b[0m\u001b[1m\"Tuple[Path]\"\u001b[0m)  \u001b[0m\u001b[93m[assignment]\u001b[0m\n",
      "src\\poodle\\config.py:127: \u001b[1m\u001b[91merror:\u001b[0m Incompatible return value type (got \u001b[0m\u001b[1m\"List[Path]\"\u001b[0m, expected \u001b[0m\u001b[1m\"Path\"\u001b[0m)  \u001b[0m\u001b[93m[return-value]\u001b[0m\n",
      "src\\poodle\\config.py:131: \u001b[1m\u001b[91merror:\u001b[0m Incompatible return value type (got \u001b[0m\u001b[1m\"List[Path]\"\u001b[0m, expected \u001b[0m\u001b[1m\"Path\"\u001b[0m)  \u001b[0m\u001b[93m[return-value]\u001b[0m\n",
      "src\\poodle\\config.py:134: \u001b[1m\u001b[91merror:\u001b[0m Incompatible return value type (got \u001b[0m\u001b[1m\"List[Path]\"\u001b[0m, expected \u001b[0m\u001b[1m\"Path\"\u001b[0m)  \u001b[0m\u001b[93m[return-value]\u001b[0m\n",
      "src\\poodle\\config.py:136: \u001b[1m\u001b[91merror:\u001b[0m Incompatible return value type (got \u001b[0m\u001b[1m\"List[Path]\"\u001b[0m, expected \u001b[0m\u001b[1m\"Path\"\u001b[0m)  \u001b[0m\u001b[93m[return-value]\u001b[0m\n",
      "src\\poodle\\config.py:163: \u001b[1m\u001b[91merror:\u001b[0m Incompatible default for argument \u001b[0m\u001b[1m\"command_line\"\u001b[0m (default has type \u001b[0m\u001b[1m\"Tuple[<nothing>, ...]\"\u001b[0m, argument has type \u001b[0m\u001b[1m\"Union[str, Tuple[str]]\"\u001b[0m)  \u001b[0m\u001b[93m[assignment]\u001b[0m\n",
      "src\\poodle\\config.py:207: \u001b[1m\u001b[91merror:\u001b[0m Incompatible return value type (got \u001b[0m\u001b[1m\"Tuple[None, None]\"\u001b[0m, expected \u001b[0m\u001b[1m\"Tuple[Any, str]\"\u001b[0m)  \u001b[0m\u001b[93m[return-value]\u001b[0m\n",
      "src\\poodle\\core.py:91: \u001b[1m\u001b[91merror:\u001b[0m Invalid index type \u001b[0m\u001b[1m\"Path\"\u001b[0m for \u001b[0m\u001b[1m\"Dict[str, Path]\"\u001b[0m; expected type \u001b[0m\u001b[1m\"str\"\u001b[0m  \u001b[0m\u001b[93m[index]\u001b[0m\n",
      "src\\poodle\\core.py:114: \u001b[1m\u001b[91merror:\u001b[0m Invalid index type \u001b[0m\u001b[1m\"Path\"\u001b[0m for \u001b[0m\u001b[1m\"Dict[str, Path]\"\u001b[0m; expected type \u001b[0m\u001b[1m\"str\"\u001b[0m  \u001b[0m\u001b[93m[index]\u001b[0m\n",
      "src\\poodle\\core.py:178: \u001b[1m\u001b[91merror:\u001b[0m Unsupported operand types for - (\u001b[0m\u001b[1m\"None\"\u001b[0m and \u001b[0m\u001b[1m\"int\"\u001b[0m)  \u001b[0m\u001b[93m[operator]\u001b[0m\n",
      "src\\poodle\\core.py:178: \u001b[94mnote:\u001b[0m Left operand is of type \u001b[0m\u001b[1m\"Optional[int]\"\u001b[0m\u001b[0m\n",
      "src\\poodle\\core.py:179: \u001b[1m\u001b[91merror:\u001b[0m Unsupported operand types for - (\u001b[0m\u001b[1m\"None\"\u001b[0m and \u001b[0m\u001b[1m\"int\"\u001b[0m)  \u001b[0m\u001b[93m[operator]\u001b[0m\n",
      "src\\poodle\\core.py:179: \u001b[94mnote:\u001b[0m Left operand is of type \u001b[0m\u001b[1m\"Optional[int]\"\u001b[0m\u001b[0m\n",
      "src\\poodle\\core.py:181: \u001b[1m\u001b[91merror:\u001b[0m Unsupported operand types for - (\u001b[0m\u001b[1m\"None\"\u001b[0m and \u001b[0m\u001b[1m\"int\"\u001b[0m)  \u001b[0m\u001b[93m[operator]\u001b[0m\n",
      "src\\poodle\\core.py:181: \u001b[94mnote:\u001b[0m Left operand is of type \u001b[0m\u001b[1m\"Optional[int]\"\u001b[0m\u001b[0m\n",
      "src\\poodle\\core.py:181: \u001b[1m\u001b[91merror:\u001b[0m Unsupported operand types for + (\u001b[0m\u001b[1m\"str\"\u001b[0m and \u001b[0m\u001b[1m\"None\"\u001b[0m)  \u001b[0m\u001b[93m[operator]\u001b[0m\n",
      "src\\poodle\\core.py:181: \u001b[94mnote:\u001b[0m Right operand is of type \u001b[0m\u001b[1m\"Optional[str]\"\u001b[0m\u001b[0m\n",
      "src\\poodle\\core.py:182: \u001b[1m\u001b[91merror:\u001b[0m Argument 1 to \u001b[0m\u001b[1m\"range\"\u001b[0m has incompatible type \u001b[0m\u001b[1m\"Optional[int]\"\u001b[0m; expected \u001b[0m\u001b[1m\"SupportsIndex\"\u001b[0m  \u001b[0m\u001b[93m[arg-type]\u001b[0m\n",
      "src\\poodle\\core.py:182: \u001b[1m\u001b[91merror:\u001b[0m Argument 2 to \u001b[0m\u001b[1m\"range\"\u001b[0m has incompatible type \u001b[0m\u001b[1m\"Optional[int]\"\u001b[0m; expected \u001b[0m\u001b[1m\"SupportsIndex\"\u001b[0m  \u001b[0m\u001b[93m[arg-type]\u001b[0m\n",
      "src\\poodle\\core.py:183: \u001b[1m\u001b[91merror:\u001b[0m Argument 1 to \u001b[0m\u001b[1m\"pop\"\u001b[0m of \u001b[0m\u001b[1m\"list\"\u001b[0m has incompatible type \u001b[0m\u001b[1m\"Optional[int]\"\u001b[0m; expected \u001b[0m\u001b[1m\"SupportsIndex\"\u001b[0m  \u001b[0m\u001b[93m[arg-type]\u001b[0m\n",
      "src\\poodle\\cli.py:21: \u001b[1m\u001b[91merror:\u001b[0m Argument 1 to \u001b[0m\u001b[1m\"build_config\"\u001b[0m has incompatible type \u001b[0m\u001b[1m\"List[Path]\"\u001b[0m; expected \u001b[0m\u001b[1m\"Tuple[Path]\"\u001b[0m  \u001b[0m\u001b[93m[arg-type]\u001b[0m\n",
      "\u001b[1m\u001b[91mFound 25 errors in 4 files (checked 7 source files)\u001b[0m\n"
     ]
    }
   ],
   "source": [
    "!mypy src --python-version 3.8"
   ]
  },
  {
   "cell_type": "code",
   "execution_count": 40,
   "metadata": {},
   "outputs": [
    {
     "name": "stdout",
     "output_type": "stream",
     "text": [
      "src\\poodle\\mutators.py:111: \u001b[1m\u001b[91merror:\u001b[0m Argument \u001b[0m\u001b[1m\"end_lineno\"\u001b[0m to \u001b[0m\u001b[1m\"FileMutant\"\u001b[0m has incompatible type \u001b[0m\u001b[1m\"Optional[int]\"\u001b[0m; expected \u001b[0m\u001b[1m\"int\"\u001b[0m  \u001b[0m\u001b[93m[arg-type]\u001b[0m\n",
      "src\\poodle\\mutators.py:112: \u001b[1m\u001b[91merror:\u001b[0m Argument \u001b[0m\u001b[1m\"end_col_offset\"\u001b[0m to \u001b[0m\u001b[1m\"FileMutant\"\u001b[0m has incompatible type \u001b[0m\u001b[1m\"Optional[int]\"\u001b[0m; expected \u001b[0m\u001b[1m\"int\"\u001b[0m  \u001b[0m\u001b[93m[arg-type]\u001b[0m\n",
      "src\\poodle\\mutators.py:113: \u001b[1m\u001b[91merror:\u001b[0m Module has no attribute \u001b[0m\u001b[1m\"unparse\"\u001b[0m  \u001b[0m\u001b[93m[attr-defined]\u001b[0m\n",
      "src\\poodle\\config.py:9: \u001b[1m\u001b[91merror:\u001b[0m Cannot find implementation or library stub for module named \u001b[0m\u001b[1m\"tomllib\"\u001b[0m  \u001b[0m\u001b[93m[import-not-found]\u001b[0m\n",
      "src\\poodle\\config.py:9: \u001b[94mnote:\u001b[0m See \u001b[4mhttps://mypy.readthedocs.io/en/stable/running_mypy.html#missing-imports\u001b[0m\u001b[0m\n",
      "src\\poodle\\config.py:20: \u001b[1m\u001b[91merror:\u001b[0m Need type annotation for \u001b[0m\u001b[1m\"default_mutator_opts\"\u001b[0m (hint: \u001b[0m\u001b[1m\"default_mutator_opts: Dict[<type>, <type>] = ...\"\u001b[0m)  \u001b[0m\u001b[93m[var-annotated]\u001b[0m\n",
      "src\\poodle\\config.py:84: \u001b[1m\u001b[91merror:\u001b[0m \u001b[0m\u001b[1m\"Path\"\u001b[0m has no attribute \u001b[0m\u001b[1m\"__iter__\"\u001b[0m; maybe \u001b[0m\u001b[1m\"__enter__\"\u001b[0m? (not iterable)  \u001b[0m\u001b[93m[attr-defined]\u001b[0m\n",
      "src\\poodle\\config.py:88: \u001b[1m\u001b[91merror:\u001b[0m Incompatible return value type (got \u001b[0m\u001b[1m\"Path\"\u001b[0m, expected \u001b[0m\u001b[1m\"List[Path]\"\u001b[0m)  \u001b[0m\u001b[93m[return-value]\u001b[0m\n",
      "src\\poodle\\config.py:104: \u001b[1m\u001b[91merror:\u001b[0m Incompatible return value type (got \u001b[0m\u001b[1m\"Optional[Path]\"\u001b[0m, expected \u001b[0m\u001b[1m\"Path\"\u001b[0m)  \u001b[0m\u001b[93m[return-value]\u001b[0m\n",
      "src\\poodle\\config.py:116: \u001b[1m\u001b[91merror:\u001b[0m Incompatible default for argument \u001b[0m\u001b[1m\"command_line\"\u001b[0m (default has type \u001b[0m\u001b[1m\"Tuple[<nothing>, ...]\"\u001b[0m, argument has type \u001b[0m\u001b[1m\"Tuple[Path]\"\u001b[0m)  \u001b[0m\u001b[93m[assignment]\u001b[0m\n",
      "src\\poodle\\config.py:127: \u001b[1m\u001b[91merror:\u001b[0m Incompatible return value type (got \u001b[0m\u001b[1m\"List[Path]\"\u001b[0m, expected \u001b[0m\u001b[1m\"Path\"\u001b[0m)  \u001b[0m\u001b[93m[return-value]\u001b[0m\n",
      "src\\poodle\\config.py:131: \u001b[1m\u001b[91merror:\u001b[0m Incompatible return value type (got \u001b[0m\u001b[1m\"List[Path]\"\u001b[0m, expected \u001b[0m\u001b[1m\"Path\"\u001b[0m)  \u001b[0m\u001b[93m[return-value]\u001b[0m\n",
      "src\\poodle\\config.py:134: \u001b[1m\u001b[91merror:\u001b[0m Incompatible return value type (got \u001b[0m\u001b[1m\"List[Path]\"\u001b[0m, expected \u001b[0m\u001b[1m\"Path\"\u001b[0m)  \u001b[0m\u001b[93m[return-value]\u001b[0m\n",
      "src\\poodle\\config.py:136: \u001b[1m\u001b[91merror:\u001b[0m Incompatible return value type (got \u001b[0m\u001b[1m\"List[Path]\"\u001b[0m, expected \u001b[0m\u001b[1m\"Path\"\u001b[0m)  \u001b[0m\u001b[93m[return-value]\u001b[0m\n",
      "src\\poodle\\config.py:163: \u001b[1m\u001b[91merror:\u001b[0m Incompatible default for argument \u001b[0m\u001b[1m\"command_line\"\u001b[0m (default has type \u001b[0m\u001b[1m\"Tuple[<nothing>, ...]\"\u001b[0m, argument has type \u001b[0m\u001b[1m\"Union[str, Tuple[str]]\"\u001b[0m)  \u001b[0m\u001b[93m[assignment]\u001b[0m\n",
      "src\\poodle\\config.py:207: \u001b[1m\u001b[91merror:\u001b[0m Incompatible return value type (got \u001b[0m\u001b[1m\"Tuple[None, None]\"\u001b[0m, expected \u001b[0m\u001b[1m\"Tuple[Any, str]\"\u001b[0m)  \u001b[0m\u001b[93m[return-value]\u001b[0m\n",
      "tests\\test_mutators.py:18: \u001b[1m\u001b[91merror:\u001b[0m \u001b[0m\u001b[1m\"list\"\u001b[0m is not subscriptable, use \u001b[0m\u001b[1m\"typing.List\"\u001b[0m instead  \u001b[0m\u001b[93m[misc]\u001b[0m\n",
      "\u001b[1m\u001b[91mFound 16 errors in 3 files (checked 5 source files)\u001b[0m\n"
     ]
    }
   ],
   "source": [
    "!mypy tests --python-version 3.8"
   ]
  },
  {
   "cell_type": "code",
   "execution_count": null,
   "metadata": {},
   "outputs": [],
   "source": [
    "!ruff check --show-source src"
   ]
  },
  {
   "cell_type": "code",
   "execution_count": null,
   "metadata": {},
   "outputs": [],
   "source": [
    "!ruff check --diff src"
   ]
  },
  {
   "cell_type": "code",
   "execution_count": null,
   "metadata": {},
   "outputs": [],
   "source": [
    "!ruff check --show-source tests"
   ]
  },
  {
   "cell_type": "code",
   "execution_count": null,
   "metadata": {},
   "outputs": [],
   "source": [
    "!ruff check --diff tests"
   ]
  },
  {
   "cell_type": "code",
   "execution_count": null,
   "metadata": {},
   "outputs": [],
   "source": [
    "!cd example && pytest"
   ]
  },
  {
   "cell_type": "code",
   "execution_count": 29,
   "metadata": {},
   "outputs": [],
   "source": [
    "# pip install build setuptools twine --upgrade\n",
    "# py -m build\n",
    "# twine upload --repository pypi dist/*"
   ]
  },
  {
   "cell_type": "code",
   "execution_count": null,
   "metadata": {},
   "outputs": [],
   "source": []
  }
 ],
 "metadata": {
  "kernelspec": {
   "display_name": ".venv",
   "language": "python",
   "name": "python3"
  },
  "language_info": {
   "codemirror_mode": {
    "name": "ipython",
    "version": 3
   },
   "file_extension": ".py",
   "mimetype": "text/x-python",
   "name": "python",
   "nbconvert_exporter": "python",
   "pygments_lexer": "ipython3",
   "version": "3.11.5"
  }
 },
 "nbformat": 4,
 "nbformat_minor": 2
}
