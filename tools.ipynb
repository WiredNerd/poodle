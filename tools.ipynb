{
 "cells": [
  {
   "cell_type": "code",
   "execution_count": 113,
   "metadata": {},
   "outputs": [
    {
     "name": "stdout",
     "output_type": "stream",
     "text": [
      "Python 3.12.0\n",
      "Requirement already satisfied: pip in c:\\devpy\\poodle\\.venv\\lib\\site-packages (23.3.1)\n",
      "Requirement already satisfied: click>=8 in c:\\devpy\\poodle\\.venv\\lib\\site-packages (from -r requirements.txt (line 1)) (8.1.7)\n",
      "Requirement already satisfied: tomli>=2 in c:\\devpy\\poodle\\.venv\\lib\\site-packages (from -r requirements.txt (line 2)) (2.0.1)\n",
      "Requirement already satisfied: pytest in c:\\devpy\\poodle\\.venv\\lib\\site-packages (from -r requirements.txt (line 4)) (7.4.3)\n",
      "Requirement already satisfied: pytest-sort in c:\\devpy\\poodle\\.venv\\lib\\site-packages (from -r requirements.txt (line 5)) (1.2.2)\n",
      "Requirement already satisfied: pytest-cov in c:\\devpy\\poodle\\.venv\\lib\\site-packages (from -r requirements.txt (line 6)) (4.1.0)\n",
      "Requirement already satisfied: colorama in c:\\devpy\\poodle\\.venv\\lib\\site-packages (from click>=8->-r requirements.txt (line 1)) (0.4.6)\n",
      "Requirement already satisfied: iniconfig in c:\\devpy\\poodle\\.venv\\lib\\site-packages (from pytest->-r requirements.txt (line 4)) (2.0.0)\n",
      "Requirement already satisfied: packaging in c:\\devpy\\poodle\\.venv\\lib\\site-packages (from pytest->-r requirements.txt (line 4)) (23.2)\n",
      "Requirement already satisfied: pluggy<2.0,>=0.12 in c:\\devpy\\poodle\\.venv\\lib\\site-packages (from pytest->-r requirements.txt (line 4)) (1.3.0)\n",
      "Requirement already satisfied: whatthepatch>=1.0.5 in c:\\devpy\\poodle\\.venv\\lib\\site-packages (from pytest-sort->-r requirements.txt (line 5)) (1.0.5)\n",
      "Requirement already satisfied: coverage>=7.3.1 in c:\\devpy\\poodle\\.venv\\lib\\site-packages (from pytest-sort->-r requirements.txt (line 5)) (7.3.2)\n",
      "Note: you may need to restart the kernel to use updated packages.\n",
      "Requirement already satisfied: isort in c:\\devpy\\poodle\\.venv\\lib\\site-packages (5.12.0)\n",
      "Requirement already satisfied: black in c:\\devpy\\poodle\\.venv\\lib\\site-packages (23.11.0)\n",
      "Requirement already satisfied: mypy in c:\\devpy\\poodle\\.venv\\lib\\site-packages (1.7.1)\n",
      "Requirement already satisfied: ruff in c:\\devpy\\poodle\\.venv\\lib\\site-packages (0.1.6)\n",
      "Requirement already satisfied: click>=8.0.0 in c:\\devpy\\poodle\\.venv\\lib\\site-packages (from black) (8.1.7)\n",
      "Requirement already satisfied: mypy-extensions>=0.4.3 in c:\\devpy\\poodle\\.venv\\lib\\site-packages (from black) (1.0.0)\n",
      "Requirement already satisfied: packaging>=22.0 in c:\\devpy\\poodle\\.venv\\lib\\site-packages (from black) (23.2)\n",
      "Requirement already satisfied: pathspec>=0.9.0 in c:\\devpy\\poodle\\.venv\\lib\\site-packages (from black) (0.11.2)\n",
      "Requirement already satisfied: platformdirs>=2 in c:\\devpy\\poodle\\.venv\\lib\\site-packages (from black) (4.0.0)\n",
      "Requirement already satisfied: typing-extensions>=4.1.0 in c:\\devpy\\poodle\\.venv\\lib\\site-packages (from mypy) (4.8.0)\n",
      "Requirement already satisfied: colorama in c:\\devpy\\poodle\\.venv\\lib\\site-packages (from click>=8.0.0->black) (0.4.6)\n",
      "Note: you may need to restart the kernel to use updated packages.\n"
     ]
    }
   ],
   "source": [
    "!python.exe --version\n",
    "!python.exe -m pip install --upgrade pip\n",
    "%pip install -r requirements.txt --upgrade\n",
    "%pip install isort black mypy ruff --upgrade"
   ]
  },
  {
   "cell_type": "code",
   "execution_count": 114,
   "metadata": {},
   "outputs": [
    {
     "name": "stdout",
     "output_type": "stream",
     "text": [
      "Obtaining file:///C:/DEVPY/poodle\n",
      "  Installing build dependencies: started\n",
      "  Installing build dependencies: finished with status 'done'\n",
      "  Checking if build backend supports build_editable: started\n",
      "  Checking if build backend supports build_editable: finished with status 'done'\n",
      "  Getting requirements to build editable: started\n",
      "  Getting requirements to build editable: finished with status 'done'\n",
      "  Installing backend dependencies: started\n",
      "  Installing backend dependencies: finished with status 'done'\n",
      "  Preparing editable metadata (pyproject.toml): started\n",
      "  Preparing editable metadata (pyproject.toml): finished with status 'done'\n",
      "Requirement already satisfied: click>=8 in c:\\devpy\\poodle\\.venv\\lib\\site-packages (from poodle-test==0.0.1a4) (8.1.7)\n",
      "Requirement already satisfied: colorama in c:\\devpy\\poodle\\.venv\\lib\\site-packages (from click>=8->poodle-test==0.0.1a4) (0.4.6)\n",
      "Building wheels for collected packages: poodle-test\n",
      "  Building editable for poodle-test (pyproject.toml): started\n",
      "  Building editable for poodle-test (pyproject.toml): finished with status 'done'\n",
      "  Created wheel for poodle-test: filename=poodle_test-0.0.1a4-0.editable-py3-none-any.whl size=4267 sha256=16ad5e9e6c6c9d02722133a84eab5f7b5a8a75bc9cc28142ab722a2dbbddc4fd\n",
      "  Stored in directory: C:\\Users\\busch\\AppData\\Local\\Temp\\pip-ephem-wheel-cache-chxpczl1\\wheels\\86\\18\\3a\\05f6a9c88398b1b8b3d24332aeb41a5077fcc95bf10820a6ce\n",
      "Successfully built poodle-test\n",
      "Installing collected packages: poodle-test\n",
      "  Attempting uninstall: poodle-test\n",
      "    Found existing installation: poodle-test 0.0.1a3\n",
      "    Uninstalling poodle-test-0.0.1a3:\n",
      "      Successfully uninstalled poodle-test-0.0.1a3\n",
      "Successfully installed poodle-test-0.0.1a4\n",
      "Note: you may need to restart the kernel to use updated packages.\n"
     ]
    }
   ],
   "source": [
    "%pip install --editable ."
   ]
  },
  {
   "cell_type": "code",
   "execution_count": 115,
   "metadata": {},
   "outputs": [
    {
     "name": "stdout",
     "output_type": "stream",
     "text": [
      "\u001b[1m============================= test session starts =============================\u001b[0m\n",
      "platform win32 -- Python 3.12.0, pytest-7.4.3, pluggy-1.3.0 -- c:\\DEVPY\\poodle\\.venv\\Scripts\\python.exe\n",
      "cachedir: .pytest_cache\n",
      "pytest-sort:\n",
      "  sort-mode: random\n",
      "  sort-bucket: session\n",
      "  sort-seed: 304744\n",
      "rootdir: c:\\DEVPY\\poodle\n",
      "configfile: pyproject.toml\n",
      "testpaths: tests\n",
      "plugins: anyio-4.1.0, cov-4.1.0, sort-1.2.2\n",
      "\u001b[1mcollecting ... \u001b[0mcollected 303 items\n",
      "\n",
      "tests/mutators/test_operators.py::TestBinaryOperationMutator::test_visit_BinOp_level_max[BitOr-text_out9] \u001b[32mPASSED\u001b[0m\u001b[32m [  0%]\u001b[0m\n",
      "tests/test_config.py::TestGetCommandLineLoggingOptions::test_get_cmd_line_echo_enabled[-None] \u001b[32mPASSED\u001b[0m\u001b[32m [  0%]\u001b[0m\n",
      "tests/test_config.py::TestGetBoolFromConfig::test_values[True-False-True] \u001b[32mPASSED\u001b[0m\u001b[32m [  0%]\u001b[0m\n",
      "tests/test_config.py::TestGetDictFromConfig::test_poodle_config \u001b[32mPASSED\u001b[0m\u001b[32m   [  1%]\u001b[0m\n",
      "tests/runners/test_command_line.py::TestCommandLineRunner::test_rc_2 \u001b[32mPASSED\u001b[0m\u001b[32m [  1%]\u001b[0m\n",
      "tests/reporters/test_basic.py::TestReportNotFound::test_all_passed \u001b[32mPASSED\u001b[0m\u001b[32m [  1%]\u001b[0m\n",
      "tests/test_config.py::TestGetCommandLineLoggingOptions::test_get_cmd_line_log_level[vv-10] \u001b[32mPASSED\u001b[0m\u001b[32m [  2%]\u001b[0m\n",
      "tests/test_config.py::TestGetStrFromConfig::test_string \u001b[32mPASSED\u001b[0m\u001b[32m           [  2%]\u001b[0m\n",
      "tests/mutators/test_operators.py::TestAugAssignMutator::test_visit_AugAssign_level_max[Sub-text_out1] \u001b[32mPASSED\u001b[0m\u001b[32m [  2%]\u001b[0m\n",
      "tests/mutators/test_calls.py::TestDecoratorMutator::test_mutator_name \u001b[32mPASSED\u001b[0m\u001b[32m [  3%]\u001b[0m\n",
      "tests/reporters/test_basic.py::TestReportSummary::test_all \u001b[32mPASSED\u001b[0m\u001b[32m        [  3%]\u001b[0m\n",
      "tests/test_config.py::TestGetBoolFromConfig::test_default[False] \u001b[32mPASSED\u001b[0m\u001b[32m  [  3%]\u001b[0m\n",
      "tests/test_config.py::TestGetOptionFromConfig::test_get_config_data_value \u001b[32mPASSED\u001b[0m\u001b[32m [  4%]\u001b[0m\n",
      "tests/reporters/test_basic.py::TestReportSummary::test_no_mutants \u001b[32mPASSED\u001b[0m\u001b[32m [  4%]\u001b[0m\n",
      "tests/mutators/test_compare.py::TestComparisonMutator::test_init \u001b[32mPASSED\u001b[0m\u001b[32m  [  4%]\u001b[0m\n",
      "tests/mutators/test_calls.py::TestLambdaReturnMutator::test_lambda_returns_none \u001b[32mPASSED\u001b[0m\u001b[32m [  5%]\u001b[0m\n",
      "tests/test_mutate.py::TestInit::test_initialize_mutator_import_error \u001b[32mPASSED\u001b[0m\u001b[32m [  5%]\u001b[0m\n",
      "tests/mutators/test_constant.py::TestNumberMutator::test_create_mutations[3-mutants0] \u001b[32mPASSED\u001b[0m\u001b[32m [  5%]\u001b[0m\n",
      "tests/mutators/test_unary_op.py::TestUnaryOperationMutator::test_create_mutations[~a-a] \u001b[32mPASSED\u001b[0m\u001b[32m [  6%]\u001b[0m\n",
      "tests/mutators/test_calls.py::TestDictArrayCallMutator::test_array_call_mutator \u001b[32mPASSED\u001b[0m\u001b[32m [  6%]\u001b[0m\n",
      "tests/mutators/test_operators.py::TestAugAssignMutator::test_visit_AugAssign_level_max[LShift-text_out8] \u001b[32mPASSED\u001b[0m\u001b[32m [  6%]\u001b[0m\n",
      "tests/data_types/test_interfaces.py::TestMutator::test_abstract \u001b[32mPASSED\u001b[0m\u001b[32m   [  7%]\u001b[0m\n",
      "tests/data_types/test_data.py::TestTestingSummary::test_testing_summary \u001b[32mPASSED\u001b[0m\u001b[32m [  7%]\u001b[0m\n",
      "tests/mutators/test_operators.py::TestBinaryOperationMutator::test_visit_BinOp_level_std[Sub-text_out1] \u001b[32mPASSED\u001b[0m\u001b[32m [  7%]\u001b[0m\n",
      "tests/mutators/test_operators.py::TestBinaryOperationMutator::test_visit_BinOp_level_std[LShift-text_out8] \u001b[32mPASSED\u001b[0m\u001b[32m [  8%]\u001b[0m\n",
      "tests/mutators/test_constant.py::TestStringMutator::test_create_mutations_doc \u001b[32mPASSED\u001b[0m\u001b[32m [  8%]\u001b[0m\n",
      "tests/test_mutate.py::TestFilter::test_is_filtered[mutation_args15-mutators15-False] \u001b[32mPASSED\u001b[0m\u001b[32m [  8%]\u001b[0m\n",
      "tests/test_config.py::TestGetConfigFileDataToml::test_get_config_file_data_toml_tool_poodle \u001b[32mPASSED\u001b[0m\u001b[32m [  9%]\u001b[0m\n",
      "tests/test_config.py::TestGetConfigFileDataToml::test_get_config_file_data_toml_poodle \u001b[32mPASSED\u001b[0m\u001b[32m [  9%]\u001b[0m\n",
      "tests/mutators/test_calls.py::TestDictArrayCallMutator::test_dict_call_mutator \u001b[32mPASSED\u001b[0m\u001b[32m [  9%]\u001b[0m\n",
      "tests/test_config.py::TestGetCommandLineLoggingOptions::test_get_cmd_line_echo_enabled[q-False] \u001b[32mPASSED\u001b[0m\u001b[32m [ 10%]\u001b[0m\n",
      "tests/test_config.py::TestGetOptionFromConfig::test_not_found \u001b[32mPASSED\u001b[0m\u001b[32m     [ 10%]\u001b[0m\n",
      "tests/mutators/test_operators.py::TestAugAssignMutator::test_visit_AugAssign_level_max[BitAnd-text_out11] \u001b[32mPASSED\u001b[0m\u001b[32m [ 10%]\u001b[0m\n",
      "tests/test_mutate.py::TestFilter::test_is_filtered[mutation_args12-mutators12-False] \u001b[32mPASSED\u001b[0m\u001b[32m [ 11%]\u001b[0m\n",
      "tests/mutators/test_operators.py::TestBinaryOperationMutator::test_visit_BinOp_level_min[Mod-text_out5] \u001b[32mPASSED\u001b[0m\u001b[32m [ 11%]\u001b[0m\n",
      "tests/test_config.py::TestGetAnyListFromConfig::test_tuple \u001b[32mPASSED\u001b[0m\u001b[32m        [ 11%]\u001b[0m\n",
      "tests/data_types/test_data.py::TestMutantTrial::test_mutant_trial \u001b[32mPASSED\u001b[0m\u001b[32m [ 12%]\u001b[0m\n",
      "tests/test_config.py::TestGetStrListFromConfig::test_string \u001b[32mPASSED\u001b[0m\u001b[32m       [ 12%]\u001b[0m\n",
      "tests/test_config.py::TestGetStrListFromConfig::test_type_error \u001b[32mPASSED\u001b[0m\u001b[32m   [ 12%]\u001b[0m\n",
      "tests/mutators/test_compare.py::TestComparisonMutator::test_create_mutations_eq[a <= b-mutants2] \u001b[32mPASSED\u001b[0m\u001b[32m [ 13%]\u001b[0m\n",
      "tests/mutators/test_operators.py::TestBinaryOperationMutator::test_visit_BinOp_level_std[RShift-text_out7] \u001b[32mPASSED\u001b[0m\u001b[32m [ 13%]\u001b[0m\n",
      "tests/mutators/test_operators.py::TestBinaryOperationMutator::test_visit_BinOp_level_max[BitAnd-text_out11] \u001b[32mPASSED\u001b[0m\u001b[32m [ 13%]\u001b[0m\n",
      "tests/test_config.py::TestGetConfigFilePath::test_get_config_file_path_pyproject \u001b[32mPASSED\u001b[0m\u001b[32m [ 14%]\u001b[0m\n",
      "tests/test_mutate.py::TestFilter::test_is_filtered[mutation_args7-mutators7-True] \u001b[32mPASSED\u001b[0m\u001b[32m [ 14%]\u001b[0m\n",
      "tests/mutators/test_compare.py::TestComparisonMutator::test_create_mutations_eq[a < b-mutants1] \u001b[32mPASSED\u001b[0m\u001b[32m [ 14%]\u001b[0m\n",
      "tests/test_util.py::TestFilesList::test_files_list_for_source_folders \u001b[32mPASSED\u001b[0m\u001b[32m [ 15%]\u001b[0m\n",
      "tests/test_config.py::TestGetAnyFromConfig::test_default_inputs \u001b[32mPASSED\u001b[0m\u001b[32m   [ 15%]\u001b[0m\n",
      "tests/test_config.py::TestGetIntFromConfig::test_default_inputs \u001b[32mPASSED\u001b[0m\u001b[32m   [ 15%]\u001b[0m\n",
      "tests/mutators/test_operators.py::TestAugAssignMutator::test_visit_AugAssign_level_min[LShift-text_out8] \u001b[32mPASSED\u001b[0m\u001b[32m [ 16%]\u001b[0m\n",
      "tests/mutators/test_operators.py::TestAugAssignMutator::test_visit_AugAssign_level_std[MatMult-text_out12] \u001b[32mPASSED\u001b[0m\u001b[32m [ 16%]\u001b[0m\n",
      "tests/test_mutate.py::TestFilter::test_is_filtered[mutation_args4-mutators4-False] \u001b[32mPASSED\u001b[0m\u001b[32m [ 16%]\u001b[0m\n",
      "tests/mutators/test_compare.py::TestComparisonMutator::test_init_patterns \u001b[32mPASSED\u001b[0m\u001b[32m [ 17%]\u001b[0m\n",
      "tests/test_mutate.py::TestFilter::test_parse_filters \u001b[32mPASSED\u001b[0m\u001b[32m              [ 17%]\u001b[0m\n",
      "tests/mutators/test_operators.py::TestAugAssignMutator::test_visit_AugAssign_level_min[BitOr-text_out9] \u001b[32mPASSED\u001b[0m\u001b[32m [ 17%]\u001b[0m\n",
      "tests/mutators/test_constant.py::TestKeywordMutator::test_create_mutations[None-mutants4] \u001b[32mPASSED\u001b[0m\u001b[32m [ 18%]\u001b[0m\n",
      "tests/mutators/test_constant.py::TestNumberMutator::test_create_mutations[1.2-mutants6] \u001b[32mPASSED\u001b[0m\u001b[32m [ 18%]\u001b[0m\n",
      "tests/test_config.py::TestGetIntFromConfig::test_convert_error \u001b[32mPASSED\u001b[0m\u001b[32m    [ 18%]\u001b[0m\n",
      "tests/test_config.py::TestGetCommandLineLoggingOptions::test_get_cmd_line_log_level[q-40] \u001b[32mPASSED\u001b[0m\u001b[32m [ 19%]\u001b[0m\n",
      "tests/test_mutate.py::TestInit::test_initialize_mutator_str_func \u001b[32mPASSED\u001b[0m\u001b[32m  [ 19%]\u001b[0m\n",
      "tests/mutators/test_operators.py::TestBinaryOperationMutator::test_visit_BinOp_level_max[Mod-text_out5] \u001b[32mPASSED\u001b[0m\u001b[32m [ 19%]\u001b[0m\n",
      "tests/mutators/test_operators.py::TestAugAssignMutator::test_visit_AugAssign_level_std[Mod-text_out5] \u001b[32mPASSED\u001b[0m\u001b[32m [ 20%]\u001b[0m\n",
      "tests/test_mutate.py::TestFilter::test_is_filtered[mutation_args14-mutators14-False] \u001b[32mPASSED\u001b[0m\u001b[32m [ 20%]\u001b[0m\n",
      "tests/mutators/test_constant.py::TestNumberMutator::test_create_mutations[0o3-mutants1] \u001b[32mPASSED\u001b[0m\u001b[32m [ 20%]\u001b[0m\n",
      "tests/mutators/test_operators.py::TestBinaryOperationMutator::test_visit_BinOp_level_max[Mult-text_out2] \u001b[32mPASSED\u001b[0m\u001b[32m [ 21%]\u001b[0m\n",
      "tests/test_core.py::TestMain::test_main_not_exists \u001b[32mPASSED\u001b[0m\u001b[32m                [ 21%]\u001b[0m\n",
      "tests/test_config.py::TestGetStrListFromConfig::test_string_list \u001b[32mPASSED\u001b[0m\u001b[32m  [ 21%]\u001b[0m\n",
      "tests/mutators/test_operators.py::TestBinaryOperationMutator::test_visit_BinOp_level_std[MatMult-text_out12] \u001b[32mPASSED\u001b[0m\u001b[32m [ 22%]\u001b[0m\n",
      "tests/test_config.py::TestGetSourceFolders::test_get_source_folders_not_folder \u001b[32mPASSED\u001b[0m\u001b[32m [ 22%]\u001b[0m\n",
      "tests/mutators/test_operators.py::TestBinaryOperationMutator::test_visit_BinOp_level_max[MatMult-text_out12] \u001b[32mPASSED\u001b[0m\u001b[32m [ 22%]\u001b[0m\n",
      "tests/mutators/test_constant.py::TestNumberMutator::test_create_mutations[3j-mutants4] \u001b[32mPASSED\u001b[0m\u001b[32m [ 23%]\u001b[0m\n",
      "tests/mutators/test_calls.py::TestReturnMutator::test_mutator_name \u001b[32mPASSED\u001b[0m\u001b[32m [ 23%]\u001b[0m\n",
      "tests/mutators/test_operators.py::TestBinaryOperationMutator::test_visit_BinOp_level_std[Add-text_out0] \u001b[32mPASSED\u001b[0m\u001b[32m [ 23%]\u001b[0m\n",
      "tests/reporters/test_basic.py::TestReportSummary::test_timeout \u001b[32mPASSED\u001b[0m\u001b[32m    [ 24%]\u001b[0m\n",
      "tests/mutators/test_constant.py::TestKeywordMutator::test_create_mutations[False-mutants2] \u001b[32mPASSED\u001b[0m\u001b[32m [ 24%]\u001b[0m\n",
      "tests/mutators/test_compare.py::TestComparisonMutator::test_create_mutations_eq[a in d-mutants7] \u001b[32mPASSED\u001b[0m\u001b[32m [ 24%]\u001b[0m\n",
      "tests/mutators/test_operators.py::TestAugAssignMutator::test_visit_AugAssign_level_std[BitOr-text_out9] \u001b[32mPASSED\u001b[0m\u001b[32m [ 25%]\u001b[0m\n",
      "tests/reporters/test_basic.py::TestReportSummary::test_errors \u001b[32mPASSED\u001b[0m\u001b[32m     [ 25%]\u001b[0m\n",
      "tests/data_types/test_data.py::TestMutant::test_poodle_mutant_min \u001b[32mPASSED\u001b[0m\u001b[32m [ 25%]\u001b[0m\n",
      "tests/test_mutate.py::TestFilter::test_is_filtered[mutation_args1-mutators1-True] \u001b[32mPASSED\u001b[0m\u001b[32m [ 26%]\u001b[0m\n",
      "tests/mutators/test_operators.py::TestAugAssignMutator::test_visit_AugAssign_level_max[Add-text_out0] \u001b[32mPASSED\u001b[0m\u001b[32m [ 26%]\u001b[0m\n",
      "tests/reporters/test_basic.py::TestReportNotFound::test_failed \u001b[32mPASSED\u001b[0m\u001b[32m    [ 26%]\u001b[0m\n",
      "tests/mutators/test_unary_op.py::TestUnaryOperationMutator::test_create_mutations[-3-+3] \u001b[32mPASSED\u001b[0m\u001b[32m [ 27%]\u001b[0m\n",
      "tests/test_config.py::TestGetBoolFromConfig::test_default_inputs \u001b[32mPASSED\u001b[0m\u001b[32m  [ 27%]\u001b[0m\n",
      "tests/mutators/test_constant.py::TestStringMutator::test_create_mutations_double_quote \u001b[32mPASSED\u001b[0m\u001b[32m [ 27%]\u001b[0m\n",
      "tests/data_types/test_work.py::TestPoodleConfig::test_poodle_config <- tests\\data_types\\test_data.py \u001b[32mPASSED\u001b[0m\u001b[32m [ 28%]\u001b[0m\n",
      "tests/test_mutate.py::TestFilter::test_is_filtered[mutation_args5-mutators5-False] \u001b[32mPASSED\u001b[0m\u001b[32m [ 28%]\u001b[0m\n",
      "tests/data_types/test_interfaces.py::TestMutator::test_get_location_gt_end_lineno_lt_end_col \u001b[32mPASSED\u001b[0m\u001b[32m [ 28%]\u001b[0m\n",
      "tests/data_types/test_interfaces.py::TestMutator::test_get_location_no_ends \u001b[32mPASSED\u001b[0m\u001b[32m [ 29%]\u001b[0m\n",
      "tests/test_config.py::TestGetPathListFromConfig::test_default_inputs \u001b[32mPASSED\u001b[0m\u001b[32m [ 29%]\u001b[0m\n",
      "tests/mutators/test_operators.py::TestAugAssignMutator::test_visit_AugAssign_level_std[Pow-text_out6] \u001b[32mPASSED\u001b[0m\u001b[32m [ 29%]\u001b[0m\n",
      "tests/mutators/test_calls.py::TestLambdaReturnMutator::test_mutator_name \u001b[32mPASSED\u001b[0m\u001b[32m [ 30%]\u001b[0m\n",
      "tests/test_config.py::TestGetSourceFolders::test_get_source_folders_not_found \u001b[32mPASSED\u001b[0m\u001b[32m [ 30%]\u001b[0m\n",
      "tests/mutators/test_operators.py::TestOperationMutator::test_create_mutations \u001b[32mPASSED\u001b[0m\u001b[32m [ 30%]\u001b[0m\n",
      "tests/test_config.py::TestGetPathFromConfig::test_default_inputs \u001b[32mPASSED\u001b[0m\u001b[32m  [ 31%]\u001b[0m\n",
      "tests/mutators/test_calls.py::TestLambdaReturnMutator::test_lambda_return_mutator \u001b[32mPASSED\u001b[0m\u001b[32m [ 31%]\u001b[0m\n",
      "tests/test_mutate.py::TestFilter::test_is_filtered[mutation_args9-mutators9-True] \u001b[32mPASSED\u001b[0m\u001b[32m [ 31%]\u001b[0m\n",
      "tests/mutators/test_operators.py::TestAugAssignMutator::test_visit_AugAssign_level_std[BitAnd-text_out11] \u001b[32mPASSED\u001b[0m\u001b[32m [ 32%]\u001b[0m\n",
      "tests/mutators/test_operators.py::TestAugAssignMutator::test_visit_AugAssign_level_max[Div-text_out3] \u001b[32mPASSED\u001b[0m\u001b[32m [ 32%]\u001b[0m\n",
      "tests/test_mutate.py::TestInit::test_initialize_mutator_class \u001b[32mPASSED\u001b[0m\u001b[32m     [ 32%]\u001b[0m\n",
      "tests/mutators/test_operators.py::TestBinaryOperationMutator::test_visit_BinOp_level_max[LShift-text_out8] \u001b[32mPASSED\u001b[0m\u001b[32m [ 33%]\u001b[0m\n",
      "tests/test_util.py::TestDynamicImport::test_dynamic_import \u001b[32mPASSED\u001b[0m\u001b[32m        [ 33%]\u001b[0m\n",
      "tests/test_mutate.py::TestInit::test_initialize_mutator_invalid_error \u001b[32mPASSED\u001b[0m\u001b[32m [ 33%]\u001b[0m\n",
      "tests/mutators/test_operators.py::TestBinaryOperationMutator::test_visit_BinOp_level_min[Sub-text_out1] \u001b[32mPASSED\u001b[0m\u001b[32m [ 33%]\u001b[0m\n",
      "tests/mutators/test_operators.py::TestAugAssignMutator::test_visit_AugAssign_level_min[Pow-text_out6] \u001b[32mPASSED\u001b[0m\u001b[32m [ 34%]\u001b[0m\n",
      "tests/mutators/test_operators.py::TestBinaryOperationMutator::test_visit_BinOp_level_min[BitOr-text_out9] \u001b[32mPASSED\u001b[0m\u001b[32m [ 34%]\u001b[0m\n",
      "tests/runners/test_command_line.py::TestCommandLineRunner::test_runner \u001b[32mPASSED\u001b[0m\u001b[32m [ 34%]\u001b[0m\n",
      "tests/data_types/test_interfaces.py::test_runner \u001b[32mPASSED\u001b[0m\u001b[32m                  [ 35%]\u001b[0m\n",
      "tests/mutators/test_calls.py::TestDecoratorMutator::test_decorator_mutator \u001b[32mPASSED\u001b[0m\u001b[32m [ 35%]\u001b[0m\n",
      "tests/mutators/test_constant.py::TestStringMutator::test_create_mutations_single_quote \u001b[32mPASSED\u001b[0m\u001b[32m [ 35%]\u001b[0m\n",
      "tests/test_config.py::TestGetConfigFilePath::test_get_config_file_path_cmd_line \u001b[32mPASSED\u001b[0m\u001b[32m [ 36%]\u001b[0m\n",
      "tests/data_types/test_interfaces.py::TestMutator::test_mutator_name \u001b[32mPASSED\u001b[0m\u001b[32m [ 36%]\u001b[0m\n",
      "tests/mutators/test_operators.py::TestBinaryOperationMutator::test_visit_BinOp_level_min[FloorDiv-text_out4] \u001b[32mPASSED\u001b[0m\u001b[32m [ 36%]\u001b[0m\n",
      "tests/data_types/test_data.py::TestPoodleConfig::test_poodle_config \u001b[32mPASSED\u001b[0m\u001b[32m [ 37%]\u001b[0m\n",
      "tests/mutators/test_calls.py::TestDictArrayCallMutator::test_mutator_name \u001b[32mPASSED\u001b[0m\u001b[32m [ 37%]\u001b[0m\n",
      "tests/mutators/test_compare.py::TestComparisonMutator::test_create_mutations_eq[a >= b-mutants4] \u001b[32mPASSED\u001b[0m\u001b[32m [ 37%]\u001b[0m\n",
      "tests/mutators/test_compare.py::TestComparisonMutator::test_create_mutations_eq[a is None-mutants5] \u001b[32mPASSED\u001b[0m\u001b[32m [ 38%]\u001b[0m\n",
      "tests/mutators/test_operators.py::TestAugAssignMutator::test_visit_AugAssign_level_max[BitOr-text_out9] \u001b[32mPASSED\u001b[0m\u001b[32m [ 38%]\u001b[0m\n",
      "tests/test_config.py::TestGetStrListFromConfig::test_default_inputs \u001b[32mPASSED\u001b[0m\u001b[32m [ 38%]\u001b[0m\n",
      "tests/mutators/test_operators.py::TestAugAssignMutator::test_visit_AugAssign_level_min[RShift-text_out7] \u001b[32mPASSED\u001b[0m\u001b[32m [ 39%]\u001b[0m\n",
      "tests/test_config.py::TestGetConfigFilePath::test_get_config_file_path_none \u001b[32mPASSED\u001b[0m\u001b[32m [ 39%]\u001b[0m\n",
      "tests/test_config.py::TestGetDictFromConfig::test_poodle_config_invalid \u001b[32mPASSED\u001b[0m\u001b[32m [ 39%]\u001b[0m\n",
      "tests/test_config.py::TestGetBoolFromConfig::test_values[None-True-True] \u001b[32mPASSED\u001b[0m\u001b[32m [ 40%]\u001b[0m\n",
      "tests/mutators/test_calls.py::TestFunctionCallMutator::test_create_mutations \u001b[32mPASSED\u001b[0m\u001b[32m [ 40%]\u001b[0m\n",
      "tests/test_report.py::TestReporters::test_builtin_reporters \u001b[32mPASSED\u001b[0m\u001b[32m       [ 40%]\u001b[0m\n",
      "tests/test_config.py::TestGetCommandLineLoggingOptions::test_get_cmd_line_echo_enabled[None-None] \u001b[32mPASSED\u001b[0m\u001b[32m [ 41%]\u001b[0m\n",
      "tests/mutators/test_operators.py::TestAugAssignMutator::test_visit_AugAssign_level_min[MatMult-text_out12] \u001b[32mPASSED\u001b[0m\u001b[32m [ 41%]\u001b[0m\n",
      "tests/test_mutate.py::TestInit::test_initialize_mutators \u001b[32mPASSED\u001b[0m\u001b[32m          [ 41%]\u001b[0m\n",
      "tests/mutators/test_compare.py::TestComparisonMutator::test_create_mutations_eq[a > b-mutants3] \u001b[32mPASSED\u001b[0m\u001b[32m [ 42%]\u001b[0m\n",
      "tests/test_config.py::TestGetAnyFromConfig::test_return_value \u001b[32mPASSED\u001b[0m\u001b[32m     [ 42%]\u001b[0m\n",
      "tests/mutators/test_operators.py::TestAugAssignMutator::test_visit_AugAssign_level_std[RShift-text_out7] \u001b[32mPASSED\u001b[0m\u001b[32m [ 42%]\u001b[0m\n",
      "tests/data_types/test_interfaces.py::TestMutator::test_add_parent_attr \u001b[32mPASSED\u001b[0m\u001b[32m [ 43%]\u001b[0m\n",
      "tests/mutators/test_operators.py::TestBinaryOperationMutator::test_visit_BinOp_level_max[Pow-text_out6] \u001b[32mPASSED\u001b[0m\u001b[32m [ 43%]\u001b[0m\n",
      "tests/test_config.py::TestGetBoolFromConfig::test_values[False-True-False1] \u001b[32mPASSED\u001b[0m\u001b[32m [ 43%]\u001b[0m\n",
      "tests/data_types/test_data.py::TestMutant::test_init \u001b[32mPASSED\u001b[0m\u001b[32m              [ 44%]\u001b[0m\n",
      "tests/mutators/test_operators.py::TestBinaryOperationMutator::test_visit_BinOp_level_std[BitAnd-text_out11] \u001b[32mPASSED\u001b[0m\u001b[32m [ 44%]\u001b[0m\n",
      "tests/test_config.py::TestGetCommandLineLoggingOptions::test_get_cmd_line_log_level[None-None] \u001b[32mPASSED\u001b[0m\u001b[32m [ 44%]\u001b[0m\n",
      "tests/test_config.py::TestMaxWorkers::test_default_max_workers_affinity \u001b[32mPASSED\u001b[0m\u001b[32m [ 45%]\u001b[0m\n",
      "tests/test_mutate.py::TestCreateMutants::test_create_mutants_for_all_mutators \u001b[32mPASSED\u001b[0m\u001b[32m [ 45%]\u001b[0m\n",
      "tests/data_types/test_interfaces.py::test_create_mutations \u001b[32mPASSED\u001b[0m\u001b[32m        [ 45%]\u001b[0m\n",
      "tests/test_util.py::TestFilesList::test_files_list_for_folder \u001b[32mPASSED\u001b[0m\u001b[32m     [ 46%]\u001b[0m\n",
      "tests/test_mutate.py::TestFilter::test_is_filtered[mutation_args0-mutators0-True] \u001b[32mPASSED\u001b[0m\u001b[32m [ 46%]\u001b[0m\n",
      "tests/test_mutate.py::TestCreateMutants::test_get_target_files \u001b[32mPASSED\u001b[0m\u001b[32m    [ 46%]\u001b[0m\n",
      "tests/mutators/test_operators.py::TestBinaryOperationMutator::test_visit_BinOp_level_std[Div-text_out3] \u001b[32mPASSED\u001b[0m\u001b[32m [ 47%]\u001b[0m\n",
      "tests/mutators/test_operators.py::TestAugAssignMutator::test_mutator_name \u001b[32mPASSED\u001b[0m\u001b[32m [ 47%]\u001b[0m\n",
      "tests/mutators/test_operators.py::TestBinaryOperationMutator::test_visit_BinOp_level_min[RShift-text_out7] \u001b[32mPASSED\u001b[0m\u001b[32m [ 47%]\u001b[0m\n",
      "tests/mutators/test_operators.py::TestAugAssignMutator::test_visit_AugAssign_level_max[RShift-text_out7] \u001b[32mPASSED\u001b[0m\u001b[32m [ 48%]\u001b[0m\n",
      "tests/mutators/test_operators.py::TestAugAssignMutator::test_visit_AugAssign_level_min[Mult-text_out2] \u001b[32mPASSED\u001b[0m\u001b[32m [ 48%]\u001b[0m\n",
      "tests/mutators/test_compare.py::TestComparisonMutator::test_create_mutations_eq[a or d-mutants9] \u001b[32mPASSED\u001b[0m\u001b[32m [ 48%]\u001b[0m\n",
      "tests/test_mutate.py::TestInit::test_initialize_mutator_func \u001b[32mPASSED\u001b[0m\u001b[32m      [ 49%]\u001b[0m\n",
      "tests/test_config.py::test_defaults \u001b[32mPASSED\u001b[0m\u001b[32m                               [ 49%]\u001b[0m\n",
      "tests/test_mutate.py::TestFilter::test_is_filtered[mutation_args8-mutators8-True] \u001b[32mPASSED\u001b[0m\u001b[32m [ 49%]\u001b[0m\n",
      "tests/test_config.py::TestGetAnyListFromConfig::test_default_inputs \u001b[32mPASSED\u001b[0m\u001b[32m [ 50%]\u001b[0m\n",
      "tests/mutators/test_operators.py::TestBinaryOperationMutator::test_visit_BinOp_level_max[Sub-text_out1] \u001b[32mPASSED\u001b[0m\u001b[32m [ 50%]\u001b[0m\n",
      "tests/test_config.py::TestGetBoolFromConfig::test_values[true-False-True] \u001b[32mPASSED\u001b[0m\u001b[32m [ 50%]\u001b[0m\n",
      "tests/test_config.py::TestGetPathListFromConfig::test_default \u001b[32mPASSED\u001b[0m\u001b[32m     [ 51%]\u001b[0m\n",
      "tests/mutators/test_operators.py::TestAugAssignMutator::test_visit_AugAssign_level_min[Add-text_out0] \u001b[32mPASSED\u001b[0m\u001b[32m [ 51%]\u001b[0m\n",
      "tests/mutators/test_operators.py::TestAugAssignMutator::test_visit_AugAssign_level_max[BitXor-text_out10] \u001b[32mPASSED\u001b[0m\u001b[32m [ 51%]\u001b[0m\n",
      "tests/mutators/test_unary_op.py::TestUnaryOperationMutator::test_create_mutations[+3--3] \u001b[32mPASSED\u001b[0m\u001b[32m [ 52%]\u001b[0m\n",
      "tests/test_config.py::TestGetPathFromConfig::test_not_path \u001b[32mPASSED\u001b[0m\u001b[32m        [ 52%]\u001b[0m\n",
      "tests/test_mutate.py::TestFilter::test_add_filter \u001b[32mPASSED\u001b[0m\u001b[32m                 [ 52%]\u001b[0m\n",
      "tests/mutators/test_operators.py::TestOperationMutator::test_init_invalid_level \u001b[32mPASSED\u001b[0m\u001b[32m [ 53%]\u001b[0m\n",
      "tests/mutators/test_operators.py::TestBinaryOperationMutator::test_visit_BinOp_level_min[LShift-text_out8] \u001b[32mPASSED\u001b[0m\u001b[32m [ 53%]\u001b[0m\n",
      "tests/mutators/test_operators.py::TestBinaryOperationMutator::test_visit_BinOp_level_max[RShift-text_out7] \u001b[32mPASSED\u001b[0m\u001b[32m [ 53%]\u001b[0m\n",
      "tests/mutators/test_operators.py::TestOperationMutator::test_init_valid_level \u001b[32mPASSED\u001b[0m\u001b[32m [ 54%]\u001b[0m\n",
      "tests/mutators/test_operators.py::TestBinaryOperationMutator::test_visit_BinOp_level_min[MatMult-text_out12] \u001b[32mPASSED\u001b[0m\u001b[32m [ 54%]\u001b[0m\n",
      "tests/test_config.py::TestGetPathFromConfig::test_empty_string \u001b[32mPASSED\u001b[0m\u001b[32m    [ 54%]\u001b[0m\n",
      "tests/mutators/test_constant.py::TestKeywordMutator::test_create_mutations[break-mutants1] \u001b[32mPASSED\u001b[0m\u001b[32m [ 55%]\u001b[0m\n",
      "tests/reporters/test_basic.py::TestReportSummary::test_all_found \u001b[32mPASSED\u001b[0m\u001b[32m  [ 55%]\u001b[0m\n",
      "tests/test_config.py::TestGetBoolFromConfig::test_values[None-False-False] \u001b[32mPASSED\u001b[0m\u001b[32m [ 55%]\u001b[0m\n",
      "tests/data_types/test_data.py::TestMutantTrialResult::test_mutant_trial_result \u001b[32mPASSED\u001b[0m\u001b[32m [ 56%]\u001b[0m\n",
      "tests/test_config.py::TestGetStrFromConfig::test_convert \u001b[32mPASSED\u001b[0m\u001b[32m          [ 56%]\u001b[0m\n",
      "tests/test_config.py::TestGetAnyListFromConfig::test_iterable \u001b[32mPASSED\u001b[0m\u001b[32m     [ 56%]\u001b[0m\n",
      "tests/test_mutate.py::TestFilter::test_is_filtered[mutation_args6-mutators6-True] \u001b[32mPASSED\u001b[0m\u001b[32m [ 57%]\u001b[0m\n",
      "tests/test_config.py::TestGetStrFromConfig::test_empty_string \u001b[32mPASSED\u001b[0m\u001b[32m     [ 57%]\u001b[0m\n",
      "tests/mutators/test_constant.py::TestNumberMutator::test_create_mutations[0b11-mutants3] \u001b[32mPASSED\u001b[0m\u001b[32m [ 57%]\u001b[0m\n",
      "tests/data_types/test_interfaces.py::TestMutator::test_get_location_eq_end_lineno_lt_end_col \u001b[32mPASSED\u001b[0m\u001b[32m [ 58%]\u001b[0m\n",
      "tests/mutators/test_constant.py::TestNumberMutator::test_create_mutations[0x3-mutants2] \u001b[32mPASSED\u001b[0m\u001b[32m [ 58%]\u001b[0m\n",
      "tests/mutators/test_operators.py::TestAugAssignMutator::test_visit_AugAssign_level_min[BitXor-text_out10] \u001b[32mPASSED\u001b[0m\u001b[32m [ 58%]\u001b[0m\n",
      "tests/test_config.py::TestGetOptionFromConfig::test_get_poodle_config_value \u001b[32mPASSED\u001b[0m\u001b[32m [ 59%]\u001b[0m\n",
      "tests/test_config.py::TestGetBoolFromConfig::test_values[False-True-False0] \u001b[32mPASSED\u001b[0m\u001b[32m [ 59%]\u001b[0m\n",
      "tests/test_util.py::TestPrint::test_pprint_str \u001b[32mPASSED\u001b[0m\u001b[32m                    [ 59%]\u001b[0m\n",
      "tests/mutators/test_operators.py::TestBinaryOperationMutator::test_visit_BinOp_level_std[FloorDiv-text_out4] \u001b[32mPASSED\u001b[0m\u001b[32m [ 60%]\u001b[0m\n",
      "tests/mutators/test_operators.py::TestBinaryOperationMutator::test_visit_BinOp_level_min[Mult-text_out2] \u001b[32mPASSED\u001b[0m\u001b[32m [ 60%]\u001b[0m\n",
      "tests/mutators/test_operators.py::TestBinaryOperationMutator::test_visit_BinOp_level_min[Add-text_out0] \u001b[32mPASSED\u001b[0m\u001b[32m [ 60%]\u001b[0m\n",
      "tests/test_config.py::TestMaxWorkers::test_default_max_workers_cpu \u001b[32mPASSED\u001b[0m\u001b[32m [ 61%]\u001b[0m\n",
      "tests/data_types/test_data.py::TestFileMutation::test_file_mutant \u001b[32mPASSED\u001b[0m\u001b[32m [ 61%]\u001b[0m\n",
      "tests/data_types/test_data.py::TestTestingSummary::test_iadd \u001b[32mPASSED\u001b[0m\u001b[32m      [ 61%]\u001b[0m\n",
      "tests/mutators/test_operators.py::TestBinaryOperationMutator::test_visit_BinOp_level_min[Pow-text_out6] \u001b[32mPASSED\u001b[0m\u001b[32m [ 62%]\u001b[0m\n",
      "tests/mutators/test_operators.py::TestBinaryOperationMutator::test_visit_BinOp_level_std[BitOr-text_out9] \u001b[32mPASSED\u001b[0m\u001b[32m [ 62%]\u001b[0m\n",
      "tests/test_config.py::TestGetPathListFromConfig::test_path_list \u001b[32mPASSED\u001b[0m\u001b[32m   [ 62%]\u001b[0m\n",
      "tests/mutators/test_operators.py::TestBinaryOperationMutator::test_visit_BinOp_level_max[BitXor-text_out10] \u001b[32mPASSED\u001b[0m\u001b[32m [ 63%]\u001b[0m\n",
      "tests/mutators/test_operators.py::TestAugAssignMutator::test_visit_AugAssign_level_max[Mod-text_out5] \u001b[32mPASSED\u001b[0m\u001b[32m [ 63%]\u001b[0m\n",
      "tests/test_config.py::TestGetConfigFileData::test_get_config_file_data_no_file \u001b[32mPASSED\u001b[0m\u001b[32m [ 63%]\u001b[0m\n",
      "tests/test_config.py::TestGetConfigFileDataToml::test_get_config_file_data_toml_no_data \u001b[32mPASSED\u001b[0m\u001b[32m [ 64%]\u001b[0m\n",
      "tests/mutators/test_calls.py::TestFunctionCallMutator::test_mutator_name \u001b[32mPASSED\u001b[0m\u001b[32m [ 64%]\u001b[0m\n",
      "tests/mutators/test_operators.py::TestBinaryOperationMutator::test_visit_BinOp_level_min[BitXor-text_out10] \u001b[32mPASSED\u001b[0m\u001b[32m [ 64%]\u001b[0m\n",
      "tests/runners/test_command_line.py::TestCommandLineRunner::test_rc_0 \u001b[32mPASSED\u001b[0m\u001b[32m [ 65%]\u001b[0m\n",
      "tests/mutators/test_compare.py::TestComparisonMutator::test_create_mutations_eq[a == b-mutants0] \u001b[32mPASSED\u001b[0m\u001b[32m [ 65%]\u001b[0m\n",
      "tests/test_config.py::TestGetConfigFileData::test_get_config_file_data_invalid \u001b[32mPASSED\u001b[0m\u001b[32m [ 65%]\u001b[0m\n",
      "tests/test_config.py::TestGetPathListFromConfig::test_not_iterable \u001b[32mPASSED\u001b[0m\u001b[32m [ 66%]\u001b[0m\n",
      "tests/test_util.py::test_logger \u001b[32mPASSED\u001b[0m\u001b[32m                                   [ 66%]\u001b[0m\n",
      "tests/test_util.py::TestFilesList::test_create_temp_zips \u001b[32mPASSED\u001b[0m\u001b[32m          [ 66%]\u001b[0m\n",
      "tests/mutators/test_compare.py::TestComparisonMutator::test_create_mutations_eq[a is not None-mutants6] \u001b[32mPASSED\u001b[0m\u001b[32m [ 66%]\u001b[0m\n",
      "tests/test_config.py::TestGetPathFromConfig::test_default \u001b[32mPASSED\u001b[0m\u001b[32m         [ 67%]\u001b[0m\n",
      "tests/data_types/test_interfaces.py::TestMutator::test_get_location_walk_no_location \u001b[32mPASSED\u001b[0m\u001b[32m [ 67%]\u001b[0m\n",
      "tests/test_config.py::TestGetBoolFromConfig::test_default[True] \u001b[32mPASSED\u001b[0m\u001b[32m   [ 67%]\u001b[0m\n",
      "tests/reporters/test_basic.py::TestReportSummary::test_not_found \u001b[32mPASSED\u001b[0m\u001b[32m  [ 68%]\u001b[0m\n",
      "tests/mutators/test_operators.py::TestBinaryOperationMutator::test_mutator_name \u001b[32mPASSED\u001b[0m\u001b[32m [ 68%]\u001b[0m\n",
      "tests/test_config.py::TestGetOptionFromConfig::test_get_command_line_value \u001b[32mPASSED\u001b[0m\u001b[32m [ 68%]\u001b[0m\n",
      "tests/mutators/test_operators.py::TestBinaryOperationMutator::test_visit_BinOp_level_max[Div-text_out3] \u001b[32mPASSED\u001b[0m\u001b[32m [ 69%]\u001b[0m\n",
      "tests/mutators/test_operators.py::TestAugAssignMutator::test_visit_AugAssign_level_std[LShift-text_out8] \u001b[32mPASSED\u001b[0m\u001b[32m [ 69%]\u001b[0m\n",
      "tests/test_config.py::TestGetStrListFromConfig::test_default \u001b[32mPASSED\u001b[0m\u001b[32m      [ 69%]\u001b[0m\n",
      "tests/test_mutate.py::TestFilter::test_is_filtered[mutation_args17-mutators17-False] \u001b[32mPASSED\u001b[0m\u001b[32m [ 70%]\u001b[0m\n",
      "tests/data_types/test_data.py::TestMutantTrialResult::test_mutant_trial_result_min \u001b[32mPASSED\u001b[0m\u001b[32m [ 70%]\u001b[0m\n",
      "tests/mutators/test_operators.py::TestBinaryOperationMutator::test_visit_BinOp_level_min[BitAnd-text_out11] \u001b[32mPASSED\u001b[0m\u001b[32m [ 70%]\u001b[0m\n",
      "tests/test_report.py::test_logger \u001b[32mPASSED\u001b[0m\u001b[32m                                 [ 71%]\u001b[0m\n",
      "tests/test_mutate.py::TestInit::test_initialize_mutator_obj \u001b[32mPASSED\u001b[0m\u001b[32m       [ 71%]\u001b[0m\n",
      "tests/mutators/test_calls.py::TestReturnMutator::test_return_mutator_none \u001b[32mPASSED\u001b[0m\u001b[32m [ 71%]\u001b[0m\n",
      "tests/test_config.py::TestGetSourceFolders::test_get_source_folders \u001b[32mPASSED\u001b[0m\u001b[32m [ 72%]\u001b[0m\n",
      "tests/test_mutate.py::TestFilter::test_is_filtered[mutation_args11-mutators11-False] \u001b[32mPASSED\u001b[0m\u001b[32m [ 72%]\u001b[0m\n",
      "tests/mutators/test_operators.py::TestAugAssignMutator::test_visit_AugAssign_level_std[Mult-text_out2] \u001b[32mPASSED\u001b[0m\u001b[32m [ 72%]\u001b[0m\n",
      "tests/test_config.py::TestGetStrFromConfig::test_default \u001b[32mPASSED\u001b[0m\u001b[32m          [ 73%]\u001b[0m\n",
      "tests/mutators/test_operators.py::TestBinaryOperationMutator::test_visit_BinOp_level_max[Add-text_out0] \u001b[32mPASSED\u001b[0m\u001b[32m [ 73%]\u001b[0m\n",
      "tests/mutators/test_operators.py::TestAugAssignMutator::test_visit_AugAssign_level_max[Pow-text_out6] \u001b[32mPASSED\u001b[0m\u001b[32m [ 73%]\u001b[0m\n",
      "tests/test_mutate.py::TestCreateMutants::test_get_target_files_only \u001b[32mPASSED\u001b[0m\u001b[32m [ 74%]\u001b[0m\n",
      "tests/test_mutate.py::TestInit::test_initialize_mutator_str_class \u001b[32mPASSED\u001b[0m\u001b[32m [ 74%]\u001b[0m\n",
      "tests/data_types/test_interfaces.py::TestMutator::test_get_location_lt_lineno \u001b[32mPASSED\u001b[0m\u001b[32m [ 74%]\u001b[0m\n",
      "tests/mutators/test_constant.py::TestKeywordMutator::test_create_mutations[True-mutants3] \u001b[32mPASSED\u001b[0m\u001b[32m [ 75%]\u001b[0m\n",
      "tests/mutators/test_operators.py::TestAugAssignMutator::test_visit_AugAssign_level_min[Sub-text_out1] \u001b[32mPASSED\u001b[0m\u001b[32m [ 75%]\u001b[0m\n",
      "tests/test_core.py::TestMain::test_main \u001b[32mPASSED\u001b[0m\u001b[32m                           [ 75%]\u001b[0m\n",
      "tests/test_config.py::TestGetPathListFromConfig::test_path \u001b[32mPASSED\u001b[0m\u001b[32m        [ 76%]\u001b[0m\n",
      "tests/test_core.py::TestMain::test_input_error \u001b[32mPASSED\u001b[0m\u001b[32m                    [ 76%]\u001b[0m\n",
      "tests/mutators/test_calls.py::TestReturnMutator::test_return_mutator \u001b[32mPASSED\u001b[0m\u001b[32m [ 76%]\u001b[0m\n",
      "tests/test_config.py::TestGetConfigFileData::test_get_config_file_data \u001b[32mPASSED\u001b[0m\u001b[32m [ 77%]\u001b[0m\n",
      "tests/data_types/test_interfaces.py::TestMutator::test_init \u001b[32mPASSED\u001b[0m\u001b[32m       [ 77%]\u001b[0m\n",
      "tests/data_types/test_interfaces.py::TestMutator::test_get_location_eq_lineno_gt_col \u001b[32mPASSED\u001b[0m\u001b[32m [ 77%]\u001b[0m\n",
      "tests/test_core.py::test_logger \u001b[32mPASSED\u001b[0m\u001b[32m                                   [ 78%]\u001b[0m\n",
      "tests/mutators/test_compare.py::TestComparisonMutator::test_create_mutations_eq[a not in d-mutants8] \u001b[32mPASSED\u001b[0m\u001b[32m [ 78%]\u001b[0m\n",
      "tests/mutators/test_unary_op.py::TestUnaryOperationMutator::test_create_mutations[not a-a] \u001b[32mPASSED\u001b[0m\u001b[32m [ 78%]\u001b[0m\n",
      "tests/test_config.py::TestGetStrListFromConfig::test_string_list_convert \u001b[32mPASSED\u001b[0m\u001b[32m [ 79%]\u001b[0m\n",
      "tests/test_config.py::TestGetDictFromConfig::test_config_data \u001b[32mPASSED\u001b[0m\u001b[32m     [ 79%]\u001b[0m\n",
      "tests/data_types/test_interfaces.py::TestMutator::test_create_file_mutation \u001b[32mPASSED\u001b[0m\u001b[32m [ 79%]\u001b[0m\n",
      "tests/mutators/test_operators.py::TestAugAssignMutator::test_visit_AugAssign_level_std[FloorDiv-text_out4] \u001b[32mPASSED\u001b[0m\u001b[32m [ 80%]\u001b[0m\n",
      "tests/data_types/test_interfaces.py::TestMutator::test_get_location \u001b[32mPASSED\u001b[0m\u001b[32m [ 80%]\u001b[0m\n",
      "tests/mutators/test_operators.py::TestAugAssignMutator::test_visit_AugAssign_level_std[Div-text_out3] \u001b[32mPASSED\u001b[0m\u001b[32m [ 80%]\u001b[0m\n",
      "tests/mutators/test_operators.py::TestAugAssignMutator::test_visit_AugAssign_level_min[BitAnd-text_out11] \u001b[32mPASSED\u001b[0m\u001b[32m [ 81%]\u001b[0m\n",
      "tests/data_types/test_interfaces.py::TestMutator::test_get_location_eq_lineno_lt_col \u001b[32mPASSED\u001b[0m\u001b[32m [ 81%]\u001b[0m\n",
      "tests/mutators/test_operators.py::TestBinaryOperationMutator::test_visit_BinOp_level_std[Mult-text_out2] \u001b[32mPASSED\u001b[0m\u001b[32m [ 81%]\u001b[0m\n",
      "tests/test_config.py::TestGetDictFromConfig::test_default_only \u001b[32mPASSED\u001b[0m\u001b[32m    [ 82%]\u001b[0m\n",
      "tests/mutators/test_compare.py::TestComparisonMutator::test_filter_compare \u001b[32mPASSED\u001b[0m\u001b[32m [ 82%]\u001b[0m\n",
      "tests/test_report.py::TestReporters::test_generate_reporters \u001b[32mPASSED\u001b[0m\u001b[32m      [ 82%]\u001b[0m\n",
      "tests/mutators/test_operators.py::TestAugAssignMutator::test_visit_AugAssign_level_max[MatMult-text_out12] \u001b[32mPASSED\u001b[0m\u001b[32m [ 83%]\u001b[0m\n",
      "tests/test_mutate.py::TestFilter::test_is_filtered[mutation_args2-mutators2-True] \u001b[32mPASSED\u001b[0m\u001b[32m [ 83%]\u001b[0m\n",
      "tests/test_mutate.py::TestCreateMutants::test_create_mutants_for_file \u001b[32mPASSED\u001b[0m\u001b[32m [ 83%]\u001b[0m\n",
      "tests/test_mutate.py::TestFilter::test_is_filtered[mutation_args13-mutators13-False] \u001b[32mPASSED\u001b[0m\u001b[32m [ 84%]\u001b[0m\n",
      "tests/test_config.py::TestGetStrFromConfig::test_default_inputs \u001b[32mPASSED\u001b[0m\u001b[32m   [ 84%]\u001b[0m\n",
      "tests/data_types/test_data.py::TestTestingResults::test_testing_results \u001b[32mPASSED\u001b[0m\u001b[32m [ 84%]\u001b[0m\n",
      "tests/mutators/test_calls.py::TestDictArrayCallMutator::test_skip_annotation_on_assign \u001b[32mPASSED\u001b[0m\u001b[32m [ 85%]\u001b[0m\n",
      "tests/test_config.py::TestGetAnyFromConfig::test_default \u001b[32mPASSED\u001b[0m\u001b[32m          [ 85%]\u001b[0m\n",
      "tests/mutators/test_operators.py::TestAugAssignMutator::test_visit_AugAssign_level_std[Add-text_out0] \u001b[32mPASSED\u001b[0m\u001b[32m [ 85%]\u001b[0m\n",
      "tests/data_types/test_interfaces.py::test_reporter \u001b[32mPASSED\u001b[0m\u001b[32m                [ 86%]\u001b[0m\n",
      "tests/test_config.py::TestGetConfigFilePath::test_get_config_file_path_poodle \u001b[32mPASSED\u001b[0m\u001b[32m [ 86%]\u001b[0m\n",
      "tests/test_mutate.py::TestFilter::test_is_filtered[mutation_args3-mutators3-True] \u001b[32mPASSED\u001b[0m\u001b[32m [ 86%]\u001b[0m\n",
      "tests/test_config.py::TestGetCommandLineLoggingOptions::test_get_cmd_line_log_level[-None] \u001b[32mPASSED\u001b[0m\u001b[32m [ 87%]\u001b[0m\n",
      "tests/test_config.py::TestBuildConfig::test_build_config \u001b[32mPASSED\u001b[0m\u001b[32m          [ 87%]\u001b[0m\n",
      "tests/mutators/test_operators.py::TestBinaryOperationMutator::test_visit_BinOp_level_std[BitXor-text_out10] \u001b[32mPASSED\u001b[0m\u001b[32m [ 87%]\u001b[0m\n",
      "tests/test_config.py::TestGetAnyListFromConfig::test_default \u001b[32mPASSED\u001b[0m\u001b[32m      [ 88%]\u001b[0m\n",
      "tests/test_config.py::TestGetIntFromConfig::test_default \u001b[32mPASSED\u001b[0m\u001b[32m          [ 88%]\u001b[0m\n",
      "tests/test_config.py::TestGetPathListFromConfig::test_string_list \u001b[32mPASSED\u001b[0m\u001b[32m [ 88%]\u001b[0m\n",
      "tests/mutators/test_operators.py::TestAugAssignMutator::test_visit_AugAssign_level_min[Div-text_out3] \u001b[32mPASSED\u001b[0m\u001b[32m [ 89%]\u001b[0m\n",
      "tests/mutators/test_operators.py::TestAugAssignMutator::test_visit_AugAssign_level_min[FloorDiv-text_out4] \u001b[32mPASSED\u001b[0m\u001b[32m [ 89%]\u001b[0m\n",
      "tests/mutators/test_operators.py::TestAugAssignMutator::test_visit_AugAssign_level_std[BitXor-text_out10] \u001b[32mPASSED\u001b[0m\u001b[32m [ 89%]\u001b[0m\n",
      "tests/mutators/test_operators.py::TestAugAssignMutator::test_visit_AugAssign_level_min[Mod-text_out5] \u001b[32mPASSED\u001b[0m\u001b[32m [ 90%]\u001b[0m\n",
      "tests/mutators/test_operators.py::TestAugAssignMutator::test_visit_AugAssign_level_max[Mult-text_out2] \u001b[32mPASSED\u001b[0m\u001b[32m [ 90%]\u001b[0m\n",
      "tests/test_mutate.py::TestFilter::test_is_filtered[mutation_args16-mutators16-False] \u001b[32mPASSED\u001b[0m\u001b[32m [ 90%]\u001b[0m\n",
      "tests/mutators/test_calls.py::TestDictArrayCallMutator::test_skip_annotation_in_function \u001b[32mPASSED\u001b[0m\u001b[32m [ 91%]\u001b[0m\n",
      "tests/test_config.py::TestGetConfigFilePath::test_get_config_file_path_cmd_line_not_found \u001b[32mPASSED\u001b[0m\u001b[32m [ 91%]\u001b[0m\n",
      "tests/runners/test_command_line.py::TestCommandLineRunner::test_unset_path \u001b[32mPASSED\u001b[0m\u001b[32m [ 91%]\u001b[0m\n",
      "tests/mutators/test_operators.py::TestAugAssignMutator::test_visit_AugAssign_level_std[Sub-text_out1] \u001b[32mPASSED\u001b[0m\u001b[32m [ 92%]\u001b[0m\n",
      "tests/test_config.py::TestGetPathListFromConfig::test_string \u001b[32mPASSED\u001b[0m\u001b[32m      [ 92%]\u001b[0m\n",
      "tests/data_types/test_interfaces.py::TestMutator::test_get_location_eq_end_lineno_gt_end_col \u001b[32mPASSED\u001b[0m\u001b[32m [ 92%]\u001b[0m\n",
      "tests/mutators/test_operators.py::TestOperationMutator::test_init_default \u001b[32mPASSED\u001b[0m\u001b[32m [ 93%]\u001b[0m\n",
      "tests/data_types/test_work.py::TestPoodleWork::test_poodle_work \u001b[32mPASSED\u001b[0m\u001b[32m   [ 93%]\u001b[0m\n",
      "tests/mutators/test_operators.py::TestBinaryOperationMutator::test_visit_BinOp_level_std[Pow-text_out6] \u001b[32mPASSED\u001b[0m\u001b[32m [ 93%]\u001b[0m\n",
      "tests/mutators/test_operators.py::TestAugAssignMutator::test_visit_AugAssign_level_max[FloorDiv-text_out4] \u001b[32mPASSED\u001b[0m\u001b[32m [ 94%]\u001b[0m\n",
      "tests/test_config.py::TestGetPathListFromConfig::test_not_path \u001b[32mPASSED\u001b[0m\u001b[32m    [ 94%]\u001b[0m\n",
      "tests/data_types/test_work.py::TestPoodleWork::test_poodle_work_no_echo \u001b[32mPASSED\u001b[0m\u001b[32m [ 94%]\u001b[0m\n",
      "tests/test_mutate.py::TestFilter::test_is_filtered[mutation_args10-mutators10-False] \u001b[32mPASSED\u001b[0m\u001b[32m [ 95%]\u001b[0m\n",
      "tests/mutators/test_constant.py::TestKeywordMutator::test_create_mutations[continue-mutants0] \u001b[32mPASSED\u001b[0m\u001b[32m [ 95%]\u001b[0m\n",
      "tests/test_core.py::TestMain::test_trial_error \u001b[32mPASSED\u001b[0m\u001b[32m                    [ 95%]\u001b[0m\n",
      "tests/test_config.py::TestGetCommandLineLoggingOptions::test_get_cmd_line_echo_enabled[vv-True] \u001b[32mPASSED\u001b[0m\u001b[32m [ 96%]\u001b[0m\n",
      "tests/test_config.py::TestGetAnyListFromConfig::test_string \u001b[32mPASSED\u001b[0m\u001b[32m       [ 96%]\u001b[0m\n",
      "tests/mutators/test_operators.py::TestBinaryOperationMutator::test_visit_BinOp_level_min[Div-text_out3] \u001b[32mPASSED\u001b[0m\u001b[32m [ 96%]\u001b[0m\n",
      "tests/test_config.py::TestGetPathFromConfig::test_string \u001b[32mPASSED\u001b[0m\u001b[32m          [ 97%]\u001b[0m\n",
      "tests/test_config.py::TestGetIntFromConfig::test_str_to_int \u001b[32mPASSED\u001b[0m\u001b[32m       [ 97%]\u001b[0m\n",
      "tests/test_config.py::TestGetDictFromConfig::test_config_data_invalid \u001b[32mPASSED\u001b[0m\u001b[32m [ 97%]\u001b[0m\n",
      "tests/mutators/test_operators.py::TestBinaryOperationMutator::test_visit_BinOp_level_max[FloorDiv-text_out4] \u001b[32mPASSED\u001b[0m\u001b[32m [ 98%]\u001b[0m\n",
      "tests/test_util.py::TestPrint::test_pprint_str_mock \u001b[32mPASSED\u001b[0m\u001b[32m               [ 98%]\u001b[0m\n",
      "tests/mutators/test_operators.py::TestBinaryOperationMutator::test_visit_BinOp_level_std[Mod-text_out5] \u001b[32mPASSED\u001b[0m\u001b[32m [ 98%]\u001b[0m\n",
      "tests/mutators/test_compare.py::TestComparisonMutator::test_create_mutations_eq[a and d-mutants10] \u001b[32mPASSED\u001b[0m\u001b[32m [ 99%]\u001b[0m\n",
      "tests/test_config.py::TestGetCommandLineLoggingOptions::test_get_cmd_line_log_level[v-20] \u001b[32mPASSED\u001b[0m\u001b[32m [ 99%]\u001b[0m\n",
      "tests/mutators/test_constant.py::TestNumberMutator::test_create_mutations[0.0-mutants5] \u001b[32mPASSED\u001b[0m\u001b[32m [ 99%]\u001b[0m\n",
      "tests/test_config.py::TestGetCommandLineLoggingOptions::test_get_cmd_line_echo_enabled[v-True] \u001b[32mPASSED\u001b[0m\u001b[32m [100%]\u001b[0m\n",
      "\n",
      "---------- coverage: platform win32, python 3.12.0-final-0 -----------\n",
      "Name                                  Stmts   Miss Branch BrPart  Cover\n",
      "-----------------------------------------------------------------------\n",
      "src\\poodle\\__init__.py                    8      1      2      0    90%\n",
      "src\\poodle\\cli.py                        23     23     22      0     0%\n",
      "src\\poodle\\config.py                    166      2     64      2    98%\n",
      "src\\poodle\\core.py                       26      0     10      0   100%\n",
      "src\\poodle\\data_types\\data.py            71      0     24      1    99%\n",
      "src\\poodle\\data_types\\interfaces.py      42      0     28      1    99%\n",
      "src\\poodle\\data_types\\work.py            17      0      4      0   100%\n",
      "src\\poodle\\mutate.py                     64      0     28      0   100%\n",
      "src\\poodle\\mutators\\calls.py             60      0     10      1    99%\n",
      "src\\poodle\\mutators\\compare.py           31      1     14      1    96%\n",
      "src\\poodle\\mutators\\constant.py          51      0     18      1    99%\n",
      "src\\poodle\\mutators\\operators.py         33      0      6      0   100%\n",
      "src\\poodle\\mutators\\unary_op.py          14      0      6      0   100%\n",
      "src\\poodle\\report.py                      9      0      6      1    93%\n",
      "src\\poodle\\reporters\\basic.py            27      0     14      0   100%\n",
      "src\\poodle\\run.py                        61     54     18      0     9%\n",
      "src\\poodle\\runners\\command_line.py       12      0      6      0   100%\n",
      "src\\poodle\\util.py                       30      0      8      0   100%\n",
      "-----------------------------------------------------------------------\n",
      "TOTAL                                   745     81    288      8    88%\n",
      "\n",
      "4 empty files skipped.\n",
      "Coverage HTML written to dir reports/coverage\n",
      "Coverage JSON written to file code-coverage.json\n",
      "\n",
      "\n",
      "\u001b[32m============================= \u001b[32m\u001b[1m303 passed\u001b[0m\u001b[32m in 3.82s\u001b[0m\u001b[32m =============================\u001b[0m\n"
     ]
    }
   ],
   "source": [
    "!pytest --cov=src\n",
    "# !start reports/coverage/index.html"
   ]
  },
  {
   "cell_type": "code",
   "execution_count": 116,
   "metadata": {},
   "outputs": [],
   "source": [
    "!isort src --check --diff"
   ]
  },
  {
   "cell_type": "code",
   "execution_count": 117,
   "metadata": {},
   "outputs": [],
   "source": [
    "!isort tests --check --diff"
   ]
  },
  {
   "cell_type": "code",
   "execution_count": 119,
   "metadata": {},
   "outputs": [
    {
     "name": "stderr",
     "output_type": "stream",
     "text": [
      "All done! ✨ 🍰 ✨\n",
      "22 files would be left unchanged.\n"
     ]
    }
   ],
   "source": [
    "!black --check src --diff"
   ]
  },
  {
   "cell_type": "code",
   "execution_count": 122,
   "metadata": {},
   "outputs": [
    {
     "name": "stderr",
     "output_type": "stream",
     "text": [
      "All done! ✨ 🍰 ✨\n",
      "20 files would be left unchanged.\n"
     ]
    }
   ],
   "source": [
    "!black --check tests --diff"
   ]
  },
  {
   "cell_type": "code",
   "execution_count": 123,
   "metadata": {},
   "outputs": [
    {
     "name": "stderr",
     "output_type": "stream",
     "text": [
      "42 files left unchanged\n"
     ]
    }
   ],
   "source": [
    "!ruff format --diff src tests"
   ]
  },
  {
   "cell_type": "code",
   "execution_count": 125,
   "metadata": {},
   "outputs": [
    {
     "name": "stdout",
     "output_type": "stream",
     "text": [
      "\u001b[1m\u001b[92mSuccess: no issues found in 42 source files\u001b[0m\n"
     ]
    }
   ],
   "source": [
    "!mypy src tests --python-version 3.9"
   ]
  },
  {
   "cell_type": "code",
   "execution_count": 126,
   "metadata": {},
   "outputs": [
    {
     "name": "stdout",
     "output_type": "stream",
     "text": [
      "\u001b[1m\u001b[92mSuccess: no issues found in 42 source files\u001b[0m\n"
     ]
    }
   ],
   "source": [
    "!mypy src tests --python-version 3.10"
   ]
  },
  {
   "cell_type": "code",
   "execution_count": 127,
   "metadata": {},
   "outputs": [
    {
     "name": "stdout",
     "output_type": "stream",
     "text": [
      "\u001b[1m\u001b[92mSuccess: no issues found in 42 source files\u001b[0m\n"
     ]
    }
   ],
   "source": [
    "!mypy src tests --python-version 3.11"
   ]
  },
  {
   "cell_type": "code",
   "execution_count": 128,
   "metadata": {},
   "outputs": [
    {
     "name": "stdout",
     "output_type": "stream",
     "text": [
      "\u001b[1m\u001b[92mSuccess: no issues found in 42 source files\u001b[0m\n"
     ]
    }
   ],
   "source": [
    "!mypy src tests --python-version 3.12"
   ]
  },
  {
   "cell_type": "code",
   "execution_count": 131,
   "metadata": {},
   "outputs": [],
   "source": [
    "!ruff check --show-source src"
   ]
  },
  {
   "cell_type": "code",
   "execution_count": 132,
   "metadata": {},
   "outputs": [],
   "source": [
    "!ruff check --diff src"
   ]
  },
  {
   "cell_type": "code",
   "execution_count": 134,
   "metadata": {},
   "outputs": [],
   "source": [
    "!ruff check --show-source tests"
   ]
  },
  {
   "cell_type": "code",
   "execution_count": 135,
   "metadata": {},
   "outputs": [],
   "source": [
    "!ruff check --diff tests"
   ]
  },
  {
   "cell_type": "code",
   "execution_count": null,
   "metadata": {},
   "outputs": [],
   "source": [
    "!cd example && pytest"
   ]
  },
  {
   "cell_type": "code",
   "execution_count": null,
   "metadata": {},
   "outputs": [],
   "source": [
    "# pip install build setuptools twine --upgrade\n",
    "# py -m build\n",
    "# twine upload --repository pypi dist/*"
   ]
  },
  {
   "cell_type": "code",
   "execution_count": null,
   "metadata": {},
   "outputs": [],
   "source": []
  }
 ],
 "metadata": {
  "kernelspec": {
   "display_name": ".venv",
   "language": "python",
   "name": "python3"
  },
  "language_info": {
   "codemirror_mode": {
    "name": "ipython",
    "version": 3
   },
   "file_extension": ".py",
   "mimetype": "text/x-python",
   "name": "python",
   "nbconvert_exporter": "python",
   "pygments_lexer": "ipython3",
   "version": "3.12.0"
  }
 },
 "nbformat": 4,
 "nbformat_minor": 2
}
